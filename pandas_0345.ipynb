{
  "nbformat": 4,
  "nbformat_minor": 0,
  "metadata": {
    "colab": {
      "name": "pandas.0345",
      "provenance": [],
      "authorship_tag": "ABX9TyMTk0zy/pB3uQ2Y+YuF4adc",
      "include_colab_link": true
    },
    "kernelspec": {
      "name": "python3",
      "display_name": "Python 3"
    },
    "language_info": {
      "name": "python"
    }
  },
  "cells": [
    {
      "cell_type": "markdown",
      "metadata": {
        "id": "view-in-github",
        "colab_type": "text"
      },
      "source": [
        "<a href=\"https://colab.research.google.com/github/ssirapar/python-programs/blob/main/pandas_0345.ipynb\" target=\"_parent\"><img src=\"https://colab.research.google.com/assets/colab-badge.svg\" alt=\"Open In Colab\"/></a>"
      ]
    },
    {
      "cell_type": "code",
      "execution_count": 1,
      "metadata": {
        "colab": {
          "base_uri": "https://localhost:8080/"
        },
        "id": "-ZCef-M1zE2I",
        "outputId": "eb9e9d07-b879-4e53-fc78-0d37c24e6a77"
      },
      "outputs": [
        {
          "output_type": "stream",
          "name": "stdout",
          "text": [
            "  companies location\n",
            "0    Amazon      Hyd\n",
            "1     Wipro      Vsp\n",
            "2   Adantel      Blr\n",
            "3     Adobe  Chennai\n"
          ]
        }
      ],
      "source": [
        "import pandas\n",
        "myData = {'companies':['Amazon','Wipro','Adantel','Adobe'],'location':['Hyd','Vsp','Blr','Chennai']}\n",
        "a = pandas.DataFrame(myData)\n",
        "print(a)"
      ]
    },
    {
      "cell_type": "code",
      "source": [
        "#2. pandas as pd\n",
        "\n",
        "import pandas as pd\n",
        "myData = {'companies':['Amazon','Wipro','Adantel','Adobe'],'location':['Hyd','Vsp','Blr','Chennai']}\n",
        "progData = pd.DataFrame(myData)\n",
        "print(progData)\n"
      ],
      "metadata": {
        "colab": {
          "base_uri": "https://localhost:8080/"
        },
        "id": "pe3zZGff0BAU",
        "outputId": "c05358ad-d2d2-48e3-c6ae-9e83a43fdf5a"
      },
      "execution_count": 3,
      "outputs": [
        {
          "output_type": "stream",
          "name": "stdout",
          "text": [
            "  companies location\n",
            "0    Amazon      Hyd\n",
            "1     Wipro      Vsp\n",
            "2   Adantel      Blr\n",
            "3     Adobe  Chennai\n"
          ]
        }
      ]
    },
    {
      "cell_type": "code",
      "source": [
        "#3. Check version\n",
        "import pandas as pd\n",
        "\n",
        "print(pd.__version__)"
      ],
      "metadata": {
        "colab": {
          "base_uri": "https://localhost:8080/"
        },
        "id": "9Z5GXxA80J3r",
        "outputId": "fcea666a-e5a7-4b16-ff70-60e3640eb6b2"
      },
      "execution_count": 4,
      "outputs": [
        {
          "output_type": "stream",
          "name": "stdout",
          "text": [
            "1.3.5\n"
          ]
        }
      ]
    },
    {
      "cell_type": "code",
      "source": [
        "#4. Pandas series (One dimensional array. Holds data of anytype)\n",
        "import pandas as pd\n",
        "\n",
        "marks = [28,29.5,12,15]\n",
        "\n",
        "mymarks = pd.Series(marks)\n",
        "\n",
        "print(mymarks)"
      ],
      "metadata": {
        "colab": {
          "base_uri": "https://localhost:8080/"
        },
        "id": "JtefbkLW0Ra7",
        "outputId": "ebe75e5c-cabd-4e76-b423-971d843df5fc"
      },
      "execution_count": 5,
      "outputs": [
        {
          "output_type": "stream",
          "name": "stdout",
          "text": [
            "0    28.0\n",
            "1    29.5\n",
            "2    12.0\n",
            "3    15.0\n",
            "dtype: float64\n"
          ]
        }
      ]
    },
    {
      "cell_type": "code",
      "source": [
        "#5. Returning specific value\n",
        "import pandas as pd\n",
        "\n",
        "marks = [28,29.5,12,15]\n",
        "\n",
        "mymarks = pd.Series(marks)\n",
        "\n",
        "print(mymarks)\n",
        "print(mymarks[1])\n"
      ],
      "metadata": {
        "colab": {
          "base_uri": "https://localhost:8080/"
        },
        "id": "1YBBWFiY0U7q",
        "outputId": "88671056-c86f-4ed1-b83f-53c14496cf5d"
      },
      "execution_count": 6,
      "outputs": [
        {
          "output_type": "stream",
          "name": "stdout",
          "text": [
            "0    28.0\n",
            "1    29.5\n",
            "2    12.0\n",
            "3    15.0\n",
            "dtype: float64\n",
            "29.5\n"
          ]
        }
      ]
    },
    {
      "cell_type": "code",
      "source": [
        "#6. Indexing the data in a single column\n",
        "import pandas as pd\n",
        "\n",
        "marks = [28, 29.5, 15]\n",
        "\n",
        "mymarks = pd.Series(marks, index = [\"prasanna\", \"pranav\", \"prameela\"])\n",
        "\n",
        "print(mymarks)"
      ],
      "metadata": {
        "colab": {
          "base_uri": "https://localhost:8080/"
        },
        "id": "_iWrrMLq0ek9",
        "outputId": "a8b09e90-3b05-4086-a31f-9e517969bcde"
      },
      "execution_count": 7,
      "outputs": [
        {
          "output_type": "stream",
          "name": "stdout",
          "text": [
            "prasanna    28.0\n",
            "pranav      29.5\n",
            "prameela    15.0\n",
            "dtype: float64\n"
          ]
        }
      ]
    },
    {
      "cell_type": "code",
      "source": [
        "#7. Getting the data for a specific index\n",
        "\n",
        "import pandas as pd\n",
        "\n",
        "marks = [28, 29.5, 15]\n",
        "\n",
        "mymarks = pd.Series(marks, index = [\"prasanna\", \"pranavi\", \"pramodh\"])\n",
        "\n",
        "print(mymarks)\n",
        "print(mymarks[\"pramodh\"])\n"
      ],
      "metadata": {
        "colab": {
          "base_uri": "https://localhost:8080/"
        },
        "id": "pAjKU2gf0l_p",
        "outputId": "e92844ac-a689-47bf-ae80-100802bd0e8d"
      },
      "execution_count": 8,
      "outputs": [
        {
          "output_type": "stream",
          "name": "stdout",
          "text": [
            "prasanna    28.0\n",
            "pranavi     29.5\n",
            "pramodh     15.0\n",
            "dtype: float64\n",
            "15.0\n"
          ]
        }
      ]
    },
    {
      "cell_type": "code",
      "source": [
        "#8. Create a simple Pandas Series from a dictionary: The keys of the dictionary become the labels.\n",
        "import pandas as pd\n",
        "\n",
        "daywisePrograms = {\"day1\": 12, \"day2\": 10, \"day3\": 8}\n",
        "\n",
        "myvar = pd.Series(daywisePrograms)\n",
        "\n",
        "print(myvar)"
      ],
      "metadata": {
        "colab": {
          "base_uri": "https://localhost:8080/"
        },
        "id": "Q_Wo6fGE0vsX",
        "outputId": "99d3f968-77dd-4c00-b20e-f771c8e092a9"
      },
      "execution_count": 9,
      "outputs": [
        {
          "output_type": "stream",
          "name": "stdout",
          "text": [
            "day1    12\n",
            "day2    10\n",
            "day3     8\n",
            "dtype: int64\n"
          ]
        }
      ]
    },
    {
      "cell_type": "code",
      "source": [
        "#9. Print only limited data as per the labels:\n",
        "import pandas as pd\n",
        "\n",
        "daywisePrograms = {\"day1\": 12, \"day2\": 10, \"day3\": 8}\n",
        "\n",
        "a = pd.Series(daywisePrograms,index=[\"day1\",\"day2\"])\n",
        "\n",
        "print(a)"
      ],
      "metadata": {
        "colab": {
          "base_uri": "https://localhost:8080/"
        },
        "id": "a6BKdLDv030I",
        "outputId": "f8c12fe2-1ba1-4fb7-cda5-eb444af65ca8"
      },
      "execution_count": 10,
      "outputs": [
        {
          "output_type": "stream",
          "name": "stdout",
          "text": [
            "day1    12\n",
            "day2    10\n",
            "dtype: int64\n"
          ]
        }
      ]
    },
    {
      "cell_type": "code",
      "source": [
        "#10. Data sets in Pandas are usually multi-dimensional tables, called DataFrames. Series is like a column, a DataFrame is the whole table.\n",
        "#Create a DataFrame from two Series:\n",
        "\n",
        "import pandas as pd\n",
        "\n",
        "empPublications = {\n",
        "  \"Employees\": [\"Raman\", \"Ranjan\", \"Ramani\"],\n",
        "  \"Publications\": [50, 40, 45]\n",
        "}\n",
        "\n",
        "myvar = pd.DataFrame(empPublications)\n",
        "\n",
        "print(myvar)"
      ],
      "metadata": {
        "colab": {
          "base_uri": "https://localhost:8080/"
        },
        "id": "QuUktSd90_aR",
        "outputId": "8b375e48-26e7-4efc-c457-b7b541640072"
      },
      "execution_count": 11,
      "outputs": [
        {
          "output_type": "stream",
          "name": "stdout",
          "text": [
            "  Employees  Publications\n",
            "0     Raman            50\n",
            "1    Ranjan            40\n",
            "2    Ramani            45\n"
          ]
        }
      ]
    },
    {
      "cell_type": "code",
      "source": [
        "#11.As you can see from the result above, the DataFrame is like a table with rows and columns.Pandas use the loc attribute to return one or more specified row(s)\n",
        "print(myvar.loc[0])\n"
      ],
      "metadata": {
        "colab": {
          "base_uri": "https://localhost:8080/"
        },
        "id": "0QVl6BWh1IoC",
        "outputId": "b271a26f-4ad3-420b-8c07-e3336d24fb41"
      },
      "execution_count": 12,
      "outputs": [
        {
          "output_type": "stream",
          "name": "stdout",
          "text": [
            "Employees       Raman\n",
            "Publications       50\n",
            "Name: 0, dtype: object\n"
          ]
        }
      ]
    },
    {
      "cell_type": "code",
      "source": [
        "#12.Return row 0 and 1. When using [], the result is a Pandas DataFrame.\n",
        "print(myvar.loc[[0,1]])"
      ],
      "metadata": {
        "colab": {
          "base_uri": "https://localhost:8080/"
        },
        "id": "3Ws56iUp1Qph",
        "outputId": "2b30f721-ec07-495d-814b-995860e4f106"
      },
      "execution_count": 13,
      "outputs": [
        {
          "output_type": "stream",
          "name": "stdout",
          "text": [
            "  Employees  Publications\n",
            "0     Raman            50\n",
            "1    Ranjan            40\n"
          ]
        }
      ]
    },
    {
      "cell_type": "code",
      "source": [
        "#13.With the index argument, you can name your own indexes.\n",
        "import pandas as pd\n",
        "\n",
        "empPublications = {\n",
        "  \"Employees\": [\"Raman\", \"Ranjan\", \"Ramani\"],\n",
        "  \"Publications\": [50, 40, 45]\n",
        "}\n",
        "\n",
        "myvar = pd.DataFrame(empPublications,index=[\"2001\",\"2002\",\"2003\"])\n",
        "\n",
        "\n",
        "print(myvar)\n"
      ],
      "metadata": {
        "colab": {
          "base_uri": "https://localhost:8080/"
        },
        "id": "ABFj4lF81sP0",
        "outputId": "5118f8ed-c2e8-433f-906a-4c210c13d406"
      },
      "execution_count": 14,
      "outputs": [
        {
          "output_type": "stream",
          "name": "stdout",
          "text": [
            "     Employees  Publications\n",
            "2001     Raman            50\n",
            "2002    Ranjan            40\n",
            "2003    Ramani            45\n"
          ]
        }
      ]
    },
    {
      "cell_type": "code",
      "source": [
        "#Use the named index in the loc attribute to return the specified row(s).\n",
        "print(myvar.loc[\"2001\"])"
      ],
      "metadata": {
        "colab": {
          "base_uri": "https://localhost:8080/"
        },
        "id": "okEaXbk_1_oJ",
        "outputId": "5bc0a2fa-16d1-48a4-8c62-5a30ad5b8af4"
      },
      "execution_count": 15,
      "outputs": [
        {
          "output_type": "stream",
          "name": "stdout",
          "text": [
            "Employees       Raman\n",
            "Publications       50\n",
            "Name: 2001, dtype: object\n"
          ]
        }
      ]
    },
    {
      "cell_type": "code",
      "source": [
        "#Load Files Into a DataFrame. If your data sets are stored in a file, Pandas can load them into a DataFrame.\n",
        "#Load a comma separated file (CSV file) into a DataFrame:\n",
        "\n",
        "import pandas as pd\n",
        "\n",
        "df = pd.read_csv('data.csv')\n",
        "\n",
        "print(df) "
      ],
      "metadata": {
        "id": "P4cFv4gT2gJI"
      },
      "execution_count": null,
      "outputs": []
    },
    {
      "cell_type": "code",
      "source": [
        "#If you have a large DataFrame with many rows, Pandas will only return the first 5 rows, and the last 5 rows:\n",
        "#use to_string() to print the entire DataFrame.\n",
        "import pandas as pd\n",
        "\n",
        "df = pd.read_csv('data.csv')\n",
        "\n",
        "print(df.to_string()) \n"
      ],
      "metadata": {
        "id": "nDUIROHA0dHu"
      },
      "execution_count": null,
      "outputs": []
    },
    {
      "cell_type": "code",
      "source": [
        "#Check the number of maximum returned rows:\n",
        "#In my system the number is 60, which means that if the DataFrame contains more than 60 rows, the print(df) statement will return only the headers and the first and last 5 rows.\n",
        "#You can change the maximum rows number with the same statement.\n",
        "#Increase the maximum number of rows to display the entire DataFrame:\n",
        "\n",
        "import pandas as pd\n",
        "\n",
        "pd.options.display.max_rows = 9999\n",
        "\n",
        "df = pd.read_csv('data.csv')\n",
        "\n",
        "print(df) "
      ],
      "metadata": {
        "id": "QZdfwLAf2qww"
      },
      "execution_count": null,
      "outputs": []
    }
  ]
}