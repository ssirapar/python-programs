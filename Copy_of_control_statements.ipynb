{
  "nbformat": 4,
  "nbformat_minor": 0,
  "metadata": {
    "colab": {
      "name": "Copy of control statements",
      "provenance": [],
      "collapsed_sections": [],
      "authorship_tag": "ABX9TyPvyVe37RaKhuf1+adk3Zw9",
      "include_colab_link": true
    },
    "kernelspec": {
      "name": "python3",
      "display_name": "Python 3"
    },
    "language_info": {
      "name": "python"
    }
  },
  "cells": [
    {
      "cell_type": "markdown",
      "metadata": {
        "id": "view-in-github",
        "colab_type": "text"
      },
      "source": [
        "<a href=\"https://colab.research.google.com/github/ssirapar/python-programs/blob/main/Copy_of_control_statements.ipynb\" target=\"_parent\"><img src=\"https://colab.research.google.com/assets/colab-badge.svg\" alt=\"Open In Colab\"/></a>"
      ]
    },
    {
      "cell_type": "code",
      "execution_count": null,
      "metadata": {
        "colab": {
          "base_uri": "https://localhost:8080/"
        },
        "id": "aoUAqcoMp5tm",
        "outputId": "717d821c-240d-4d7d-f7f9-46ee7a52a8f3"
      },
      "outputs": [
        {
          "output_type": "stream",
          "name": "stdout",
          "text": [
            "you are eligible for voting\n"
          ]
        }
      ],
      "source": [
        "a=20\n",
        "if a>18:\n",
        "         print(\"you are eligible for voting\")\n",
        "else:\n",
        "       print(\"you are not eligible\")"
      ]
    },
    {
      "cell_type": "code",
      "source": [
        "a=int(input(\"enter your age\"))\n",
        "if a>=18:\n",
        "   print(\"you are eligible for voting\")\n",
        "else:\n",
        "   print(\"you are not eligible\")"
      ],
      "metadata": {
        "colab": {
          "base_uri": "https://localhost:8080/"
        },
        "id": "_IgFT17ar2uI",
        "outputId": "eb44f9ff-3d72-4b80-fa07-e18682d61869"
      },
      "execution_count": null,
      "outputs": [
        {
          "output_type": "stream",
          "name": "stdout",
          "text": [
            "enter your age24\n",
            "you are eligible for voting\n"
          ]
        }
      ]
    },
    {
      "cell_type": "code",
      "source": [
        "a=int(input(\"enter the number\"))\n",
        "b=int(input(\"enter the number\"))\n",
        "c=int(input(\"enter the number\"))\n",
        "if a>b &a>c:\n",
        "  print(\"a is greater\")\n",
        "elif b>a & b>c:\n",
        "  print(\"b is greater\")\n",
        "else:\n",
        "  print(\"c is greater\")\n",
        "\n",
        "\n",
        "\n"
      ],
      "metadata": {
        "colab": {
          "base_uri": "https://localhost:8080/"
        },
        "id": "hipqps67s35a",
        "outputId": "2765c21b-d1ec-497d-ab47-d69532ce9ddd"
      },
      "execution_count": null,
      "outputs": [
        {
          "output_type": "stream",
          "name": "stdout",
          "text": [
            "enter the number23\n",
            "enter the number12\n",
            "enter the number34\n",
            "c is greater\n"
          ]
        }
      ]
    },
    {
      "cell_type": "code",
      "source": [
        "a=int(input(\"enter the number\"))\n",
        "b=int(input(\"enter the number\"))\n",
        "c=int(input(\"enter the number\"))\n",
        "d=int(input(\"enter the number\"))\n",
        "e=int(input(\"enter the number\"))\n",
        "\n",
        "if a>b &a>c & a>d & a>e:\n",
        "  print(\"a is greater\")\n",
        "elif b>a & b>c & b>d & b>e:\n",
        "  print(\"b is greater\")\n",
        "elif  c>a & c>b & c>d & c>e:\n",
        "   print(\"c is greater\")\n",
        "elif  d>a & d>b & d>c & d>e:\n",
        "   print(\"d is greater\")\n",
        "else:\n",
        "   print(\"e is greater\")\n",
        "   \n",
        "\n",
        "\n"
      ],
      "metadata": {
        "colab": {
          "base_uri": "https://localhost:8080/"
        },
        "id": "eVMntz5eu4Cp",
        "outputId": "4b41c849-7b64-4468-b2cf-2df0141cbe34"
      },
      "execution_count": null,
      "outputs": [
        {
          "output_type": "stream",
          "name": "stdout",
          "text": [
            "enter the number12\n",
            "enter the number24\n",
            "enter the number25\n",
            "enter the number78\n",
            "enter the number67\n",
            "e is greater\n"
          ]
        }
      ]
    },
    {
      "cell_type": "code",
      "source": [
        "a=int(input(\"enter the number\"))\n",
        "b=int(input(\"enter the number\"))\n",
        "c=int(input(\"enter the number\"))\n",
        "d=(a+b+c)/3\n",
        "print (d)\n"
      ],
      "metadata": {
        "colab": {
          "base_uri": "https://localhost:8080/"
        },
        "id": "v_pNP4XOwXEq",
        "outputId": "eb8fa479-ddc5-43d5-d55e-1b814eac2f2c"
      },
      "execution_count": null,
      "outputs": [
        {
          "output_type": "stream",
          "name": "stdout",
          "text": [
            "enter the number10\n",
            "enter the number10\n",
            "enter the number10\n",
            "10.0\n"
          ]
        }
      ]
    },
    {
      "cell_type": "code",
      "source": [
        ""
      ],
      "metadata": {
        "id": "FP94Uu6tuz2r"
      },
      "execution_count": null,
      "outputs": []
    }
  ]
}