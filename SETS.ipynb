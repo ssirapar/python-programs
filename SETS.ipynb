{
  "nbformat": 4,
  "nbformat_minor": 0,
  "metadata": {
    "colab": {
      "name": "SETS",
      "provenance": [],
      "authorship_tag": "ABX9TyN4pd8VLspskdDf9Iv2yz5r",
      "include_colab_link": true
    },
    "kernelspec": {
      "name": "python3",
      "display_name": "Python 3"
    },
    "language_info": {
      "name": "python"
    }
  },
  "cells": [
    {
      "cell_type": "markdown",
      "metadata": {
        "id": "view-in-github",
        "colab_type": "text"
      },
      "source": [
        "<a href=\"https://colab.research.google.com/github/ssirapar/python-programs/blob/main/SETS.ipynb\" target=\"_parent\"><img src=\"https://colab.research.google.com/assets/colab-badge.svg\" alt=\"Open In Colab\"/></a>"
      ]
    },
    {
      "cell_type": "code",
      "execution_count": null,
      "metadata": {
        "id": "TMpgScTbA8mS",
        "outputId": "2e0701cd-454b-484b-cd16-fdac2356047e",
        "colab": {
          "base_uri": "https://localhost:8080/"
        }
      },
      "outputs": [
        {
          "output_type": "stream",
          "name": "stdout",
          "text": [
            "{'banana', 'cherry', 'apple'}\n"
          ]
        }
      ],
      "source": [
        "#Set items are unchangeable, but you can remove items and add new items.\n",
        "#A set is a collection which is unordered, unchangeable*, and unindexed.\n",
        "#Sets are written with curly brackets\n",
        "#          Duplicate values will be ignored:\n",
        "a = {\"apple\", \"banana\", \"cherry\", \"apple\"}\n",
        "print(a)\n",
        "    # one aple will be removed."
      ]
    },
    {
      "cell_type": "code",
      "source": [
        "set1 = {\"apple\", \"banana\", \"cherry\"}\n",
        "set2 = {1, 5, 7, 9, 3}\n",
        "set3 = {True, False, False}\n",
        "#set can be of any type but will not print in order.\n",
        "print(set1)\n",
        "print(set2)\n",
        "print(set3)\n",
        "print(type(set2))\n"
      ],
      "metadata": {
        "id": "_aVY_BFtLv8I",
        "outputId": "c3f4cf73-ccc3-41de-892e-656e4a160f3d",
        "colab": {
          "base_uri": "https://localhost:8080/"
        }
      },
      "execution_count": null,
      "outputs": [
        {
          "output_type": "stream",
          "name": "stdout",
          "text": [
            "{'banana', 'cherry', 'apple'}\n",
            "{1, 3, 5, 7, 9}\n",
            "{False, True}\n",
            "<class 'set'>\n"
          ]
        }
      ]
    },
    {
      "cell_type": "code",
      "source": [
        "#Using the set() constructor to make a set:\n",
        "a = set((\"apple\", \"banana\", \"cherry\")) # note the double round-brackets\n",
        "print(a)"
      ],
      "metadata": {
        "id": "WXFnjMhIMDkP",
        "outputId": "08c4cafc-81d3-4cbb-912a-280719c51386",
        "colab": {
          "base_uri": "https://localhost:8080/"
        }
      },
      "execution_count": null,
      "outputs": [
        {
          "output_type": "stream",
          "name": "stdout",
          "text": [
            "{'banana', 'cherry', 'apple'}\n"
          ]
        }
      ]
    },
    {
      "cell_type": "code",
      "source": [
        "a = {\"apple\", \"banana\", \"cherry\"}\n",
        "for x in a:\n",
        "  print(x) #loop"
      ],
      "metadata": {
        "id": "3OFc3hOZNJUk",
        "outputId": "c8af7126-1eef-43d6-ec7c-2fcedfb0701a",
        "colab": {
          "base_uri": "https://localhost:8080/"
        }
      },
      "execution_count": null,
      "outputs": [
        {
          "output_type": "stream",
          "name": "stdout",
          "text": [
            "banana\n",
            "cherry\n",
            "apple\n"
          ]
        }
      ]
    },
    {
      "cell_type": "code",
      "source": [
        "#Check if \"banana\" is present in the set:\n",
        "a= {\"apple\", \"banana\", \"cherry\"}\n",
        "print(\"banana\"  in a)\n",
        "print(\"kiwi\"  in a)\n",
        "print(\"cherry\"  in a)"
      ],
      "metadata": {
        "id": "T6keek9EOAZO",
        "outputId": "8f9328e0-7f9c-4a8e-b6af-d5f8de7e4c52",
        "colab": {
          "base_uri": "https://localhost:8080/"
        }
      },
      "execution_count": null,
      "outputs": [
        {
          "output_type": "stream",
          "name": "stdout",
          "text": [
            "True\n",
            "False\n",
            "True\n"
          ]
        }
      ]
    },
    {
      "cell_type": "code",
      "source": [
        "#To add one item to a set use the add() method.\n",
        "a= {\"apple\", \"banana\", \"cherry\"}\n",
        "a.add(\"orange\")\n",
        "print(a)"
      ],
      "metadata": {
        "id": "olYmNQvoOSye",
        "outputId": "63872fff-bda3-462b-9f0e-1e0136c39f96",
        "colab": {
          "base_uri": "https://localhost:8080/"
        }
      },
      "execution_count": null,
      "outputs": [
        {
          "output_type": "stream",
          "name": "stdout",
          "text": [
            "{'banana', 'cherry', 'apple', 'orange'}\n"
          ]
        }
      ]
    },
    {
      "cell_type": "code",
      "source": [
        "#Add elements from b into a:[by using only sets]\n",
        "a = {\"apple\", \"banana\", \"cherry\"}\n",
        "b = {\"pineapple\", \"mango\", \"papaya\"}\n",
        "a.update(b)\n",
        "print(a)"
      ],
      "metadata": {
        "id": "Vz52b3HQPFIu",
        "outputId": "9b141562-a79f-4784-e258-ba4c3fdf95b9",
        "colab": {
          "base_uri": "https://localhost:8080/"
        }
      },
      "execution_count": null,
      "outputs": [
        {
          "output_type": "stream",
          "name": "stdout",
          "text": [
            "{'mango', 'apple', 'pineapple', 'banana', 'cherry', 'papaya'}\n"
          ]
        }
      ]
    },
    {
      "cell_type": "code",
      "source": [
        "#The object in the update() method does not have to be a set, it can be any iterable object (tuples, lists, dictionaries etc.).\n",
        "#Add elements of a list to at set:\n",
        "\n",
        "set1= {\"apple\", \"banana\", \"cherry\"}\n",
        "list1 = [\"kiwi\", \"orange\"]\n",
        "set1.update(list1)\n",
        "print(set1)"
      ],
      "metadata": {
        "id": "X1H7iGSpPixu",
        "outputId": "fc0dec8a-ed18-4874-d12a-3878dab05522",
        "colab": {
          "base_uri": "https://localhost:8080/"
        }
      },
      "execution_count": null,
      "outputs": [
        {
          "output_type": "stream",
          "name": "stdout",
          "text": [
            "{'cherry', 'apple', 'banana', 'orange', 'kiwi'}\n"
          ]
        }
      ]
    },
    {
      "cell_type": "code",
      "source": [
        "# to remove an item in the set\n",
        "a= {\"apple\", \"banana\", \"cherry\"}\n",
        "a.remove(\"cherry\")\n",
        "print(a)     \n",
        "           # by using discard()\n",
        "a= {\"apple\", \"banana\", \"cherry\"}\n",
        "a.discard(\"cherry\")         #discard() & remove() gives the same output\n",
        "print(a) \n",
        "           # if the item is not present in a set\n",
        "#a= {\"apple\", \"banana\", \"cherry\"}\n",
        "#a.remove(\"kiwi\")              ( #it raises an error.)\n",
        "#print(a)   \n",
        "          # by using discard\n",
        "a= {\"apple\", \"banana\", \"cherry\"}\n",
        "a.discard(\"kiwi\")\n",
        "print(a)    #does not show any error"
      ],
      "metadata": {
        "id": "ccW-lZ3PQFDt",
        "outputId": "16f5be31-4ef5-49ef-9eb9-80adf8a3e2aa",
        "colab": {
          "base_uri": "https://localhost:8080/"
        }
      },
      "execution_count": null,
      "outputs": [
        {
          "output_type": "stream",
          "name": "stdout",
          "text": [
            "{'banana', 'apple'}\n",
            "{'banana', 'apple'}\n",
            "{'banana', 'cherry', 'apple'}\n"
          ]
        }
      ]
    },
    {
      "cell_type": "code",
      "source": [
        "#Remove the last item by using the pop() method:\n",
        "\n",
        "a = {\"apple\", \"banana\", \"cherry\"}\n",
        "x = a.pop()\n",
        "print(x)\n",
        "print(a)"
      ],
      "metadata": {
        "id": "26ggO9VcQnQ0",
        "outputId": "895fa9ec-b097-4f25-d979-bcda89718b7f",
        "colab": {
          "base_uri": "https://localhost:8080/"
        }
      },
      "execution_count": null,
      "outputs": [
        {
          "output_type": "stream",
          "name": "stdout",
          "text": [
            "banana\n",
            "{'cherry', 'apple'}\n"
          ]
        }
      ]
    },
    {
      "cell_type": "code",
      "source": [
        "#The clear() method empties the set:\n",
        "a= {\"apple\", \"banana\", \"cherry\"}\n",
        "a.clear()\n",
        "print(a)\n"
      ],
      "metadata": {
        "id": "Bq5py5CQSdVN",
        "outputId": "7a61ac8f-8823-4229-94bc-c2e53cd220ed",
        "colab": {
          "base_uri": "https://localhost:8080/"
        }
      },
      "execution_count": null,
      "outputs": [
        {
          "output_type": "stream",
          "name": "stdout",
          "text": [
            "set()\n"
          ]
        }
      ]
    },
    {
      "cell_type": "code",
      "source": [
        "#The del keyword will delete the set completely:\n",
        "a= {\"apple\", \"banana\", \"cherry\"}\n",
        "del a\n",
        "print(a)     # #this will raise an error because the set no longer exists\n"
      ],
      "metadata": {
        "id": "i9OEPWxeTLnc",
        "outputId": "5257f992-038a-41ff-e06d-81704541fd65",
        "colab": {
          "base_uri": "https://localhost:8080/",
          "height": 208
        }
      },
      "execution_count": null,
      "outputs": [
        {
          "output_type": "error",
          "ename": "NameError",
          "evalue": "ignored",
          "traceback": [
            "\u001b[0;31m---------------------------------------------------------------------------\u001b[0m",
            "\u001b[0;31mNameError\u001b[0m                                 Traceback (most recent call last)",
            "\u001b[0;32m<ipython-input-24-460d66916cfc>\u001b[0m in \u001b[0;36m<module>\u001b[0;34m()\u001b[0m\n\u001b[1;32m      2\u001b[0m \u001b[0ma\u001b[0m\u001b[0;34m=\u001b[0m \u001b[0;34m{\u001b[0m\u001b[0;34m\"apple\"\u001b[0m\u001b[0;34m,\u001b[0m \u001b[0;34m\"banana\"\u001b[0m\u001b[0;34m,\u001b[0m \u001b[0;34m\"cherry\"\u001b[0m\u001b[0;34m}\u001b[0m\u001b[0;34m\u001b[0m\u001b[0;34m\u001b[0m\u001b[0m\n\u001b[1;32m      3\u001b[0m \u001b[0;32mdel\u001b[0m \u001b[0ma\u001b[0m\u001b[0;34m\u001b[0m\u001b[0;34m\u001b[0m\u001b[0m\n\u001b[0;32m----> 4\u001b[0;31m \u001b[0mprint\u001b[0m\u001b[0;34m(\u001b[0m\u001b[0ma\u001b[0m\u001b[0;34m)\u001b[0m\u001b[0;34m\u001b[0m\u001b[0;34m\u001b[0m\u001b[0m\n\u001b[0m",
            "\u001b[0;31mNameError\u001b[0m: name 'a' is not defined"
          ]
        }
      ]
    },
    {
      "cell_type": "code",
      "source": [
        "#You can loop through the set items by using a for loop:\n",
        "\n",
        "#Example\n",
        "#Loop through the set, and print the values:\n",
        "a = {\"apple\", \"banana\", \"cherry\"}\n",
        "for x in a:\n",
        "  print(x)"
      ],
      "metadata": {
        "id": "vxl8FkMITdxs",
        "outputId": "25743555-e308-4ece-be82-ff311d0b8cc8",
        "colab": {
          "base_uri": "https://localhost:8080/",
          "height": 0
        }
      },
      "execution_count": 1,
      "outputs": [
        {
          "output_type": "stream",
          "name": "stdout",
          "text": [
            "cherry\n",
            "apple\n",
            "banana\n"
          ]
        }
      ]
    },
    {
      "cell_type": "code",
      "source": [
        "#The intersection_update() method will keep only the items that are present in both sets.\n",
        "\n",
        "#Example\n",
        "#Keep the items that exist in both set x, and set y:\n",
        "x = {\"apple\", \"banana\", \"cherry\"}\n",
        "y = {\"google\", \"microsoft\", \"apple\"}\n",
        "x.intersection_update(y)\n",
        "print(x)"
      ],
      "metadata": {
        "id": "V4QRpfQthiNH",
        "outputId": "b55bda34-6d59-4608-fa71-afd9e1a945a5",
        "colab": {
          "base_uri": "https://localhost:8080/",
          "height": 0
        }
      },
      "execution_count": 2,
      "outputs": [
        {
          "output_type": "stream",
          "name": "stdout",
          "text": [
            "{'apple'}\n"
          ]
        }
      ]
    },
    {
      "cell_type": "code",
      "source": [
        "#Return a set that contains the items that exist in both set x, and set y:\n",
        "\n",
        "x = {\"apple\", \"banana\", \"cherry\"}\n",
        "y = {\"google\", \"microsoft\", \"apple\"}\n",
        "\n",
        "z = x.intersection(y)\n",
        "\n",
        "print(z)"
      ],
      "metadata": {
        "id": "LWCStZFEhzy1",
        "outputId": "f832b047-e675-4cf1-b05d-0bca2d381ab1",
        "colab": {
          "base_uri": "https://localhost:8080/",
          "height": 0
        }
      },
      "execution_count": 3,
      "outputs": [
        {
          "output_type": "stream",
          "name": "stdout",
          "text": [
            "{'apple'}\n"
          ]
        }
      ]
    },
    {
      "cell_type": "code",
      "source": [
        "#Keep the items that are not present in both sets:\n",
        "x = {\"apple\", \"banana\", \"cherry\"}\n",
        "y = {\"google\", \"microsoft\", \"apple\"}\n",
        "x.symmetric_difference_update(y)\n",
        "print(x)\n",
        "#The symmetric_difference() method will return a new set, that contains only the elements that are NOT present in both sets.\n",
        "#Example\n",
        "#Return a set that contains all items from both sets, except items that are present in both:\n",
        "\n",
        "x = {\"apple\", \"banana\", \"cherry\"}\n",
        "y = {\"google\", \"microsoft\", \"apple\"}\n",
        "\n",
        "z = x.symmetric_difference(y)\n",
        "\n",
        "print(z)"
      ],
      "metadata": {
        "id": "TCk0ssvkh8VU",
        "outputId": "e2401e45-650c-475c-f65a-4445a5591e40",
        "colab": {
          "base_uri": "https://localhost:8080/",
          "height": 0
        }
      },
      "execution_count": 4,
      "outputs": [
        {
          "output_type": "stream",
          "name": "stdout",
          "text": [
            "{'microsoft', 'google', 'cherry', 'banana'}\n",
            "{'microsoft', 'google', 'cherry', 'banana'}\n"
          ]
        }
      ]
    },
    {
      "cell_type": "code",
      "source": [
        ""
      ],
      "metadata": {
        "id": "ZNklNGbuiQj8"
      },
      "execution_count": null,
      "outputs": []
    }
  ]
}