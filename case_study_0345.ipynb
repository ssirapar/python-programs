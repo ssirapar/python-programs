{
  "nbformat": 4,
  "nbformat_minor": 0,
  "metadata": {
    "colab": {
      "name": "case study.0345",
      "provenance": [],
      "authorship_tag": "ABX9TyM71GfKGLEIboJm3pJhR4zf",
      "include_colab_link": true
    },
    "kernelspec": {
      "name": "python3",
      "display_name": "Python 3"
    },
    "language_info": {
      "name": "python"
    }
  },
  "cells": [
    {
      "cell_type": "markdown",
      "metadata": {
        "id": "view-in-github",
        "colab_type": "text"
      },
      "source": [
        "<a href=\"https://colab.research.google.com/github/ssirapar/python-programs/blob/main/case_study_0345.ipynb\" target=\"_parent\"><img src=\"https://colab.research.google.com/assets/colab-badge.svg\" alt=\"Open In Colab\"/></a>"
      ]
    },
    {
      "cell_type": "code",
      "execution_count": null,
      "metadata": {
        "id": "UDgYGpzx8Q01"
      },
      "outputs": [],
      "source": [
        "cd-file  is case study 1## name of the project\n",
        "ls    step 1:     #it shows complete projects in the project in the case study\n",
        "ls  step 2: cd-folder name # it goes to the corresponding folder in the case study\n",
        "it shows list of files inside the corresponding folder\n",
        "                  CAT filename.py\n",
        "       go to console and click on run.\n",
        "  When ur operating programs in txt files save the format with .txt\n",
        "  echo command ---\n",
        "  example:  echo \"sowmya\" > filename.txt\n",
        "  CAT filename.txt then string value will be displayed.       "
      ]
    }
  ]
}