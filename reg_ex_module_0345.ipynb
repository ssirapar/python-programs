{
  "nbformat": 4,
  "nbformat_minor": 0,
  "metadata": {
    "colab": {
      "name": "reg ex module.0345",
      "provenance": [],
      "authorship_tag": "ABX9TyMx4N1MFZbT5mclVPKM7m3q",
      "include_colab_link": true
    },
    "kernelspec": {
      "name": "python3",
      "display_name": "Python 3"
    },
    "language_info": {
      "name": "python"
    }
  },
  "cells": [
    {
      "cell_type": "markdown",
      "metadata": {
        "id": "view-in-github",
        "colab_type": "text"
      },
      "source": [
        "<a href=\"https://colab.research.google.com/github/ssirapar/python-programs/blob/main/reg_ex_module_0345.ipynb\" target=\"_parent\"><img src=\"https://colab.research.google.com/assets/colab-badge.svg\" alt=\"Open In Colab\"/></a>"
      ]
    },
    {
      "cell_type": "code",
      "execution_count": 3,
      "metadata": {
        "colab": {
          "base_uri": "https://localhost:8080/"
        },
        "id": "8rjdSTR9JlTD",
        "outputId": "7226c505-6fdd-42c1-e7fa-1996e657de2c"
      },
      "outputs": [
        {
          "output_type": "stream",
          "name": "stdout",
          "text": [
            "YES! We have a match!\n"
          ]
        }
      ],
      "source": [
        "import re\n",
        "\n",
        "txt = \"peacock dances well\"\n",
        "x = re.search(\"^peacock.*dances\", txt)\n",
        "if x:\n",
        "  print(\"YES! We have a match!\")\n",
        "else:\n",
        "  print(\"No match\")\n"
      ]
    },
    {
      "cell_type": "code",
      "source": [
        "#The findall() function returns a list containing all matches.\n",
        "import re\n",
        "\n",
        "txt = \"Sets are used to store multiple items in a single variable. \"\n",
        "\n",
        "x = re.findall(\"or\", txt)\n",
        "y = re.findall(\"rabbit\", txt)\n",
        "print(x)\n",
        "print(y)"
      ],
      "metadata": {
        "colab": {
          "base_uri": "https://localhost:8080/"
        },
        "id": "sT5EqI64Kj4N",
        "outputId": "417d244a-ae48-4c9a-acc8-c24600d132a2"
      },
      "execution_count": 11,
      "outputs": [
        {
          "output_type": "stream",
          "name": "stdout",
          "text": [
            "['or']\n",
            "[]\n"
          ]
        }
      ]
    },
    {
      "cell_type": "code",
      "source": [
        "#Split at each white-space character:\n",
        "\n",
        "import re\n",
        "\n",
        "txt = \"Sets are used to store multiple items in a single variable. \"\n",
        "x = re.split(\"\\s\", txt)\n",
        "print(x)"
      ],
      "metadata": {
        "colab": {
          "base_uri": "https://localhost:8080/"
        },
        "id": "wb0azWYgL9hA",
        "outputId": "02382555-1598-4cb9-aac0-90405ef32f73"
      },
      "execution_count": 16,
      "outputs": [
        {
          "output_type": "stream",
          "name": "stdout",
          "text": [
            "['Sets', 'are', 'used', 'to', 'store', 'multiple', 'items', 'in', 'a', 'single', 'variable.', '']\n"
          ]
        }
      ]
    },
    {
      "cell_type": "code",
      "source": [
        "#sub()\n",
        "import re\n",
        "\n",
        "txt = \"Sets are used to store multiple items in a single variable. \"\n",
        "x = re.sub(\"\\s\", \"9\", txt, 2)   #Replace only first 2 occurrences:\n",
        "print(x)"
      ],
      "metadata": {
        "colab": {
          "base_uri": "https://localhost:8080/"
        },
        "id": "RmKsDZXFNf_e",
        "outputId": "ddd486e2-6191-465d-ed37-043f94bac533"
      },
      "execution_count": 19,
      "outputs": [
        {
          "output_type": "stream",
          "name": "stdout",
          "text": [
            "Sets9are9used to store multiple items in a single variable. \n"
          ]
        }
      ]
    },
    {
      "cell_type": "code",
      "source": [
        "\n",
        "import re\n",
        "txt = \"Sets are used to store multiple items in a single variable\"\n",
        "# \\a Check if the string starts with \"The\":\n",
        "x = re.findall(\"\\Asets\", txt)\n",
        "print(x)\n",
        "if x:\n",
        "  print(\"Yes, there is a match!\")\n",
        "else:\n",
        "  print(\"No match\")\n"
      ],
      "metadata": {
        "colab": {
          "base_uri": "https://localhost:8080/"
        },
        "id": "EXCYVLOEO8N6",
        "outputId": "839af282-ec01-402b-83d0-a9b7cfc294ad"
      },
      "execution_count": 25,
      "outputs": [
        {
          "output_type": "stream",
          "name": "stdout",
          "text": [
            "[]\n",
            "No match\n"
          ]
        }
      ]
    },
    {
      "cell_type": "code",
      "source": [
        ""
      ],
      "metadata": {
        "id": "r-ITHkIlP_j6"
      },
      "execution_count": null,
      "outputs": []
    }
  ]
}