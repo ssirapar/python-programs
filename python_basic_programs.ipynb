{
  "nbformat": 4,
  "nbformat_minor": 0,
  "metadata": {
    "colab": {
      "name": "python basic programs",
      "provenance": [],
      "authorship_tag": "ABX9TyOQLGlFoBai8qf8655wTq69",
      "include_colab_link": true
    },
    "kernelspec": {
      "name": "python3",
      "display_name": "Python 3"
    },
    "language_info": {
      "name": "python"
    }
  },
  "cells": [
    {
      "cell_type": "markdown",
      "metadata": {
        "id": "view-in-github",
        "colab_type": "text"
      },
      "source": [
        "<a href=\"https://colab.research.google.com/github/ssirapar/python-programs/blob/main/python_basic_programs.ipynb\" target=\"_parent\"><img src=\"https://colab.research.google.com/assets/colab-badge.svg\" alt=\"Open In Colab\"/></a>"
      ]
    },
    {
      "cell_type": "code",
      "execution_count": 4,
      "metadata": {
        "colab": {
          "base_uri": "https://localhost:8080/"
        },
        "id": "Mu3kOPYz2Jck",
        "outputId": "a02bd9f7-1c36-40ca-c0ec-5f1c7816c989"
      },
      "outputs": [
        {
          "output_type": "stream",
          "name": "stdout",
          "text": [
            "20.0\n",
            "<class 'int'>\n",
            "<class 'int'>\n",
            "<class 'int'>\n",
            "<class 'float'>\n"
          ]
        }
      ],
      "source": [
        "                             ## AVG OF 3 NUM\n",
        "a=10\n",
        "b=20\n",
        "c=30\n",
        "d=(a+b+c)/3\n",
        "print(d)\n",
        "print(type(a))\n",
        "print(type(b))\n",
        "print(type(c))\n",
        "print(type(d))"
      ]
    },
    {
      "cell_type": "code",
      "source": [
        "                 ## ADDITION OF TWO NUM (DYNAMIC)\n",
        "a=int(input(\"enter the num\"))  \n",
        "b=int(input(\"enter the num\"))\n",
        "c=a+b\n",
        "print(c)\n",
        "print(type(c))               "
      ],
      "metadata": {
        "colab": {
          "base_uri": "https://localhost:8080/"
        },
        "id": "PBz57eT__Eq5",
        "outputId": "c77f776a-994b-4b3a-9386-ecac326a9877"
      },
      "execution_count": 18,
      "outputs": [
        {
          "output_type": "stream",
          "name": "stdout",
          "text": [
            "enter the num10\n",
            "enter the num10\n",
            "20\n",
            "<class 'int'>\n"
          ]
        }
      ]
    },
    {
      "cell_type": "code",
      "source": [
        "              \n",
        "                                 ## MULTIPILICATION OF 3 NUM(STATIC)\n",
        "a=10\n",
        "b=20\n",
        "c=30\n",
        "d=a*b*c\n",
        "print(d)\n",
        "print(type(a))\n",
        "print(type(b))\n",
        "print(type(c))\n",
        "print(type(d))\n"
      ],
      "metadata": {
        "colab": {
          "base_uri": "https://localhost:8080/"
        },
        "id": "b7t7sJOB2-sK",
        "outputId": "bf9700ca-8b7d-49f7-986c-647c4ce3e93e"
      },
      "execution_count": 5,
      "outputs": [
        {
          "output_type": "stream",
          "name": "stdout",
          "text": [
            "6000\n",
            "<class 'int'>\n",
            "<class 'int'>\n",
            "<class 'int'>\n",
            "<class 'int'>\n"
          ]
        }
      ]
    },
    {
      "cell_type": "code",
      "source": [
        "                              ## CONVERSIONS\n",
        "       # convert int to float\n",
        "a=10\n",
        "print(type(a))\n",
        "b=float(a)\n",
        "print(b)\n",
        "print(type(b))\n"
      ],
      "metadata": {
        "colab": {
          "base_uri": "https://localhost:8080/"
        },
        "id": "DSZ5C1gC42kl",
        "outputId": "ddf76ed6-593d-41f2-c515-a7779fdbac19"
      },
      "execution_count": 6,
      "outputs": [
        {
          "output_type": "stream",
          "name": "stdout",
          "text": [
            "<class 'int'>\n",
            "10.0\n",
            "<class 'float'>\n"
          ]
        }
      ]
    },
    {
      "cell_type": "code",
      "source": [
        "          #convert float to int\n",
        "a=20.0\n",
        "print(type(a))\n",
        "b=int(a)\n",
        "print(b)\n",
        "print(type(b))\n",
        "     # float to string\n",
        "c=str(a)\n",
        "print(c)\n",
        "print(type(c))    \n"
      ],
      "metadata": {
        "colab": {
          "base_uri": "https://localhost:8080/"
        },
        "id": "cp7-VIAM5ozw",
        "outputId": "f0dbb38a-5fee-4a6f-807b-fdda3484af36"
      },
      "execution_count": 20,
      "outputs": [
        {
          "output_type": "stream",
          "name": "stdout",
          "text": [
            "<class 'float'>\n",
            "20\n",
            "<class 'int'>\n",
            "20.0\n",
            "<class 'str'>\n"
          ]
        }
      ]
    },
    {
      "cell_type": "code",
      "source": [
        "            # convert int to string\n",
        "a=20\n",
        "print(type(a))\n",
        "b=str(a)\n",
        "print(b)\n",
        "print(type(b))\n",
        "     ## string to int is not possible only if values given in alphabets.\n"
      ],
      "metadata": {
        "colab": {
          "base_uri": "https://localhost:8080/"
        },
        "id": "MuIRcJhXAw-u",
        "outputId": "ac29fdf3-d494-4f13-f404-39d8d8a8ca8e"
      },
      "execution_count": 19,
      "outputs": [
        {
          "output_type": "stream",
          "name": "stdout",
          "text": [
            "<class 'int'>\n",
            "20\n",
            "<class 'str'>\n"
          ]
        }
      ]
    },
    {
      "cell_type": "code",
      "source": [
        "               # boolean to int\n",
        "a=10\n",
        "b=20\n",
        "c=a>b\n",
        "print(c)\n",
        "print(type(c))\n",
        "d=int(bool(c))\n",
        "print(d)\n",
        "print(type(d))"
      ],
      "metadata": {
        "colab": {
          "base_uri": "https://localhost:8080/"
        },
        "id": "g0G98jy96Dgd",
        "outputId": "8b20af5e-66ab-4df6-a975-67f000240eca"
      },
      "execution_count": 8,
      "outputs": [
        {
          "output_type": "stream",
          "name": "stdout",
          "text": [
            "False\n",
            "<class 'bool'>\n",
            "0\n",
            "<class 'int'>\n"
          ]
        }
      ]
    },
    {
      "cell_type": "code",
      "source": [
        "                     # boolean to float\n",
        "a=10\n",
        "b=20\n",
        "c=b>a\n",
        "print(c)\n",
        "print(type(c))\n",
        "d=float(bool(c))\n",
        "print(d)\n",
        "print(type(d))"
      ],
      "metadata": {
        "colab": {
          "base_uri": "https://localhost:8080/"
        },
        "id": "xQqSMf906nax",
        "outputId": "67560ce0-d03e-444d-f37f-5210e022f48c"
      },
      "execution_count": 9,
      "outputs": [
        {
          "output_type": "stream",
          "name": "stdout",
          "text": [
            "True\n",
            "<class 'bool'>\n",
            "1.0\n",
            "<class 'float'>\n"
          ]
        }
      ]
    },
    {
      "cell_type": "code",
      "source": [
        "                     ## boolean to string\n",
        "a=10\n",
        "b=20\n",
        "c=a>b\n",
        "print(c)\n",
        "print(type(c))\n",
        "d=str(bool(c))\n",
        "print(d)\n",
        "print(type(d))                     "
      ],
      "metadata": {
        "colab": {
          "base_uri": "https://localhost:8080/"
        },
        "id": "b-tp1Lbm7BQM",
        "outputId": "17938c39-c3a4-4be6-eafa-9e15d3041ff1"
      },
      "execution_count": 10,
      "outputs": [
        {
          "output_type": "stream",
          "name": "stdout",
          "text": [
            "False\n",
            "<class 'bool'>\n",
            "False\n",
            "<class 'str'>\n"
          ]
        }
      ]
    },
    {
      "cell_type": "code",
      "source": [
        "                             ##complex data type\n",
        "      \n",
        "a=2+5j\n",
        "print(type(a))\n",
        "#b=int(a)\n",
        "# can't convert complex to int\n",
        "c=str(a) \n",
        "print(c)    \n",
        "#d=float(a)\n",
        "#print(d)\n",
        " #can't convert complex to float \n",
        "d=bool(a)                    \n",
        "print(d)   "
      ],
      "metadata": {
        "colab": {
          "base_uri": "https://localhost:8080/"
        },
        "id": "9YER4t6e7WkL",
        "outputId": "50062bc9-c9fe-4b85-d22b-5823a6ffd15f"
      },
      "execution_count": 17,
      "outputs": [
        {
          "output_type": "stream",
          "name": "stdout",
          "text": [
            "<class 'complex'>\n",
            "(2+5j)\n",
            "True\n"
          ]
        }
      ]
    }
  ]
}