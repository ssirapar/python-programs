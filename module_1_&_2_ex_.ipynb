{
  "nbformat": 4,
  "nbformat_minor": 0,
  "metadata": {
    "colab": {
      "name": "module 1 & 2 ex.",
      "provenance": [],
      "authorship_tag": "ABX9TyN3bVoKKf+BOPxKWEFzahoW",
      "include_colab_link": true
    },
    "kernelspec": {
      "name": "python3",
      "display_name": "Python 3"
    },
    "language_info": {
      "name": "python"
    }
  },
  "cells": [
    {
      "cell_type": "markdown",
      "metadata": {
        "id": "view-in-github",
        "colab_type": "text"
      },
      "source": [
        "<a href=\"https://colab.research.google.com/github/ssirapar/python-programs/blob/main/module_1_%26_2_ex_.ipynb\" target=\"_parent\"><img src=\"https://colab.research.google.com/assets/colab-badge.svg\" alt=\"Open In Colab\"/></a>"
      ]
    },
    {
      "cell_type": "code",
      "execution_count": null,
      "metadata": {
        "colab": {
          "base_uri": "https://localhost:8080/"
        },
        "id": "mRX6thJldo1V",
        "outputId": "14baa5f5-c84b-43a4-8f01-1a11df4c3870"
      },
      "outputs": [
        {
          "output_type": "stream",
          "name": "stdout",
          "text": [
            "enter the month num14\n",
            "please enter crct choice\n"
          ]
        }
      ],
      "source": [
        "#write a program to read any month num in int and display the num of days for this month.\n",
        "a=(int(input(\"enter the month num\")))\n",
        "b=[4,6,9,11]\n",
        "if a==2: \n",
        "   print(\"28/29\")\n",
        "elif a in b:\n",
        "   print(\"30\")\n",
        "elif a>13 or a<1:\n",
        "   print(\"please enter crct choice\")\n",
        "else:\n",
        "   print(\"31\")\n"
      ]
    },
    {
      "cell_type": "code",
      "source": [
        "# To print the even length in a string.\n",
        "a=(input(\"enter the string\"))\n",
        "b=a.split()\n",
        "for i in b:\n",
        "    if len(i)%2==0:\n",
        "      print(i)\n"
      ],
      "metadata": {
        "colab": {
          "base_uri": "https://localhost:8080/"
        },
        "id": "unggQGZwdwio",
        "outputId": "c64c9005-5cc7-4d2e-c401-1cbdc0c956e4"
      },
      "execution_count": null,
      "outputs": [
        {
          "output_type": "stream",
          "name": "stdout",
          "text": [
            "enter the stringthis is me\n",
            "this\n",
            "is\n",
            "me\n"
          ]
        }
      ]
    },
    {
      "cell_type": "code",
      "source": [
        "# converting 1st letter of the word into capital\n",
        "a=(input(\"enter the string\"))\n",
        "a=a.title()\n",
        "print(a)"
      ],
      "metadata": {
        "id": "c_4TqkNle_yO"
      },
      "execution_count": null,
      "outputs": []
    },
    {
      "cell_type": "code",
      "source": [
        "# multiple integers to single integers\n",
        "a=eval(input(\"enter list of integers\")) #eval takes total list at a time.\n",
        "b=\"\"\n",
        "for i in a:\n",
        "  b+=str(i)\n",
        "print(b)  "
      ],
      "metadata": {
        "id": "yFMD4reZmehv"
      },
      "execution_count": null,
      "outputs": []
    },
    {
      "cell_type": "code",
      "source": [
        "# if given two int and a<b print all num in A.O(inclusively). or if a>=b print in D.O.\n",
        "a=int(input(\"enter the num 1:\"))\n",
        "b=int(input(\"enter the num 1:\"))\n",
        "if a<b:\n",
        "  for i in range(a,b+1):\n",
        "    print(i)\n",
        "else:\n",
        "  for i in range(a,b-1,-1):\n",
        "    print(i)"
      ],
      "metadata": {
        "id": "Ej5fbYQ2mipV"
      },
      "execution_count": null,
      "outputs": []
    },
    {
      "cell_type": "code",
      "source": [
        "# write the prime num in a range def prime(a,b):\n",
        "a=int(input(\"Enter the Range:\"))\n",
        "b=int(input(\"Enter the end range:\"))\n",
        "print (\"Prime Numbers in the range are: \")\n",
        "for n in range (a,b + 1):\n",
        " if n>1:\n",
        "  for i in range (2,n):\n",
        " if (n % i) == 0:\n",
        "  break\n",
        " else:\n",
        "  print No"
      ],
      "metadata": {
        "id": "UgmUk8vOm-BF"
      },
      "execution_count": null,
      "outputs": []
    },
    {
      "cell_type": "code",
      "source": [
        "#)write a python program to find power of number with recursion and without recursion(input n=2 , p=3)\n",
        "def power(N, P):\n",
        "    if P == 0:  # base condition\n",
        "        return 1\n",
        "    return (N*power(N, P-1)) \n",
        " \n",
        "# Driver program\n",
        "N = 2\n",
        "P = 3\n",
        "print(power(N, P))\n",
        "\n",
        "      #or without recursion\n",
        "\n"
      ],
      "metadata": {
        "id": "vBBgIkZkjrB_",
        "outputId": "ece34aa4-7d96-484d-911e-b497ac01e505",
        "colab": {
          "base_uri": "https://localhost:8080/"
        }
      },
      "execution_count": 3,
      "outputs": [
        {
          "output_type": "stream",
          "name": "stdout",
          "text": [
            "8\n"
          ]
        }
      ]
    },
    {
      "cell_type": "code",
      "source": [
        "#write a program to sort tuple by total digits (input: list=[(3,4,6,723),(1,2),(134,234,34)])\n",
        "      #output:[(1,2)(3,4,6,723)(34,134,234)]\n",
        "a=[(3,4,6,723),(1,2),(134,234,34)]\n",
        "a.sort()\n",
        "print(a)\n",
        " #or using \"eval\"\n",
        "a=eval(input(\"enter listed of tuples\")) #using \"eval\" gives the program in single line\n",
        "b=sorted(a)\n",
        "print(b)"
      ],
      "metadata": {
        "id": "KcZtK6ZWlpBf",
        "outputId": "ca9a802b-7fa1-42f7-ebbf-e66044caf342",
        "colab": {
          "base_uri": "https://localhost:8080/"
        }
      },
      "execution_count": 10,
      "outputs": [
        {
          "output_type": "stream",
          "name": "stdout",
          "text": [
            "[(1, 2), (3, 4, 6, 723), (134, 234, 34)]\n",
            "enter listed of tuples(3,4,6,723),(1,2),(134,234,34)\n",
            "[(1, 2), (3, 4, 6, 723), (134, 234, 34)]\n"
          ]
        }
      ]
    },
    {
      "cell_type": "code",
      "source": [
        "#take five subjects from the user and display the grade of the student,if average is 90-100(o),80-89(a+),70-79(a)...\n",
        "sub1=int(input(\"Enter marks of the first subject: \"))\n",
        "sub2=int(input(\"Enter marks of the second subject: \"))\n",
        "sub3=int(input(\"Enter marks of the third subject: \"))\n",
        "sub4=int(input(\"Enter marks of the fourth subject: \"))\n",
        "sub5=int(input(\"Enter marks of the fifth subject: \"))\n",
        "avg=(sub1+sub2+sub3+sub4+sub4)/5\n",
        "print(avg)\n",
        "if (avg>=90):\n",
        " print(\"Grade: o\")\n",
        "elif (avg>=80 and avg<90):\n",
        " print(\"Grade: a+\")\n",
        "elif (avg>=70 and avg<80):\n",
        " print(\"Grade: a\")\n",
        "elif (avg>=60 and avg<70):\n",
        " print(\"Grade: b+\")\n",
        "else:\n",
        " print(\"Grade: b\")\n",
        "\n",
        "\n"
      ],
      "metadata": {
        "id": "Fy4ZIBjomfyf",
        "outputId": "6b355504-2f06-4ba6-c7f0-fd6332a5bf06",
        "colab": {
          "base_uri": "https://localhost:8080/"
        }
      },
      "execution_count": 13,
      "outputs": [
        {
          "output_type": "stream",
          "name": "stdout",
          "text": [
            "Enter marks of the first subject: 20\n",
            "Enter marks of the second subject: 40\n",
            "Enter marks of the third subject: 80\n",
            "Enter marks of the fourth subject: 90\n",
            "Enter marks of the fifth subject: 45\n",
            "64.0\n",
            "Grade: b+\n"
          ]
        }
      ]
    },
    {
      "cell_type": "code",
      "source": [
        "#write a python program that prints 1 if all three given numbers are ascending order.\n",
        "a,b,c=map(int,input().split())\n",
        "if b!=a+1 or c!=b+1:\n",
        "  print(0)\n",
        "elif b==a+1 and c==b+1:\n",
        "  print(1)  \n"
      ],
      "metadata": {
        "id": "dFTTdeoUo5Ih",
        "outputId": "1752d519-b43e-4789-f200-eb9e70ac06cf",
        "colab": {
          "base_uri": "https://localhost:8080/",
          "height": 252
        }
      },
      "execution_count": 28,
      "outputs": [
        {
          "name": "stdout",
          "output_type": "stream",
          "text": [
            "\"a b c\"\n"
          ]
        },
        {
          "output_type": "error",
          "ename": "TypeError",
          "evalue": "ignored",
          "traceback": [
            "\u001b[0;31m---------------------------------------------------------------------------\u001b[0m",
            "\u001b[0;31mTypeError\u001b[0m                                 Traceback (most recent call last)",
            "\u001b[0;32m<ipython-input-28-32977fa7d771>\u001b[0m in \u001b[0;36m<module>\u001b[0;34m()\u001b[0m\n\u001b[1;32m      1\u001b[0m \u001b[0;31m#write a python program that prints 1 if all three given numbers are ascending order.\u001b[0m\u001b[0;34m\u001b[0m\u001b[0;34m\u001b[0m\u001b[0;34m\u001b[0m\u001b[0m\n\u001b[1;32m      2\u001b[0m \u001b[0ma\u001b[0m\u001b[0;34m,\u001b[0m\u001b[0mb\u001b[0m\u001b[0;34m,\u001b[0m\u001b[0mc\u001b[0m\u001b[0;34m=\u001b[0m\u001b[0mmap\u001b[0m\u001b[0;34m(\u001b[0m\u001b[0mstr\u001b[0m\u001b[0;34m,\u001b[0m\u001b[0minput\u001b[0m\u001b[0;34m(\u001b[0m\u001b[0;34m)\u001b[0m\u001b[0;34m.\u001b[0m\u001b[0msplit\u001b[0m\u001b[0;34m(\u001b[0m\u001b[0;34m)\u001b[0m\u001b[0;34m)\u001b[0m\u001b[0;34m\u001b[0m\u001b[0;34m\u001b[0m\u001b[0m\n\u001b[0;32m----> 3\u001b[0;31m \u001b[0;32mif\u001b[0m \u001b[0mb\u001b[0m\u001b[0;34m!=\u001b[0m\u001b[0ma\u001b[0m\u001b[0;34m+\u001b[0m\u001b[0;36m1\u001b[0m \u001b[0;32mor\u001b[0m \u001b[0mc\u001b[0m\u001b[0;34m!=\u001b[0m\u001b[0mb\u001b[0m\u001b[0;34m+\u001b[0m\u001b[0;36m1\u001b[0m\u001b[0;34m:\u001b[0m\u001b[0;34m\u001b[0m\u001b[0;34m\u001b[0m\u001b[0m\n\u001b[0m\u001b[1;32m      4\u001b[0m   \u001b[0mprint\u001b[0m\u001b[0;34m(\u001b[0m\u001b[0;36m0\u001b[0m\u001b[0;34m)\u001b[0m\u001b[0;34m\u001b[0m\u001b[0;34m\u001b[0m\u001b[0m\n\u001b[1;32m      5\u001b[0m \u001b[0;32melif\u001b[0m \u001b[0mb\u001b[0m\u001b[0;34m==\u001b[0m\u001b[0ma\u001b[0m\u001b[0;34m+\u001b[0m\u001b[0;36m1\u001b[0m \u001b[0;32mand\u001b[0m \u001b[0mc\u001b[0m\u001b[0;34m==\u001b[0m\u001b[0mb\u001b[0m\u001b[0;34m+\u001b[0m\u001b[0;36m1\u001b[0m\u001b[0;34m:\u001b[0m\u001b[0;34m\u001b[0m\u001b[0;34m\u001b[0m\u001b[0m\n",
            "\u001b[0;31mTypeError\u001b[0m: can only concatenate str (not \"int\") to str"
          ]
        }
      ]
    },
    {
      "cell_type": "code",
      "source": [
        "#check a given number is perfect number are not\n",
        "a=int(input(\"enter the number\"))\n",
        "sum=0\n",
        "for i in range (1,a):\n",
        "  if a%i==0:\n",
        "    sum=sum+i\n",
        "if sum==a:\n",
        "      print(\"perfect number\")\n",
        "else:\n",
        "      print(\"not a perfect number\")"
      ],
      "metadata": {
        "id": "oPKFivpYvGVT",
        "outputId": "6f10e5d7-2f12-4622-b1d9-04fdfdadc8f3",
        "colab": {
          "base_uri": "https://localhost:8080/"
        }
      },
      "execution_count": 21,
      "outputs": [
        {
          "output_type": "stream",
          "name": "stdout",
          "text": [
            "enter the number9\n",
            "not a perfect number\n"
          ]
        }
      ]
    },
    {
      "cell_type": "code",
      "source": [
        "#check a given string is a pallindrome or not\n",
        "a=int(input(\"enter the number\"))\n",
        "rev=0\n",
        "temp=a\n",
        "while temp>0:\n",
        "             rem=temp%10\n",
        "             rev=(rev*10)+rem\n",
        "             temp=temp//10 \n",
        "if a==rev: \n",
        "                print(\"palindrome\")\n",
        "else:\n",
        "                print(\"not a plaindrome\")"
      ],
      "metadata": {
        "id": "dQFq3g6qvQRC",
        "outputId": "75f31f22-9531-428f-9c41-215f9d586a3b",
        "colab": {
          "base_uri": "https://localhost:8080/"
        }
      },
      "execution_count": 23,
      "outputs": [
        {
          "output_type": "stream",
          "name": "stdout",
          "text": [
            "enter the number21\n",
            "not a plaindrome\n"
          ]
        }
      ]
    },
    {
      "cell_type": "code",
      "source": [
        "#find the gcd of two numbers with and without recursion(5,3=1)\n",
        "\n",
        "\n"
      ],
      "metadata": {
        "id": "tVPF3EO3xczz"
      },
      "execution_count": 22,
      "outputs": []
    },
    {
      "cell_type": "code",
      "source": [
        "#print number of vowels and consonents in a given string(gitam university)\n",
        "\n"
      ],
      "metadata": {
        "id": "1u2aP4uq2wOv"
      },
      "execution_count": null,
      "outputs": []
    }
  ]
}