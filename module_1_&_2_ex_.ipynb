{
  "nbformat": 4,
  "nbformat_minor": 0,
  "metadata": {
    "colab": {
      "name": "module 1 & 2 ex.",
      "provenance": [],
      "authorship_tag": "ABX9TyPoi9kRrdHVtzP5c+gxr2yE",
      "include_colab_link": true
    },
    "kernelspec": {
      "name": "python3",
      "display_name": "Python 3"
    },
    "language_info": {
      "name": "python"
    }
  },
  "cells": [
    {
      "cell_type": "markdown",
      "metadata": {
        "id": "view-in-github",
        "colab_type": "text"
      },
      "source": [
        "<a href=\"https://colab.research.google.com/github/ssirapar/python-programs/blob/main/module_1_%26_2_ex_.ipynb\" target=\"_parent\"><img src=\"https://colab.research.google.com/assets/colab-badge.svg\" alt=\"Open In Colab\"/></a>"
      ]
    },
    {
      "cell_type": "code",
      "execution_count": 2,
      "metadata": {
        "colab": {
          "base_uri": "https://localhost:8080/"
        },
        "id": "mRX6thJldo1V",
        "outputId": "14baa5f5-c84b-43a4-8f01-1a11df4c3870"
      },
      "outputs": [
        {
          "output_type": "stream",
          "name": "stdout",
          "text": [
            "enter the month num14\n",
            "please enter crct choice\n"
          ]
        }
      ],
      "source": [
        "#write a program to read any month num in int and display the num of days for this month.\n",
        "a=(int(input(\"enter the month num\")))\n",
        "b=[4,6,9,11]\n",
        "if a==2: \n",
        "   print(\"28/29\")\n",
        "elif a in b:\n",
        "   print(\"30\")\n",
        "elif a>13 or a<1:\n",
        "   print(\"please enter crct choice\")\n",
        "else:\n",
        "   print(\"31\")\n"
      ]
    },
    {
      "cell_type": "code",
      "source": [
        "# To print the even length in a string.\n",
        "a=(input(\"enter the string\"))\n",
        "b=a.split()\n",
        "for i in b:\n",
        "    if len(i)%2==0:\n",
        "      print(i)\n"
      ],
      "metadata": {
        "colab": {
          "base_uri": "https://localhost:8080/"
        },
        "id": "unggQGZwdwio",
        "outputId": "c64c9005-5cc7-4d2e-c401-1cbdc0c956e4"
      },
      "execution_count": 4,
      "outputs": [
        {
          "output_type": "stream",
          "name": "stdout",
          "text": [
            "enter the stringthis is me\n",
            "this\n",
            "is\n",
            "me\n"
          ]
        }
      ]
    },
    {
      "cell_type": "code",
      "source": [
        "# converting 1st letter of the word into capital\n",
        "a=(input(\"enter the string\"))\n",
        "a=a.title()\n",
        "print(a)"
      ],
      "metadata": {
        "id": "c_4TqkNle_yO"
      },
      "execution_count": 4,
      "outputs": []
    },
    {
      "cell_type": "code",
      "source": [
        "# multiple integers to single integers\n",
        "a=eval(input(\"enter list of integers\")) #eval takes total list at a time.\n",
        "b=\"\"\n",
        "for i in a:\n",
        "  b+=str(i)\n",
        "print(b)  "
      ],
      "metadata": {
        "id": "yFMD4reZmehv"
      },
      "execution_count": null,
      "outputs": []
    },
    {
      "cell_type": "code",
      "source": [
        "# if given two int and a<b print all num in A.O(inclusively). or if a>=b print in D.O.\n",
        "a=int(input(\"enter the num 1:\"))\n",
        "b=int(input(\"enter the num 1:\"))\n",
        "if a<b:\n",
        "  for i in range(a,b+1):\n",
        "    print(i)\n",
        "else:\n",
        "  for i in range(a,b-1,-1):\n",
        "    print(i)"
      ],
      "metadata": {
        "id": "Ej5fbYQ2mipV"
      },
      "execution_count": null,
      "outputs": []
    },
    {
      "cell_type": "code",
      "source": [
        "# write the prime num in a range def prime(a,b):\n",
        "a=int(input(\"Enter the Range:\"))\n",
        "b=int(input(\"Enter the end range:\"))\n",
        "print (\"Prime Numbers in the range are: \")\n",
        "for n in range (a,b + 1):\n",
        " if n>1:\n",
        "  for i in range (2,n):\n",
        " if (n % i) == 0:\n",
        "  break\n",
        " else:\n",
        "  print No"
      ],
      "metadata": {
        "id": "UgmUk8vOm-BF"
      },
      "execution_count": null,
      "outputs": []
    }
  ]
}