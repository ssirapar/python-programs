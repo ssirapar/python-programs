{
  "nbformat": 4,
  "nbformat_minor": 0,
  "metadata": {
    "colab": {
      "name": "List.python",
      "provenance": [],
      "authorship_tag": "ABX9TyPj1cIZh6HNaNLJkKjy2Cpl",
      "include_colab_link": true
    },
    "kernelspec": {
      "name": "python3",
      "display_name": "Python 3"
    },
    "language_info": {
      "name": "python"
    }
  },
  "cells": [
    {
      "cell_type": "markdown",
      "metadata": {
        "id": "view-in-github",
        "colab_type": "text"
      },
      "source": [
        "<a href=\"https://colab.research.google.com/github/ssirapar/python-programs/blob/main/List_python.ipynb\" target=\"_parent\"><img src=\"https://colab.research.google.com/assets/colab-badge.svg\" alt=\"Open In Colab\"/></a>"
      ]
    },
    {
      "cell_type": "code",
      "execution_count": 12,
      "metadata": {
        "colab": {
          "base_uri": "https://localhost:8080/"
        },
        "id": "9FTxrevRVzET",
        "outputId": "bd8d3768-8d10-49f3-beb0-90cc184e918e"
      },
      "outputs": [
        {
          "output_type": "stream",
          "name": "stdout",
          "text": [
            "['guava', 'mango', 'apple', 'banana', 'orange']\n",
            "apple\n",
            "['guava', 'mango']\n",
            "['mango', 'apple', 'banana', 'orange']\n",
            "['guava', 'mango']\n",
            "banana\n",
            "['mango', 'apple', 'banana', 'orange']\n",
            "['guava', 'mango', 'apple', 'banana', 'orange']\n"
          ]
        }
      ],
      "source": [
        "              #fruit names\n",
        "fruit=[\"guava\",\"mango\",\"apple\",\"banana\",\"orange\",]\n",
        "print(fruit)\n",
        "print(fruit[2])   # access list items\n",
        "print(fruit[0:2])\n",
        "print(fruit[1:5])  # 1 is index and 2 is position\n",
        "print(fruit[:2])\n",
        "print(fruit[-2])\n",
        "print(fruit[1:])  #where it starts from\n",
        "print(fruit[:5])\n",
        "\n",
        "\n",
        "\n"
      ]
    },
    {
      "cell_type": "code",
      "source": [
        "# APPEND\n",
        "fruit=[\"guava\",\"mango\",\"apple\",\"banana\",\"orange\",]\n",
        "print(fruit)\n",
        "fruit.append(\"kiwi\")         #adding a name at last position.[ by using append]\n",
        "print(fruit)\n",
        "fruit.insert(2,\"jackfruit\")  # 2 is asssigning place value where the name should be added.[by using insert]\n",
        "print(fruit)\n",
        "fruit.remove(\"banana\")                         #   name is removed by using remove or pop(used when present in a list)\n",
        "                                               # delete is used to remove entire list\n",
        "print(fruit)\n",
        "print(type(fruit))\n"
      ],
      "metadata": {
        "colab": {
          "base_uri": "https://localhost:8080/"
        },
        "id": "_lRYAdoOZ5Lr",
        "outputId": "1192dc57-56ae-4948-d666-c977d2e2c7f3"
      },
      "execution_count": null,
      "outputs": [
        {
          "output_type": "stream",
          "name": "stdout",
          "text": [
            "['guava', 'mango', 'apple', 'banana', 'orange']\n",
            "['guava', 'mango', 'apple', 'banana', 'orange', 'kiwi']\n",
            "['guava', 'mango', 'jackfruit', 'apple', 'banana', 'orange', 'kiwi']\n",
            "['guava', 'mango', 'jackfruit', 'apple', 'orange', 'kiwi']\n",
            "<class 'list'>\n"
          ]
        }
      ]
    },
    {
      "cell_type": "code",
      "source": [
        "fruit=[\"guava\",\"mango\",\"apple\",\"banana\",\"orange\",]\n",
        "print(fruit)\n",
        "del fruit[0]         # delete entire list\n",
        "print(fruit)\n",
        "fruit.clear()        # clears entire list\n",
        "print(fruit)\n",
        "\n",
        "\n"
      ],
      "metadata": {
        "colab": {
          "base_uri": "https://localhost:8080/"
        },
        "id": "IBUArR7SWmZ8",
        "outputId": "e377ece4-8e90-4721-d0db-3356d6cb6d75"
      },
      "execution_count": null,
      "outputs": [
        {
          "output_type": "stream",
          "name": "stdout",
          "text": [
            "['guava', 'mango', 'apple', 'banana', 'orange']\n",
            "['mango', 'apple', 'banana', 'orange']\n",
            "[]\n",
            "[]\n"
          ]
        }
      ]
    },
    {
      "cell_type": "code",
      "source": [
        "# sort strings  [arranging in ascending or descending order]\n",
        "fruit = [\"orange\", \"mango\", \"kiwi\", \"pineapple\", \"banana\"]\n",
        "fruit.sort()\n",
        "print(fruit)\n",
        "fruit = [\"orange\", \"mango\", \"kiwi\", \"pineapple\", \"banana\"]\n",
        "\n",
        "fruit.sort(reverse=True)      # reverse=True is used to sort the data in descending order\n",
        "print(fruit)\n",
        "# sort num\n",
        "num = [100, 50, 65, 82, 23]\n",
        "num.sort()\n",
        "print(num)\n",
        "num.copy()       # copies the function\n",
        "print(num)\n",
        "num.sort(reverse=True)\n",
        "print(num)\n",
        "\n",
        "\n",
        "\n",
        " \n",
        " \n"
      ],
      "metadata": {
        "id": "TCXcYCUJg5sN",
        "outputId": "1b01de14-d9eb-4d46-ca3e-3a09d4a13805",
        "colab": {
          "base_uri": "https://localhost:8080/"
        }
      },
      "execution_count": 9,
      "outputs": [
        {
          "output_type": "stream",
          "name": "stdout",
          "text": [
            "['banana', 'kiwi', 'mango', 'orange', 'pineapple']\n",
            "['pineapple', 'orange', 'mango', 'kiwi', 'banana']\n",
            "[23, 50, 65, 82, 100]\n",
            "[23, 50, 65, 82, 100]\n",
            "[100, 82, 65, 50, 23]\n"
          ]
        }
      ]
    },
    {
      "cell_type": "code",
      "source": [
        ""
      ],
      "metadata": {
        "id": "Vt56EttSyXO4"
      },
      "execution_count": null,
      "outputs": []
    }
  ]
}