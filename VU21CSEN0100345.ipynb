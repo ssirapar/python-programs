{
  "nbformat": 4,
  "nbformat_minor": 0,
  "metadata": {
    "colab": {
      "name": "VU21CSEN0100345",
      "provenance": [],
      "authorship_tag": "ABX9TyOrK2+TFIfGiiMTs5FYu/IX",
      "include_colab_link": true
    },
    "kernelspec": {
      "name": "python3",
      "display_name": "Python 3"
    },
    "language_info": {
      "name": "python"
    }
  },
  "cells": [
    {
      "cell_type": "markdown",
      "metadata": {
        "id": "view-in-github",
        "colab_type": "text"
      },
      "source": [
        "<a href=\"https://colab.research.google.com/github/ssirapar/python-programs/blob/main/VU21CSEN0100345.ipynb\" target=\"_parent\"><img src=\"https://colab.research.google.com/assets/colab-badge.svg\" alt=\"Open In Colab\"/></a>"
      ]
    },
    {
      "cell_type": "code",
      "execution_count": 1,
      "metadata": {
        "colab": {
          "base_uri": "https://localhost:8080/"
        },
        "id": "p9hswnN-kCVK",
        "outputId": "5fdde4df-c980-4971-a243-a2844ea1645e"
      },
      "outputs": [
        {
          "output_type": "stream",
          "name": "stdout",
          "text": [
            "Enter marks of the first subject: 23\n",
            "Enter marks of the second subject: 56\n",
            "Enter marks of the third subject: 98\n",
            "Enter marks of the fourth subject: 45\n",
            "Enter marks of the fifth subject: 56\n",
            "Grade: F\n"
          ]
        }
      ],
      "source": [
        "     ## STUDENT MARKS\n",
        "\n",
        "sub1=int(input(\"Enter marks of the first subject: \"))\n",
        "sub2=int(input(\"Enter marks of the second subject: \"))\n",
        "sub3=int(input(\"Enter marks of the third subject: \"))\n",
        "sub4=int(input(\"Enter marks of the fourth subject: \"))\n",
        "sub5=int(input(\"Enter marks of the fifth subject: \"))\n",
        "avg=(sub1+sub2+sub3+sub4+sub4)/5\n",
        "if (avg>=90):\n",
        " print(\"Grade: A\")\n",
        "elif (avg>=80 and avg<90):\n",
        " print(\"Grade: B\")\n",
        "elif (avg>=70 and avg<80):\n",
        " print(\"Grade: C\")\n",
        "elif (avg>=60 and avg<70):\n",
        " print(\"Grade: D\")\n",
        "else:\n",
        " print(\"Grade: F\")"
      ]
    },
    {
      "cell_type": "code",
      "source": [
        "  ## PALINDROME OR NOT\n",
        "\n",
        "n=int(input(\"Enter number:\"))\n",
        "temp=n\n",
        "rev=0\n",
        "while(n>0):\n",
        "    dig=n%10\n",
        "    rev=rev*10+dig\n",
        "    n=n//10\n",
        "if(temp==rev):\n",
        "    print(\"The number is a palindrome!\")\n",
        "else:\n",
        "    print(\"The number isn't a palindrome!\")"
      ],
      "metadata": {
        "colab": {
          "base_uri": "https://localhost:8080/"
        },
        "id": "g8Z1qv9_kWkP",
        "outputId": "840e2aeb-c9ba-4432-ce6c-9d9b099f0f40"
      },
      "execution_count": 4,
      "outputs": [
        {
          "output_type": "stream",
          "name": "stdout",
          "text": [
            "Enter number:1212\n",
            "The number isn't a palindrome!\n"
          ]
        }
      ]
    },
    {
      "cell_type": "code",
      "source": [
        "## LIST\n",
        "colours=(\"red\",\"green\",\"white\",\"black\",\"blue\",\"pink\")\n",
        "print(colours[1],colours[4],colours[5])"
      ],
      "metadata": {
        "colab": {
          "base_uri": "https://localhost:8080/"
        },
        "id": "79fspeQPkjU4",
        "outputId": "0d2efdef-78fd-4ce2-d2f9-a4ce40092fb9"
      },
      "execution_count": 5,
      "outputs": [
        {
          "output_type": "stream",
          "name": "stdout",
          "text": [
            "green blue pink\n"
          ]
        }
      ]
    },
    {
      "cell_type": "code",
      "source": [
        "## fibonacci series\n",
        "def a(n):   #a=recur_fibo\n",
        "   if n <= 1:  \n",
        "       return n  \n",
        "   else:  \n",
        "       return(a(n-1) + a(n-2))  \n",
        "# take input from the user  \n",
        "nterms = int(input(\"How many terms? \"))  \n",
        "# check if the number of terms is valid  \n",
        "if nterms <= 0:  \n",
        "   print(\"Plese enter a positive integer\")  \n",
        "else:  \n",
        "   print(\"Fibonacci sequence:\")  \n",
        "   for i in range(nterms):  \n",
        "       print(a(i))  "
      ],
      "metadata": {
        "colab": {
          "base_uri": "https://localhost:8080/"
        },
        "id": "sqocvDFJm_sg",
        "outputId": "1b1a2561-2288-4277-d9a2-1f2cd91d1e93"
      },
      "execution_count": 8,
      "outputs": [
        {
          "output_type": "stream",
          "name": "stdout",
          "text": [
            "How many terms? 5\n",
            "Fibonacci sequence:\n",
            "0\n",
            "1\n",
            "1\n",
            "2\n",
            "3\n"
          ]
        }
      ]
    },
    {
      "cell_type": "code",
      "source": [
        "#draw a pie chart of 6 subject  \n",
        "import matplotlib.pyplot as plt\n",
        "import numpy as np\n",
        "y = np.array([96,72,56,45,84,65])\n",
        "marks = ['chem','clad','python','c program','eng','vdc']\n",
        "mycolors=['hotpink','blue','r','y','B','r']\n",
        "\n",
        "plt.pie(y,labels=marks,colors=mycolors)\n",
        "plt.show() \n",
        "\n"
      ],
      "metadata": {
        "colab": {
          "base_uri": "https://localhost:8080/",
          "height": 248
        },
        "id": "khHpKkD5nT2t",
        "outputId": "b38b7737-0a1a-4d4c-9827-dd0ef5baea5d"
      },
      "execution_count": 16,
      "outputs": [
        {
          "output_type": "display_data",
          "data": {
            "text/plain": [
              "<Figure size 432x288 with 1 Axes>"
            ],
            "image/png": "[encoded data removed]"
          },
          "metadata": {}
        }
      ]
    },
    {
      "cell_type": "code",
      "source": [
        ""
      ],
      "metadata": {
        "id": "G-FbvEEjpKrv"
      },
      "execution_count": null,
      "outputs": []
    }
  ]
}