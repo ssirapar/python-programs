{
  "nbformat": 4,
  "nbformat_minor": 0,
  "metadata": {
    "colab": {
      "name": "python funtions",
      "provenance": [],
      "authorship_tag": "ABX9TyNbyHKzPaMYBTD6Qua3QESx",
      "include_colab_link": true
    },
    "kernelspec": {
      "name": "python3",
      "display_name": "Python 3"
    },
    "language_info": {
      "name": "python"
    }
  },
  "cells": [
    {
      "cell_type": "markdown",
      "metadata": {
        "id": "view-in-github",
        "colab_type": "text"
      },
      "source": [
        "<a href=\"https://colab.research.google.com/github/ssirapar/python-programs/blob/main/python_funtions.ipynb\" target=\"_parent\"><img src=\"https://colab.research.google.com/assets/colab-badge.svg\" alt=\"Open In Colab\"/></a>"
      ]
    },
    {
      "cell_type": "code",
      "execution_count": 5,
      "metadata": {
        "colab": {
          "base_uri": "https://localhost:8080/"
        },
        "id": "BFEyixfKUd37",
        "outputId": "ef7d3a6c-b4a4-4fbb-fb6e-561bb544ef26"
      },
      "outputs": [
        {
          "output_type": "stream",
          "name": "stdout",
          "text": [
            "hello\n"
          ]
        }
      ],
      "source": [
        "#Calling a Function\n",
        "#without argument without return \n",
        "def sowmya():\n",
        "  print(\"hello\")\n",
        "sowmya()"
      ]
    },
    {
      "cell_type": "code",
      "source": [
        "#Arguments\n",
        "#Information can be passed into functions as arguments.\n",
        "# always should end with : symbol\n",
        "def fruit(fname):\n",
        "  print(fname + \" apple\")\n",
        "\n",
        "fruit(\"is tasty\")\n",
        "fruit(\"is healthy \")\n",
        "\n"
      ],
      "metadata": {
        "colab": {
          "base_uri": "https://localhost:8080/"
        },
        "id": "RbyyUoPcVGgi",
        "outputId": "8424ca44-f543-467a-d441-cc313cfe8d80"
      },
      "execution_count": 9,
      "outputs": [
        {
          "output_type": "stream",
          "name": "stdout",
          "text": [
            "is tasty apple\n",
            "is healthy  apple\n"
          ]
        }
      ]
    },
    {
      "cell_type": "code",
      "source": [
        "# with arguments without return\n",
        "def voting(g,n,a):\n",
        " print(g + \" female \")\n",
        " print(n + \"sowmya\")\n",
        " print(a + \" 18\") \n",
        "voting(\"gender:\",\"name:\",\"age:\")  "
      ],
      "metadata": {
        "colab": {
          "base_uri": "https://localhost:8080/"
        },
        "id": "HenTfl3gYYuR",
        "outputId": "bb12dbae-37ae-4bd7-c4d0-cb11915ec775"
      },
      "execution_count": 20,
      "outputs": [
        {
          "output_type": "stream",
          "name": "stdout",
          "text": [
            "gender: female \n",
            "name:sowmya\n",
            "age: 18\n"
          ]
        }
      ]
    },
    {
      "cell_type": "code",
      "source": [
        "def place( country = \"INDIA\"):\n",
        "  print(\"i am from \" + country)\n",
        "\n",
        "place(\"canada\")\n",
        "place(\"america\")  \n",
        "place()"
      ],
      "metadata": {
        "colab": {
          "base_uri": "https://localhost:8080/"
        },
        "id": "emV33qa5Zc-l",
        "outputId": "2c21b5b5-d828-4378-dd90-ecb252b23bc2"
      },
      "execution_count": 25,
      "outputs": [
        {
          "output_type": "stream",
          "name": "stdout",
          "text": [
            "i am from canada\n",
            "i am from america\n",
            "i am from INDIA\n"
          ]
        }
      ]
    },
    {
      "cell_type": "code",
      "source": [
        "#without argument without return \n",
        "def sowmya():\n",
        "  print(\"hello\")\n",
        "sowmya()\n",
        "\n"
      ],
      "metadata": {
        "id": "m4t8bhI8cgha"
      },
      "execution_count": null,
      "outputs": []
    },
    {
      "cell_type": "code",
      "source": [
        "def vote(name,age,gender):\n",
        " print(\"name of the person:\",name)\n",
        " print(\"age of the person:\",age)\n",
        " print(\"gender of the person:\",gender)\n",
        " if age>=18:\n",
        "  print(\"eligible for voting\")\n",
        " else:\n",
        "  print(\"not eligible for voting\")\n",
        "vote(\"sowmya\",18,\"female\")"
      ],
      "metadata": {
        "colab": {
          "base_uri": "https://localhost:8080/"
        },
        "id": "pktmK4Gkea16",
        "outputId": "be392977-4461-4438-fc70-4b61af3e949b"
      },
      "execution_count": 34,
      "outputs": [
        {
          "output_type": "stream",
          "name": "stdout",
          "text": [
            "name of the person: sowmya\n",
            "age of the person: 18\n",
            "gender of the person: female\n",
            "eligible for voting\n"
          ]
        }
      ]
    },
    {
      "cell_type": "code",
      "source": [
        " "
      ],
      "metadata": {
        "id": "L2B4fJj2fZGS"
      },
      "execution_count": null,
      "outputs": []
    }
  ]
}