{
  "nbformat": 4,
  "nbformat_minor": 0,
  "metadata": {
    "colab": {
      "name": "module 1 programs",
      "provenance": [],
      "authorship_tag": "ABX9TyOoFboPHaoxIEjZTnS0R7we",
      "include_colab_link": true
    },
    "kernelspec": {
      "name": "python3",
      "display_name": "Python 3"
    },
    "language_info": {
      "name": "python"
    }
  },
  "cells": [
    {
      "cell_type": "markdown",
      "metadata": {
        "id": "view-in-github",
        "colab_type": "text"
      },
      "source": [
        "<a href=\"https://colab.research.google.com/github/ssirapar/python-programs/blob/main/module_1_programs.ipynb\" target=\"_parent\"><img src=\"https://colab.research.google.com/assets/colab-badge.svg\" alt=\"Open In Colab\"/></a>"
      ]
    },
    {
      "cell_type": "code",
      "execution_count": null,
      "metadata": {
        "colab": {
          "base_uri": "https://localhost:8080/"
        },
        "id": "T6yqM0o-eDik",
        "outputId": "c39cd967-3e52-44da-d132-a7b9a036389f"
      },
      "outputs": [
        {
          "output_type": "stream",
          "name": "stdout",
          "text": [
            "12\n",
            "29\n",
            "161\n",
            "<class 'int'>\n",
            "<built-in method format of str object at 0x7f5561f91e30>\n",
            "Enter your value: 28\n",
            "28\n"
          ]
        }
      ],
      "source": [
        "# 1.Accept input from user and store it in variable and print the value.\n",
        "a=100\n",
        "b=20\n",
        "c=int(input())\n",
        "d=int(input())\n",
        "f=a+b+c+d\n",
        "print(f)\n",
        "print(type(f))\n",
        "# .format\n",
        "g=123\n",
        "h=(\"hello\")\n",
        "print(h.format) #or\n",
        "val = input(\"Enter your value: \")\n",
        "print(val)\n",
        "\n",
        "\n"
      ]
    },
    {
      "cell_type": "code",
      "source": [
        "# 2.Use of print statements and use of (.format )for printing different data types\n",
        "a=(\"peacock dances well\")\n",
        "b=(\" and they look pretty\")\n",
        "c=a+b\n",
        "print(c)\n",
        "a=123\n",
        "b=\"hello {}\"\n",
        "print(b.format(a,b))  #or\n",
        "age =18\n",
        "name =\"sowmya {}\"\n",
        "print(name.format(age))\n",
        "\n"
      ],
      "metadata": {
        "colab": {
          "base_uri": "https://localhost:8080/"
        },
        "id": "GevYJ1nlfShE",
        "outputId": "ebb5b747-b73c-42e6-dbdd-d8251ff3c83a"
      },
      "execution_count": null,
      "outputs": [
        {
          "output_type": "stream",
          "name": "stdout",
          "text": [
            "peacock dances well and they look pretty\n",
            "hello 123\n",
            "sowmya 18\n"
          ]
        }
      ]
    },
    {
      "cell_type": "code",
      "source": [
        "#3.Take 2 numbers as user input and add, multiply, divide, subtract, remainder and print\n",
        "#the output (Same operations on floating point input as well)\n",
        "num1= int(input(\"Enter First Number: \"))\n",
        "num2= int(input(\"Enter Second Number: \"))\n",
        "\n",
        "print(\"Enter which operation \")\n",
        "a= input(\"Enter any of these char for specific operation +,-,*,/: \")\n",
        "\n",
        "result = 0\n",
        "if a== '+':\n",
        "    result = num1 + num2\n",
        "elif a == '-':\n",
        "    result = num1 - num2\n",
        "elif a == '*':\n",
        "    result = num1 * num2\n",
        "elif a == '/':\n",
        "    result = num1 / num2\n",
        "else:\n",
        "    print(\"Input character is not recognized!\")\n",
        "\n",
        "print(num1, a, num2, \":\", result)       # or\n",
        "a=8\n",
        "b=5\n",
        "c=a+b\n",
        "d=a-b\n",
        "e=a*d\n",
        "f=a/b\n",
        "g=a%b\n",
        "print(c)\n",
        "print(d)\n",
        "print(e)\n",
        "print(f)\n",
        "print(g)"
      ],
      "metadata": {
        "colab": {
          "base_uri": "https://localhost:8080/"
        },
        "id": "tkDvmKZfmlM2",
        "outputId": "5d71c802-d432-4e62-c697-f3380be64afd"
      },
      "execution_count": null,
      "outputs": [
        {
          "output_type": "stream",
          "name": "stdout",
          "text": [
            "Enter First Number: 12\n",
            "Enter Second Number: 30\n",
            "Enter which operation \n",
            "Enter any of these char for specific operation +,-,*,/: +\n",
            "12 + 30 : 42\n",
            "13\n",
            "3\n",
            "24\n",
            "1.6\n",
            "3\n"
          ]
        }
      ]
    },
    {
      "cell_type": "code",
      "source": [
        "# 4.Conversion of one unit to another (such as hours to minutes, miles to km and etc)\n",
        "a=4\n",
        "min=4*60\n",
        "print(min)  #and\n",
        "hours = int(input(\"Input hours: \")) * 3600\n",
        "minutes = int(input(\"Input minutes: \")) * 60\n",
        "time =hours + minutes\n",
        "print(\"The amounts of seconds\", time)  \n",
        "                #and\n",
        "hours = int(input(\"enter hours:\"))\n",
        "minutes = hours * 60\n",
        "print(minutes, \" Minutes\")\n",
        "km=int(input(\"enter number of km\"))\n",
        "meter=km*1000\n",
        "cm=meter*100\n",
        "print(meter)\n",
        "print(cm)\n"
      ],
      "metadata": {
        "id": "82OTG3NrnKiV",
        "outputId": "7b18f22f-38be-466d-a7b5-144016dca383",
        "colab": {
          "base_uri": "https://localhost:8080/"
        }
      },
      "execution_count": 4,
      "outputs": [
        {
          "output_type": "stream",
          "name": "stdout",
          "text": [
            "240\n",
            "Input hours: 5\n",
            "Input minutes: 30\n",
            "The amounts of seconds 19800\n",
            "enter hours:5\n",
            "300  Minutes\n",
            "enter number of km90\n",
            "90000\n",
            "9000000\n"
          ]
        }
      ]
    },
    {
      "cell_type": "code",
      "source": [
        "## 5.Usage of mathematical functions in python like math.ceil, floor, fabs, fmod, trunc,\n",
        "import math\n",
        "a=4.567\n",
        "print(math.ceil(a))\n",
        "b=-9\n",
        "print(math.fabs(b))\n",
        "c=3.67\n",
        "print(math.floor(c))\n",
        "d=2**3\n",
        "print(d)\n",
        "e=math.sqrt(81)\n",
        "print(e)"
      ],
      "metadata": {
        "id": "VQbpWhl701ax",
        "outputId": "bd5d4483-cee6-41be-9b52-415df529d4c9",
        "colab": {
          "base_uri": "https://localhost:8080/"
        }
      },
      "execution_count": null,
      "outputs": [
        {
          "output_type": "stream",
          "name": "stdout",
          "text": [
            "5\n",
            "9.0\n",
            "3\n",
            "8\n",
            "9.0\n"
          ]
        }
      ]
    },
    {
      "cell_type": "code",
      "source": [
        "# 6.Building a mathematical calculator that can perform operations according to user input.\n",
        "a=2\n",
        "b=3\n",
        "print('1=\"addition\",2=\"subtraction\",3=\"multiplication\",4=\"division\"')\n",
        "c=int(input(\"enter any number upto 4\"))\n",
        "if c==1:\n",
        " print(a+b)\n",
        "elif c==2:\n",
        " print(a-b)\n",
        "elif c==3:\n",
        " print(a*b)\n",
        "elif c==4:\n",
        " print(a/b)\n",
        "else:\n",
        " print(\"invalid\")"
      ],
      "metadata": {
        "id": "cVqWnXWZ1Frq",
        "outputId": "9c544885-0ce5-4c54-82f0-82ea851464b0",
        "colab": {
          "base_uri": "https://localhost:8080/"
        }
      },
      "execution_count": null,
      "outputs": [
        {
          "output_type": "stream",
          "name": "stdout",
          "text": [
            "1=\"addition\",2=\"subtraction\",3=\"multiplication\",4=\"division\"\n",
            "enter any number upto 43\n",
            "6\n"
          ]
        }
      ]
    },
    {
      "cell_type": "code",
      "source": [
        "# 7.Accepting 5 different subject marks from user and displaying the grade of the student\n",
        "sub1=int(input(\"Enter marks of the first subject: \"))\n",
        "sub2=int(input(\"Enter marks of the second subject: \"))\n",
        "sub3=int(input(\"Enter marks of the third subject: \"))\n",
        "sub4=int(input(\"Enter marks of the fourth subject: \"))\n",
        "sub5=int(input(\"Enter marks of the fifth subject: \"))\n",
        "avg=(sub1+sub2+sub3+sub4+sub4)/5\n",
        "if (avg>=90):\n",
        " print(\"Grade: A\")\n",
        "elif (avg>=80 and avg<90):\n",
        " print(\"Grade: B\")\n",
        "elif (avg>=70 and avg<80):\n",
        " print(\"Grade: C\")\n",
        "elif (avg>=60 and avg<70):\n",
        " print(\"Grade: D\")\n",
        "else:\n",
        " print(\"Grade: F\")"
      ],
      "metadata": {
        "id": "bVUcaW4Z1hAU",
        "outputId": "f38426dd-a3fe-49c3-9741-f282e1287a27",
        "colab": {
          "base_uri": "https://localhost:8080/"
        }
      },
      "execution_count": null,
      "outputs": [
        {
          "output_type": "stream",
          "name": "stdout",
          "text": [
            "Enter marks of the first subject: 50\n",
            "Enter marks of the second subject: 70\n",
            "Enter marks of the third subject: 90\n",
            "Enter marks of the fourth subject: 79\n",
            "Enter marks of the fifth subject: 80\n",
            "Grade: C\n"
          ]
        }
      ]
    },
    {
      "cell_type": "code",
      "source": [
        "#Printing all even numbers, odd numbers, count of even numbers, count of odd numbers\n",
        "\n",
        "a=int(input(\"enter the first number in the range\"))\n",
        "b=int(input(\"enter the second number in the range\"))\n",
        "for i in range(a,b):\n",
        " if i%2==0:\n",
        "  print(\"even numbers are\",i)\n",
        "else:\n",
        " print(\"odd numbers are \",i)"
      ],
      "metadata": {
        "id": "FZ8UygFL3wxn",
        "outputId": "ecbc750b-b58d-4552-dfb8-d3b6ff2fe2c5",
        "colab": {
          "base_uri": "https://localhost:8080/"
        }
      },
      "execution_count": 5,
      "outputs": [
        {
          "output_type": "stream",
          "name": "stdout",
          "text": [
            "enter the first number in the range2\n",
            "enter the second number in the range10\n",
            "even numbers are 2\n",
            "even numbers are 4\n",
            "even numbers are 6\n",
            "even numbers are 8\n",
            "odd numbers are  9\n"
          ]
        }
      ]
    },
    {
      "cell_type": "code",
      "source": [
        "#the factorial of a given number\n",
        "\n",
        "a=int(input(\"Enter a number\"))\n",
        "factorial = 1 \n",
        "for i in range(1,a + 1): \n",
        " factorial = factorial*i \n",
        "print(\"The factorial of\",a,\"is\",factorial)"
      ],
      "metadata": {
        "id": "rXizO3-I8L0B",
        "outputId": "85c9a408-fe8e-4f81-ba5c-e32d900127cf",
        "colab": {
          "base_uri": "https://localhost:8080/"
        }
      },
      "execution_count": 6,
      "outputs": [
        {
          "output_type": "stream",
          "name": "stdout",
          "text": [
            "Enter a number9\n",
            "The factorial of 9 is 362880\n"
          ]
        }
      ]
    },
    {
      "cell_type": "code",
      "source": [
        "#gcd of two numbers\n",
        "\n",
        "x =int (input (\"Enter the first number: \"))   \n",
        "y =int (input (\"Enter the second number: \"))  \n",
        "\n",
        "gcd = 1\n",
        "for i in range(1, min(x, y)):\n",
        "  if x % i == 0 and y % i == 0:\n",
        "        gcd = i\n",
        "print(\"GCD of\", x, \"and\", y, \"is\", gcd)"
      ],
      "metadata": {
        "id": "hoY2gu-K8VTR"
      },
      "execution_count": null,
      "outputs": []
    },
    {
      "cell_type": "code",
      "source": [
        "#fibonacci series\n",
        "\n",
        "num = int(input(\"Enter the Number:\"))\n",
        "n1, n2 = 0, 1\n",
        "print(\"Fibonacci Series:\", n1, n2, end=\" \")\n",
        "for i in range(2, num):\n",
        "    n3 = n1 + n2\n",
        "    n1 = n2\n",
        "    n2 = n3\n",
        "    print(n3, end=\" \")\n",
        "\n",
        "print()"
      ],
      "metadata": {
        "id": "SB0LLL2f9ITU"
      },
      "execution_count": null,
      "outputs": []
    },
    {
      "cell_type": "code",
      "source": [
        "#palindrome number\n",
        "\n",
        "a=int(input(\"enter the number\"))\n",
        "rev=0\n",
        "temp=a\n",
        "while temp>0:\n",
        "             rem=temp%10\n",
        "             rev=(rev*10)+rem\n",
        "             temp=temp//10 \n",
        "             if a==rev: \n",
        "                print(\"palindrome\")\n",
        "else:\n",
        "                print(\"not a plaindrome\")\n",
        "                "
      ],
      "metadata": {
        "id": "M7uZF0_t9Kj7"
      },
      "execution_count": null,
      "outputs": []
    },
    {
      "cell_type": "code",
      "source": [
        "#perfect number\n",
        "\n",
        "a=int(input(\"enter the number\"))\n",
        "sum=0\n",
        "for i in range (1,a):\n",
        "  if a%i==0:\n",
        "    sum=sum+i\n",
        "    if sum==a:\n",
        "      print(\"perfect number\")\n",
        "else:\n",
        "          print(\"not a perfect number\")"
      ],
      "metadata": {
        "id": "sfcft0vn9dVI"
      },
      "execution_count": null,
      "outputs": []
    },
    {
      "cell_type": "code",
      "source": [
        "#compound intetrst using loop\n",
        "\n",
        "import math\n",
        "p=int(input(\"enter principle amount\"))\n",
        "t=int(input(\"enter no of years\"))\n",
        "r=int(input(\"enter interest amount\"))\n",
        "for i in range(1,t+1):\n",
        "  si=(p*t*r)/100\n",
        "  print(i,\"yr interest si is\",si)\n",
        "  ci=p*(math.pow(1+r/100,i))\n",
        "  print(i,\"yr interest ci is\",ci)"
      ],
      "metadata": {
        "id": "t7FeuBWq9oBO"
      },
      "execution_count": null,
      "outputs": []
    },
    {
      "cell_type": "code",
      "source": [
        "#STRONG NUMBER\n",
        "\n",
        "num=int(input(\"enter number\"))\n",
        "sum=0\n",
        "a=num\n",
        "while (num):\n",
        "  i=1\n",
        "  f=1\n",
        "  r=num %10\n",
        "  while(i<=r):\n",
        "    f=f*i\n",
        "    i=i+1\n",
        "    sum=sum+f\n",
        "    num=num//10\n",
        "    if (sum==a):\n",
        "      print(\"strong number\")\n",
        "    else:\n",
        "        print(\"not a strong number\")"
      ],
      "metadata": {
        "id": "dLYYdhgz9zxg"
      },
      "execution_count": null,
      "outputs": []
    },
    {
      "cell_type": "code",
      "source": [
        ""
      ],
      "metadata": {
        "id": "g8jdNvvj-A2G"
      },
      "execution_count": null,
      "outputs": []
    }
  ]
}