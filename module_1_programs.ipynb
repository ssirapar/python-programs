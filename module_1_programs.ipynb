{
  "nbformat": 4,
  "nbformat_minor": 0,
  "metadata": {
    "colab": {
      "name": "module 1 programs",
      "provenance": [],
      "authorship_tag": "ABX9TyNrpo5B0syqjPmCkj5BcDLe",
      "include_colab_link": true
    },
    "kernelspec": {
      "name": "python3",
      "display_name": "Python 3"
    },
    "language_info": {
      "name": "python"
    }
  },
  "cells": [
    {
      "cell_type": "markdown",
      "metadata": {
        "id": "view-in-github",
        "colab_type": "text"
      },
      "source": [
        "<a href=\"https://colab.research.google.com/github/ssirapar/python-programs/blob/main/module_1_programs.ipynb\" target=\"_parent\"><img src=\"https://colab.research.google.com/assets/colab-badge.svg\" alt=\"Open In Colab\"/></a>"
      ]
    },
    {
      "cell_type": "code",
      "execution_count": 1,
      "metadata": {
        "colab": {
          "base_uri": "https://localhost:8080/"
        },
        "id": "T6yqM0o-eDik",
        "outputId": "c39cd967-3e52-44da-d132-a7b9a036389f"
      },
      "outputs": [
        {
          "output_type": "stream",
          "name": "stdout",
          "text": [
            "12\n",
            "29\n",
            "161\n",
            "<class 'int'>\n",
            "<built-in method format of str object at 0x7f5561f91e30>\n",
            "Enter your value: 28\n",
            "28\n"
          ]
        }
      ],
      "source": [
        "#Accept input from user and store it in variable and print the value.\n",
        "a=100\n",
        "b=20\n",
        "c=int(input())\n",
        "d=int(input())\n",
        "f=a+b+c+d\n",
        "print(f)\n",
        "print(type(f))\n",
        "# .format\n",
        "g=123\n",
        "h=(\"hello\")\n",
        "print(h.format) #or\n",
        "val = input(\"Enter your value: \")\n",
        "print(val)\n",
        "\n",
        "\n"
      ]
    },
    {
      "cell_type": "code",
      "source": [
        "# 2.Use of print statements and use of (.format )for printing different data types\n",
        "a=(\"peacock dances well\")\n",
        "b=(\" and they look pretty\")\n",
        "c=a+b\n",
        "print(c)\n",
        "a=123\n",
        "b=\"hello {}\"\n",
        "print(b.format(a,b))  #or\n",
        "age =18\n",
        "name =\"sowmya {}\"\n",
        "print(name.format(age))\n",
        "\n"
      ],
      "metadata": {
        "colab": {
          "base_uri": "https://localhost:8080/"
        },
        "id": "GevYJ1nlfShE",
        "outputId": "ebb5b747-b73c-42e6-dbdd-d8251ff3c83a"
      },
      "execution_count": 2,
      "outputs": [
        {
          "output_type": "stream",
          "name": "stdout",
          "text": [
            "peacock dances well and they look pretty\n",
            "hello 123\n",
            "sowmya 18\n"
          ]
        }
      ]
    },
    {
      "cell_type": "code",
      "source": [
        "#Accepting 5 different subject marks from user and displaying the grade of the student\n",
        "sub1=int(input(\"Enter marks of  phy: \"))\n",
        "sub2=int(input(\"Enter marks of math: \"))\n",
        "sub3=int(input(\"Enter marks of chem: \"))\n",
        "sub4=int(input(\"Enter marks of  CSE: \"))\n",
        "sub5=int(input(\"Enter marks of  EEE: \"))\n",
        "avg=(sub1+sub2+sub3+sub4+sub4)/5\n",
        "if(avg>=90):\n",
        "    print(\"Grade: A\")\n",
        "elif(avg>=80&avg<90):\n",
        "    print(\"Grade: B\")\n",
        "elif(avg>=70&avg<80):\n",
        "    print(\"Grade: C\")\n",
        "elif(avg>=60&avg<70):\n",
        "    print(\"Grade: D\")\n",
        "else:\n",
        "    print(\"Grade: F\")\n",
        "          \n"
      ],
      "metadata": {
        "colab": {
          "base_uri": "https://localhost:8080/",
          "height": 335
        },
        "id": "xi-F3kmmiZcV",
        "outputId": "df8032bc-0016-4b81-ba9f-6962c2b1925d"
      },
      "execution_count": null,
      "outputs": [
        {
          "name": "stdout",
          "output_type": "stream",
          "text": [
            "Enter marks of  phy: 90\n",
            "Enter marks of math: 90\n",
            "Enter marks of chem: 50\n",
            "Enter marks of  CSE: 60\n",
            "Enter marks of  EEE: 60\n"
          ]
        },
        {
          "output_type": "error",
          "ename": "TypeError",
          "evalue": "ignored",
          "traceback": [
            "\u001b[0;31m---------------------------------------------------------------------------\u001b[0m",
            "\u001b[0;31mTypeError\u001b[0m                                 Traceback (most recent call last)",
            "\u001b[0;32m<ipython-input-14-ecfcdd44a19a>\u001b[0m in \u001b[0;36m<module>\u001b[0;34m()\u001b[0m\n\u001b[1;32m      8\u001b[0m \u001b[0;32mif\u001b[0m\u001b[0;34m(\u001b[0m\u001b[0mavg\u001b[0m\u001b[0;34m>=\u001b[0m\u001b[0;36m90\u001b[0m\u001b[0;34m)\u001b[0m\u001b[0;34m:\u001b[0m\u001b[0;34m\u001b[0m\u001b[0;34m\u001b[0m\u001b[0m\n\u001b[1;32m      9\u001b[0m     \u001b[0mprint\u001b[0m\u001b[0;34m(\u001b[0m\u001b[0;34m\"Grade: A\"\u001b[0m\u001b[0;34m)\u001b[0m\u001b[0;34m\u001b[0m\u001b[0;34m\u001b[0m\u001b[0m\n\u001b[0;32m---> 10\u001b[0;31m \u001b[0;32melif\u001b[0m\u001b[0;34m(\u001b[0m\u001b[0mavg\u001b[0m\u001b[0;34m>=\u001b[0m\u001b[0;36m80\u001b[0m\u001b[0;34m&\u001b[0m\u001b[0mavg\u001b[0m\u001b[0;34m<\u001b[0m\u001b[0;36m90\u001b[0m\u001b[0;34m)\u001b[0m\u001b[0;34m:\u001b[0m\u001b[0;34m\u001b[0m\u001b[0;34m\u001b[0m\u001b[0m\n\u001b[0m\u001b[1;32m     11\u001b[0m     \u001b[0mprint\u001b[0m\u001b[0;34m(\u001b[0m\u001b[0;34m\"Grade: B\"\u001b[0m\u001b[0;34m)\u001b[0m\u001b[0;34m\u001b[0m\u001b[0;34m\u001b[0m\u001b[0m\n\u001b[1;32m     12\u001b[0m \u001b[0;32melif\u001b[0m\u001b[0;34m(\u001b[0m\u001b[0mavg\u001b[0m\u001b[0;34m>=\u001b[0m\u001b[0;36m70\u001b[0m\u001b[0;34m&\u001b[0m\u001b[0mavg\u001b[0m\u001b[0;34m<\u001b[0m\u001b[0;36m80\u001b[0m\u001b[0;34m)\u001b[0m\u001b[0;34m:\u001b[0m\u001b[0;34m\u001b[0m\u001b[0;34m\u001b[0m\u001b[0m\n",
            "\u001b[0;31mTypeError\u001b[0m: unsupported operand type(s) for &: 'int' and 'float'"
          ]
        }
      ]
    },
    {
      "cell_type": "code",
      "source": [
        "#3.Take 2 numbers as user input and add, multiply, divide, subtract, remainder and print\n",
        "#the output (Same operations on floating point input as well)\n",
        "num1= int(input(\"Enter First Number: \"))\n",
        "num2= int(input(\"Enter Second Number: \"))\n",
        "\n",
        "print(\"Enter which operation \")\n",
        "a= input(\"Enter any of these char for specific operation +,-,*,/: \")\n",
        "\n",
        "result = 0\n",
        "if a== '+':\n",
        "    result = num1 + num2\n",
        "elif a == '-':\n",
        "    result = num1 - num2\n",
        "elif a == '*':\n",
        "    result = num1 * num2\n",
        "elif a == '/':\n",
        "    result = num1 / num2\n",
        "else:\n",
        "    print(\"Input character is not recognized!\")\n",
        "\n",
        "print(num1, a, num2, \":\", result)       # or\n",
        "a=8\n",
        "b=5\n",
        "c=a+b\n",
        "d=a-b\n",
        "e=a*d\n",
        "f=a/b\n",
        "g=a%b\n",
        "print(c)\n",
        "print(d)\n",
        "print(e)\n",
        "print(f)\n",
        "print(g)"
      ],
      "metadata": {
        "colab": {
          "base_uri": "https://localhost:8080/"
        },
        "id": "tkDvmKZfmlM2",
        "outputId": "5d71c802-d432-4e62-c697-f3380be64afd"
      },
      "execution_count": 3,
      "outputs": [
        {
          "output_type": "stream",
          "name": "stdout",
          "text": [
            "Enter First Number: 12\n",
            "Enter Second Number: 30\n",
            "Enter which operation \n",
            "Enter any of these char for specific operation +,-,*,/: +\n",
            "12 + 30 : 42\n",
            "13\n",
            "3\n",
            "24\n",
            "1.6\n",
            "3\n"
          ]
        }
      ]
    },
    {
      "cell_type": "code",
      "source": [
        "# 4.Conversion of one unit to another (such as hours to minutes, miles to km and etc)\n",
        "a=4\n",
        "min=4*60\n",
        "print(min)  #and\n",
        "hours = int(input(\"Input hours: \")) * 3600\n",
        "minutes = int(input(\"Input minutes: \")) * 60\n",
        "time =hours + minutes\n",
        "print(\"The amounts of seconds\", time)\n"
      ],
      "metadata": {
        "id": "82OTG3NrnKiV",
        "outputId": "6bab5d93-76b9-4f6f-f464-c633e3142126",
        "colab": {
          "base_uri": "https://localhost:8080/"
        }
      },
      "execution_count": 4,
      "outputs": [
        {
          "output_type": "stream",
          "name": "stdout",
          "text": [
            "240\n",
            "Input hours: 2\n",
            "Input minutes: 34\n",
            "The amounts of seconds 9240\n"
          ]
        }
      ]
    },
    {
      "cell_type": "code",
      "source": [
        "## 5.Usage of mathematical functions in python like math.ceil, floor, fabs, fmod, trunc,\n",
        "import math\n",
        "a=4.567\n",
        "print(math.ceil(a))\n",
        "b=-9\n",
        "print(math.fabs(b))\n",
        "c=3.67\n",
        "print(math.floor(c))\n",
        "d=2**3\n",
        "print(d)\n",
        "e=math.sqrt(81)\n",
        "print(e)"
      ],
      "metadata": {
        "id": "VQbpWhl701ax",
        "outputId": "bd5d4483-cee6-41be-9b52-415df529d4c9",
        "colab": {
          "base_uri": "https://localhost:8080/"
        }
      },
      "execution_count": 5,
      "outputs": [
        {
          "output_type": "stream",
          "name": "stdout",
          "text": [
            "5\n",
            "9.0\n",
            "3\n",
            "8\n",
            "9.0\n"
          ]
        }
      ]
    },
    {
      "cell_type": "code",
      "source": [
        "# 6.Building a mathematical calculator that can perform operations according to user input.\n",
        "a=2\n",
        "b=3\n",
        "print('1=\"addition\",2=\"subtraction\",3=\"multiplication\",4=\"division\"')\n",
        "c=int(input(\"enter any number upto 4\"))\n",
        "if c==1:\n",
        " print(a+b)\n",
        "elif c==2:\n",
        " print(a-b)\n",
        "elif c==3:\n",
        " print(a*b)\n",
        "elif c==4:\n",
        " print(a/b)\n",
        "else:\n",
        " print(\"invalid\")"
      ],
      "metadata": {
        "id": "cVqWnXWZ1Frq",
        "outputId": "9c544885-0ce5-4c54-82f0-82ea851464b0",
        "colab": {
          "base_uri": "https://localhost:8080/"
        }
      },
      "execution_count": 6,
      "outputs": [
        {
          "output_type": "stream",
          "name": "stdout",
          "text": [
            "1=\"addition\",2=\"subtraction\",3=\"multiplication\",4=\"division\"\n",
            "enter any number upto 43\n",
            "6\n"
          ]
        }
      ]
    },
    {
      "cell_type": "code",
      "source": [
        "# 7.Accepting 5 different subject marks from user and displaying the grade of the student\n",
        "sub1=int(input(\"Enter marks of the first subject: \"))\n",
        "sub2=int(input(\"Enter marks of the second subject: \"))\n",
        "sub3=int(input(\"Enter marks of the third subject: \"))\n",
        "sub4=int(input(\"Enter marks of the fourth subject: \"))\n",
        "sub5=int(input(\"Enter marks of the fifth subject: \"))\n",
        "avg=(sub1+sub2+sub3+sub4+sub4)/5\n",
        "if (avg>=90):\n",
        " print(\"Grade: A\")\n",
        "elif (avg>=80 and avg<90):\n",
        " print(\"Grade: B\")\n",
        "elif (avg>=70 and avg<80):\n",
        " print(\"Grade: C\")\n",
        "elif (avg>=60 and avg<70):\n",
        " print(\"Grade: D\")\n",
        "else:\n",
        " print(\"Grade: F\")"
      ],
      "metadata": {
        "id": "bVUcaW4Z1hAU",
        "outputId": "f38426dd-a3fe-49c3-9741-f282e1287a27",
        "colab": {
          "base_uri": "https://localhost:8080/"
        }
      },
      "execution_count": 7,
      "outputs": [
        {
          "output_type": "stream",
          "name": "stdout",
          "text": [
            "Enter marks of the first subject: 50\n",
            "Enter marks of the second subject: 70\n",
            "Enter marks of the third subject: 90\n",
            "Enter marks of the fourth subject: 79\n",
            "Enter marks of the fifth subject: 80\n",
            "Grade: C\n"
          ]
        }
      ]
    },
    {
      "cell_type": "code",
      "source": [
        "## Printing all even numbers, odd numbers, count of even numbers, count of odd numbers\n",
        "#within a given range.\n",
        " #a) Compute the factorial of a given number. b) Compute GCD of two given\n",
        " #numbers. c) Generate Fibonacci series up to N numbers\n",
        "\n",
        "a=int(input(\"enter the first number in the range\"))\n",
        "b=int(input(\"enter the second number in the range\"))\n",
        "for i in range(a,b):\n",
        " if i%2==0:\n",
        "  print(\"even numbers are\",i)\n",
        "else:\n",
        " print(\"odd numbers are \",i)    \n",
        "               # and\n",
        " a=int(input(\"enter the number you want to find palindrome for\"))\n",
        "rev=0\n",
        "temp=a\n",
        "while temp>0:\n",
        " rem=temp%10\n",
        "rev=(rev*10)+rem\n",
        "temp=temp//10\n",
        "if a==rev:\n",
        " print(\"palindrome\")\n",
        "else:\n",
        " print(\"not a plaindrome\")              "
      ],
      "metadata": {
        "id": "sfdbYQ-11-YU",
        "outputId": "0944e38c-b434-4c85-a71b-b8cd736ed7d0",
        "colab": {
          "base_uri": "https://localhost:8080/"
        }
      },
      "execution_count": null,
      "outputs": [
        {
          "metadata": {
            "tags": null
          },
          "name": "stdout",
          "output_type": "stream",
          "text": [
            "even numbers are 2\n",
            "even numbers are 4\n",
            "even numbers are 6\n",
            "even numbers are 8\n",
            "even numbers are 10\n",
            "even numbers are 12\n",
            "even numbers are 14\n",
            "even numbers are 16\n",
            "even numbers are 18\n",
            "even numbers are 20\n",
            "even numbers are 22\n",
            "even numbers are 24\n",
            "even numbers are 26\n",
            "even numbers are 28\n",
            "even numbers are 30\n",
            "even numbers are 32\n",
            "even numbers are 34\n",
            "even numbers are 36\n",
            "even numbers are 38\n",
            "odd numbers are  39\n"
          ]
        }
      ]
    },
    {
      "cell_type": "code",
      "source": [
        ""
      ],
      "metadata": {
        "id": "7feDpfS_2XLP"
      },
      "execution_count": null,
      "outputs": []
    }
  ]
}