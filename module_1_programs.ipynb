{
  "nbformat": 4,
  "nbformat_minor": 0,
  "metadata": {
    "colab": {
      "name": "module 1 programs",
      "provenance": [],
      "authorship_tag": "ABX9TyMQpIbTYaPG4CCgqdWNUEE5",
      "include_colab_link": true
    },
    "kernelspec": {
      "name": "python3",
      "display_name": "Python 3"
    },
    "language_info": {
      "name": "python"
    }
  },
  "cells": [
    {
      "cell_type": "markdown",
      "metadata": {
        "id": "view-in-github",
        "colab_type": "text"
      },
      "source": [
        "<a href=\"https://colab.research.google.com/github/ssirapar/python-programs/blob/main/module_1_programs.ipynb\" target=\"_parent\"><img src=\"https://colab.research.google.com/assets/colab-badge.svg\" alt=\"Open In Colab\"/></a>"
      ]
    },
    {
      "cell_type": "code",
      "execution_count": 7,
      "metadata": {
        "colab": {
          "base_uri": "https://localhost:8080/"
        },
        "id": "T6yqM0o-eDik",
        "outputId": "600de5f1-9794-4a79-9398-d86a48c491d1"
      },
      "outputs": [
        {
          "output_type": "stream",
          "name": "stdout",
          "text": [
            "10\n",
            "10\n",
            "140\n",
            "<class 'int'>\n",
            "<built-in method format of str object at 0x7f62a44b5ab0>\n"
          ]
        }
      ],
      "source": [
        "#Accept input from user and store it in variable and print the value.\n",
        "a=100\n",
        "b=20\n",
        "c=int(input())\n",
        "d=int(input())\n",
        "f=a+b+c+d\n",
        "print(f)\n",
        "print(type(f))\n",
        "# .format\n",
        "g=123\n",
        "h=(\"hello\")\n",
        "print(h.format)\n",
        "\n",
        "\n"
      ]
    },
    {
      "cell_type": "code",
      "source": [
        "#Printing all even numbers, odd numbers, count of even numbers, count of odd numbers \n",
        "#within a given range\n",
        "for a in range(1,50):\n",
        "  "
      ],
      "metadata": {
        "colab": {
          "base_uri": "https://localhost:8080/"
        },
        "id": "brN3OhLyexpd",
        "outputId": "37af1fd8-08b4-4d6c-c845-8194cab29bb3"
      },
      "execution_count": 5,
      "outputs": [
        {
          "output_type": "stream",
          "name": "stdout",
          "text": [
            "10\n"
          ]
        }
      ]
    },
    {
      "cell_type": "code",
      "source": [
        "#Use of print statements and use of (.format )for printing different data types\n",
        "a=(\"peacock dances well\")\n",
        "b=(\" and they look pretty\")\n",
        "c=a+b\n",
        "print(c)\n",
        "a=123\n",
        "b=\"hello {}\"\n",
        "print(b.format(a,b))\n",
        "\n"
      ],
      "metadata": {
        "colab": {
          "base_uri": "https://localhost:8080/"
        },
        "id": "GevYJ1nlfShE",
        "outputId": "98743a96-d28b-4c07-b93c-011ac3cd69b8"
      },
      "execution_count": 8,
      "outputs": [
        {
          "output_type": "stream",
          "name": "stdout",
          "text": [
            "peacock dances well and they look pretty\n",
            "hello 123\n"
          ]
        }
      ]
    },
    {
      "cell_type": "code",
      "source": [
        "#Accepting 5 different subject marks from user and displaying the grade of the student\n",
        "sub1=int(input(\"Enter marks of  phy: \"))\n",
        "sub2=int(input(\"Enter marks of math: \"))\n",
        "sub3=int(input(\"Enter marks of chem: \"))\n",
        "sub4=int(input(\"Enter marks of  CSE: \"))\n",
        "sub5=int(input(\"Enter marks of  EEE: \"))\n",
        "avg=(sub1+sub2+sub3+sub4+sub4)/5\n",
        "if(avg>=90):\n",
        "    print(\"Grade: A\")\n",
        "elif(avg>=80&avg<90):\n",
        "    print(\"Grade: B\")\n",
        "elif(avg>=70&avg<80):\n",
        "    print(\"Grade: C\")\n",
        "elif(avg>=60&avg<70):\n",
        "    print(\"Grade: D\")\n",
        "else:\n",
        "    print(\"Grade: F\")\n",
        "\n",
        "\n"
      ],
      "metadata": {
        "colab": {
          "base_uri": "https://localhost:8080/",
          "height": 335
        },
        "id": "xi-F3kmmiZcV",
        "outputId": "df8032bc-0016-4b81-ba9f-6962c2b1925d"
      },
      "execution_count": 14,
      "outputs": [
        {
          "name": "stdout",
          "output_type": "stream",
          "text": [
            "Enter marks of  phy: 90\n",
            "Enter marks of math: 90\n",
            "Enter marks of chem: 50\n",
            "Enter marks of  CSE: 60\n",
            "Enter marks of  EEE: 60\n"
          ]
        },
        {
          "output_type": "error",
          "ename": "TypeError",
          "evalue": "ignored",
          "traceback": [
            "\u001b[0;31m---------------------------------------------------------------------------\u001b[0m",
            "\u001b[0;31mTypeError\u001b[0m                                 Traceback (most recent call last)",
            "\u001b[0;32m<ipython-input-14-ecfcdd44a19a>\u001b[0m in \u001b[0;36m<module>\u001b[0;34m()\u001b[0m\n\u001b[1;32m      8\u001b[0m \u001b[0;32mif\u001b[0m\u001b[0;34m(\u001b[0m\u001b[0mavg\u001b[0m\u001b[0;34m>=\u001b[0m\u001b[0;36m90\u001b[0m\u001b[0;34m)\u001b[0m\u001b[0;34m:\u001b[0m\u001b[0;34m\u001b[0m\u001b[0;34m\u001b[0m\u001b[0m\n\u001b[1;32m      9\u001b[0m     \u001b[0mprint\u001b[0m\u001b[0;34m(\u001b[0m\u001b[0;34m\"Grade: A\"\u001b[0m\u001b[0;34m)\u001b[0m\u001b[0;34m\u001b[0m\u001b[0;34m\u001b[0m\u001b[0m\n\u001b[0;32m---> 10\u001b[0;31m \u001b[0;32melif\u001b[0m\u001b[0;34m(\u001b[0m\u001b[0mavg\u001b[0m\u001b[0;34m>=\u001b[0m\u001b[0;36m80\u001b[0m\u001b[0;34m&\u001b[0m\u001b[0mavg\u001b[0m\u001b[0;34m<\u001b[0m\u001b[0;36m90\u001b[0m\u001b[0;34m)\u001b[0m\u001b[0;34m:\u001b[0m\u001b[0;34m\u001b[0m\u001b[0;34m\u001b[0m\u001b[0m\n\u001b[0m\u001b[1;32m     11\u001b[0m     \u001b[0mprint\u001b[0m\u001b[0;34m(\u001b[0m\u001b[0;34m\"Grade: B\"\u001b[0m\u001b[0;34m)\u001b[0m\u001b[0;34m\u001b[0m\u001b[0;34m\u001b[0m\u001b[0m\n\u001b[1;32m     12\u001b[0m \u001b[0;32melif\u001b[0m\u001b[0;34m(\u001b[0m\u001b[0mavg\u001b[0m\u001b[0;34m>=\u001b[0m\u001b[0;36m70\u001b[0m\u001b[0;34m&\u001b[0m\u001b[0mavg\u001b[0m\u001b[0;34m<\u001b[0m\u001b[0;36m80\u001b[0m\u001b[0;34m)\u001b[0m\u001b[0;34m:\u001b[0m\u001b[0;34m\u001b[0m\u001b[0;34m\u001b[0m\u001b[0m\n",
            "\u001b[0;31mTypeError\u001b[0m: unsupported operand type(s) for &: 'int' and 'float'"
          ]
        }
      ]
    },
    {
      "cell_type": "code",
      "source": [
        "96#Take 2 numbers as user input and add, multiply, divide, subtract, remainder and print\n",
        "#the output (Same operations on floating point input as well)\n",
        "num1= int(input(\"Enter First Number: \"))\n",
        "num2= int(input(\"Enter Second Number: \"))\n",
        "\n",
        "print(\"Enter which operation \")\n",
        "a= input(\"Enter any of these char for specific operation +,-,*,/: \")\n",
        "\n",
        "result = 0\n",
        "if a== '+':\n",
        "    result = num1 + num2\n",
        "elif a == '-':\n",
        "    result = num1 - num2\n",
        "elif a == '*':\n",
        "    result = num1 * num2\n",
        "elif a == '/':\n",
        "    result = num1 / num2\n",
        "else:\n",
        "    print(\"Input character is not recognized!\")\n",
        "\n",
        "print(num1, a, num2, \":\", result)"
      ],
      "metadata": {
        "colab": {
          "base_uri": "https://localhost:8080/"
        },
        "id": "tkDvmKZfmlM2",
        "outputId": "801535fb-9eaf-4691-d48e-f82c39a3871d"
      },
      "execution_count": 11,
      "outputs": [
        {
          "output_type": "stream",
          "name": "stdout",
          "text": [
            "Enter First Number: 100\n",
            "Enter Second Number: 200\n",
            "Enter which operation \n",
            "Enter any of these char for specific operation +,-,*,/: *\n",
            "100 * 200 : 20000\n"
          ]
        }
      ]
    },
    {
      "cell_type": "code",
      "source": [
        "#Conversion of one unit to another (such as hours to minutes, miles to km and etc)\n"
      ],
      "metadata": {
        "id": "82OTG3NrnKiV"
      },
      "execution_count": 10,
      "outputs": []
    }
  ]
}