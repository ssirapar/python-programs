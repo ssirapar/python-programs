{
  "nbformat": 4,
  "nbformat_minor": 0,
  "metadata": {
    "colab": {
      "name": "module 2.py",
      "provenance": [],
      "authorship_tag": "ABX9TyMC/DMa1hcYyjWtMz+AMRh8",
      "include_colab_link": true
    },
    "kernelspec": {
      "name": "python3",
      "display_name": "Python 3"
    },
    "language_info": {
      "name": "python"
    }
  },
  "cells": [
    {
      "cell_type": "markdown",
      "metadata": {
        "id": "view-in-github",
        "colab_type": "text"
      },
      "source": [
        "<a href=\"https://colab.research.google.com/github/ssirapar/python-programs/blob/main/module_2_py.ipynb\" target=\"_parent\"><img src=\"https://colab.research.google.com/assets/colab-badge.svg\" alt=\"Open In Colab\"/></a>"
      ]
    },
    {
      "cell_type": "code",
      "execution_count": null,
      "metadata": {
        "colab": {
          "base_uri": "https://localhost:8080/"
        },
        "id": "M5fzrQ6pj2Uh",
        "outputId": "e4d150e0-72dc-4c72-f718-c25acf481b3c"
      },
      "outputs": [
        {
          "output_type": "stream",
          "name": "stdout",
          "text": [
            "h\n",
            "a\n"
          ]
        }
      ],
      "source": [
        "# 1.Program to get the maximum and minimum value in a dictionary\n",
        "tom= {'a': 100, 'z': 200, 'y': 30}         #here a,z,y are the key values\n",
        "jerry= {'t': 100, 'h': 0, 'z': 30}           #here t,h,z are the key values and 100 ,0,30 are the assigned values\n",
        "print(min(jerry, key=jerry.get))      #this gives the min value in assigned values\n",
        "print(min(tom))                       #this gives the min value in key values acc to dicionary order\n"
      ]
    },
    {
      "cell_type": "code",
      "source": [
        "# 2.Program to remove a key from a dictionary\n",
        "a = {\"brand\": \"Ford\",\n",
        "  \"model\": \"Mustang\",\n",
        "  \"year\": 1964\n",
        "}\n",
        "del a[\"model\"]\n",
        "print(a)\n"
      ],
      "metadata": {
        "colab": {
          "base_uri": "https://localhost:8080/"
        },
        "id": "aabcG_jkkKql",
        "outputId": "bcebc4a2-0e9e-4928-e22c-14deebc3bea9"
      },
      "execution_count": null,
      "outputs": [
        {
          "output_type": "stream",
          "name": "stdout",
          "text": [
            "{'brand': 'Ford', 'year': 1964}\n"
          ]
        }
      ]
    },
    {
      "cell_type": "code",
      "source": [
        "#3.Create a function which accepts two inputs from the user and compute nCr\n",
        "def nCr(a,b):\n",
        "  return(fact(a)/fact(b))/fact(a-b)\n",
        "a=int(input(\"\"))\n",
        "b=int(input(\"\"))\n",
        "def fact(a):\n",
        "    res=1\n",
        "    for i in range(2,a+1):\n",
        "      res=res*i\n",
        "    return res\n",
        "print(int(nCr(a,b)))\n",
        "       #or\n",
        "def fact(i):\n",
        "  if i>0:\n",
        "    return i*fact(i-1)\n",
        "  else:\n",
        "    return 1 \n",
        "def comb(n,r):\n",
        "  return(fact(n)/fact(r))/fact(n-r)\n",
        "comb(6,4)\n",
        "\n"
      ],
      "metadata": {
        "colab": {
          "base_uri": "https://localhost:8080/"
        },
        "id": "R23xGNUjn_UM",
        "outputId": "d79c9fc0-c0db-42eb-f7de-0b3fefa76332"
      },
      "execution_count": null,
      "outputs": [
        {
          "output_type": "stream",
          "name": "stdout",
          "text": [
            "6\n",
            "4\n",
            "15\n"
          ]
        },
        {
          "output_type": "execute_result",
          "data": {
            "text/plain": [
              "15.0"
            ]
          },
          "metadata": {},
          "execution_count": 18
        }
      ]
    },
    {
      "cell_type": "code",
      "source": [
        "# 4.x Program to print a specified list after removing the 0th, 4th and 5th elements.\n",
        "#Sample List : ['Red', 'Green', 'White', 'Black', 'Pink', 'Yellow']\n",
        "#Expected Output : ['Green', 'White', 'Black']\n",
        "a=(\"red\",\"green\",\"white\",\"black\",\"pink\",\"yellow\")\n",
        "print(a[1:4])"
      ],
      "metadata": {
        "colab": {
          "base_uri": "https://localhost:8080/"
        },
        "id": "mVUQ6Mgnsuka",
        "outputId": "adcbe691-def6-4f53-ddc1-8c96a3c30458"
      },
      "execution_count": null,
      "outputs": [
        {
          "output_type": "stream",
          "name": "stdout",
          "text": [
            "('green', 'white', 'black')\n"
          ]
        }
      ]
    },
    {
      "cell_type": "code",
      "source": [
        "# 5.Program to get the difference between the two lists\n",
        "list1 = [1, 3, 5, 7, 9]\n",
        "list2=[1, 2, 4, 6, 7, 8]\n",
        "a=print(list(set(list1) - set(list2)))\n",
        "b=print(list(set(list2) - set(list1)))  \n",
        "\n",
        "                         #or\n",
        "list1 = [1, 3, 5, 7, 9]\n",
        "list2=[1, 2, 4, 6, 7, 8]\n",
        "diff1= list(set(list1) - set(list2))\n",
        "diff2 = list(set(list2) - set(list1))\n",
        "total_diff = diff1 + diff2\n",
        "print(total_diff)\n",
        "\n",
        "\n",
        "\n"
      ],
      "metadata": {
        "colab": {
          "base_uri": "https://localhost:8080/"
        },
        "id": "ay5aA-XIwF-Y",
        "outputId": "f33be3ac-4129-4210-98a9-4bb18f89c1d6"
      },
      "execution_count": null,
      "outputs": [
        {
          "output_type": "stream",
          "name": "stdout",
          "text": [
            "[9, 3, 5]\n",
            "[8, 2, 4, 6]\n",
            "[9, 3, 5, 8, 2, 4, 6]\n"
          ]
        }
      ]
    },
    {
      "cell_type": "code",
      "source": [
        "# 6.Program for replacing one substring by another For example - Rabbit - Replace \"bb\" by \"cc\"\n",
        "a=(\"rabbit\")\n",
        "b=(a.replace('bb','cc'))\n",
        "print(b)       \n",
        "c=(\"kiwi\")\n",
        "d=(c.replace('kiwi','mango'))\n",
        "print(d)"
      ],
      "metadata": {
        "id": "atywQIe6zuQo",
        "colab": {
          "base_uri": "https://localhost:8080/"
        },
        "outputId": "c2fd9aee-f85b-4e0c-fc79-a5b10ba7826b"
      },
      "execution_count": null,
      "outputs": [
        {
          "output_type": "stream",
          "name": "stdout",
          "text": [
            "raccit\n",
            "mango\n"
          ]
        }
      ]
    },
    {
      "cell_type": "code",
      "source": [
        "# 7.Program to count the number of strings where the string length is 2 or more and the first and last character are same from a given list of strings.\n",
        "#Sample List : ['abc', 'xyz', 'aba', '1221'] Expected Result : 2\n",
        "a= ['abc','xyz','aba','1221','pop','mom','sams','mam','zkui']\n",
        "for i in a:\n",
        "  if len(i)>=2:\n",
        "    if i[0]==i[len(i)-1]:\n",
        "      print(i)\n",
        "      \n",
        "     \n",
        "\n"
      ],
      "metadata": {
        "colab": {
          "base_uri": "https://localhost:8080/"
        },
        "id": "9fLiewAk52rf",
        "outputId": "a110c7d3-33da-40c7-d0ff-33f50e79bed8"
      },
      "execution_count": 20,
      "outputs": [
        {
          "output_type": "stream",
          "name": "stdout",
          "text": [
            "aba\n",
            "1221\n",
            "pop\n",
            "mom\n",
            "sams\n",
            "mam\n"
          ]
        }
      ]
    },
    {
      "cell_type": "code",
      "source": [
        "#8.Python function that accepts a string and calculates the number of uppercase letters and lowercase letters\n"
      ],
      "metadata": {
        "id": "hbs5vcL27yLf",
        "outputId": "e5063606-81b9-497b-cc3a-756065d32d0b",
        "colab": {
          "base_uri": "https://localhost:8080/"
        }
      },
      "execution_count": 1,
      "outputs": [
        {
          "output_type": "stream",
          "name": "stdout",
          "text": [
            "[(1, 1), (2, 4), (5, 25), (6, 36)]\n"
          ]
        }
      ]
    },
    {
      "cell_type": "code",
      "source": [
        "#9.Program to Acronym generator for any user input\n",
        "# (ex-input is Random memory access then output should be RMA).Example - Random number (RN)"
      ],
      "metadata": {
        "id": "vnExtjBaDtKe"
      },
      "execution_count": null,
      "outputs": []
    },
    {
      "cell_type": "code",
      "source": [
        "# 10.Program for Counting occurrence of a certain element in a string, getting indexes that have matching elements.For ex -.In Rabbit count how many times b has occurred . \n",
        "#Example-I have to go to a doctor and get myself checked. Count the number of occXrrences of µWo¶."
      ],
      "metadata": {
        "id": "msRQ10J_D6nL"
      },
      "execution_count": null,
      "outputs": []
    },
    {
      "cell_type": "code",
      "source": [
        "#11.Given a list of numbers of list, write a Python program to create a list of tuples \n",
        "#having first element as the number and second element as the square of the number.\n",
        "list1 = [5, 7, 4, 9]\n",
        "  \n",
        "# using list comprehension to iterate each\n",
        "# values in list and create a tuple as specified\n",
        "a = [(val, pow(val, 2)) for val in list1]\n",
        "print(a)"
      ],
      "metadata": {
        "id": "5Z9Xvx1qHySz",
        "outputId": "4741b1e7-bfd3-4590-9a5d-69b7c7e895fc",
        "colab": {
          "base_uri": "https://localhost:8080/"
        }
      },
      "execution_count": 2,
      "outputs": [
        {
          "output_type": "stream",
          "name": "stdout",
          "text": [
            "[(5, 25), (7, 49), (4, 16), (9, 81)]\n"
          ]
        }
      ]
    },
    {
      "cell_type": "code",
      "source": [
        "#12.Program to find the second smallest number and second largest number in a list.\n",
        "a = [1,2,97,93,37,24,10,32]\n",
        "a.sort()\n",
        "# second last element\n",
        "print(\"Second largest element in the list is:\",a[-2])\n",
        "print(\"second smallest num in the list is:\",a[1])"
      ],
      "metadata": {
        "id": "ndMdQZcKIRnr",
        "outputId": "965f313c-8b5c-434d-bcbd-83b4aabd9f4e",
        "colab": {
          "base_uri": "https://localhost:8080/"
        }
      },
      "execution_count": 10,
      "outputs": [
        {
          "output_type": "stream",
          "name": "stdout",
          "text": [
            "Second largest element in the list is: 93\n",
            "second smallest num in the list is: 2\n"
          ]
        }
      ]
    },
    {
      "cell_type": "code",
      "source": [
        "#13.Given list of tuples, remove all the tuples with length K. \n",
        "#Input : test_list = [(4, 5), (4, ), (8, 6, 7), (1, ), (3, 4, 6, 7)], K = 2 \n",
        "#Output : [(4, ), (8, 6, 7), (1, ), (3, 4, 6, 7)] \n",
        "#Explanation : (4, 5) of len = 2 is removed.\n",
        "\n",
        "a = [(4, 5), (4, ), (8, 6, 7), (1, ), (3, 4, 6, 7)]\n",
        "  \n",
        "# printing original list\n",
        "print(\"The original list : \" + str(a))\n",
        "# initializing K \n",
        "K = 3 \n",
        "# len() used to compute length\n",
        "res = [ele for ele in a if len(ele) != K]\n",
        "# printing result \n",
        "print(\"Filtered list : \" + str(res))"
      ],
      "metadata": {
        "id": "ZbgACluAJKf-",
        "outputId": "ab3f9520-6eb2-46e4-e7c3-60b4e29c3f3d",
        "colab": {
          "base_uri": "https://localhost:8080/"
        }
      },
      "execution_count": 13,
      "outputs": [
        {
          "output_type": "stream",
          "name": "stdout",
          "text": [
            "The original list : [(4, 5), (4,), (8, 6, 7), (1,), (3, 4, 6, 7)]\n",
            "Filtered list : [(4, 5), (4,), (1,), (3, 4, 6, 7)]\n"
          ]
        }
      ]
    },
    {
      "cell_type": "code",
      "source": [
        "#14."
      ],
      "metadata": {
        "id": "QOjWjrmgLlTd"
      },
      "execution_count": null,
      "outputs": []
    }
  ]
}