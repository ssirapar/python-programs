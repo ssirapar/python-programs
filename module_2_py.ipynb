{
  "nbformat": 4,
  "nbformat_minor": 0,
  "metadata": {
    "colab": {
      "name": "module 2.py",
      "provenance": [],
      "authorship_tag": "ABX9TyMw5WyFasP86RaoDBs5sHNV",
      "include_colab_link": true
    },
    "kernelspec": {
      "name": "python3",
      "display_name": "Python 3"
    },
    "language_info": {
      "name": "python"
    }
  },
  "cells": [
    {
      "cell_type": "markdown",
      "metadata": {
        "id": "view-in-github",
        "colab_type": "text"
      },
      "source": [
        "<a href=\"https://colab.research.google.com/github/ssirapar/python-programs/blob/main/module_2_py.ipynb\" target=\"_parent\"><img src=\"https://colab.research.google.com/assets/colab-badge.svg\" alt=\"Open In Colab\"/></a>"
      ]
    },
    {
      "cell_type": "code",
      "execution_count": null,
      "metadata": {
        "colab": {
          "base_uri": "https://localhost:8080/"
        },
        "id": "M5fzrQ6pj2Uh",
        "outputId": "e4d150e0-72dc-4c72-f718-c25acf481b3c"
      },
      "outputs": [
        {
          "output_type": "stream",
          "name": "stdout",
          "text": [
            "h\n",
            "a\n"
          ]
        }
      ],
      "source": [
        "#Program to get the maximum and minimum value in a dictionary\n",
        "tom= {'a': 100, 'z': 200, 'y': 30}         #here a,z,y are the key values\n",
        "jerry= {'t': 100, 'h': 0, 'z': 30}           #here t,h,z are the key values and 100 ,0,30 are the assigned values\n",
        "print(min(jerry, key=jerry.get))      #this gives the min value in assigned values\n",
        "print(min(tom))                       #this gives the min value in key values acc to dicionary order\n"
      ]
    },
    {
      "cell_type": "code",
      "source": [
        "#Program to remove a key from a dictionary\n",
        "a = {\"brand\": \"Ford\",\n",
        "  \"model\": \"Mustang\",\n",
        "  \"year\": 1964\n",
        "}\n",
        "del a[\"model\"]\n",
        "print(a)\n"
      ],
      "metadata": {
        "colab": {
          "base_uri": "https://localhost:8080/"
        },
        "id": "aabcG_jkkKql",
        "outputId": "bcebc4a2-0e9e-4928-e22c-14deebc3bea9"
      },
      "execution_count": null,
      "outputs": [
        {
          "output_type": "stream",
          "name": "stdout",
          "text": [
            "{'brand': 'Ford', 'year': 1964}\n"
          ]
        }
      ]
    },
    {
      "cell_type": "code",
      "source": [
        "#Create a function which accepts two inputs from the user and compute nCr\n",
        "def nCr(a,b):\n",
        "  return(fact(a)/fact(b))/fact(a-b)\n",
        "a=int(input(\"\"))\n",
        "b=int(input(\"\"))\n",
        "def fact(a):\n",
        "    res=1\n",
        "    for i in range(2,a+1):\n",
        "      res=res*i\n",
        "    return res\n",
        "print(int(nCr(a,b)))\n",
        "       #or\n",
        "def fact(i):\n",
        "  if i>0:\n",
        "    return i*fact(i-1)\n",
        "  else:\n",
        "    return 1 \n",
        "def comb(n,r):\n",
        "  return(fact(n)/fact(r))/fact(n-r)\n",
        "comb(6,4)\n",
        "\n"
      ],
      "metadata": {
        "colab": {
          "base_uri": "https://localhost:8080/"
        },
        "id": "R23xGNUjn_UM",
        "outputId": "d79c9fc0-c0db-42eb-f7de-0b3fefa76332"
      },
      "execution_count": null,
      "outputs": [
        {
          "output_type": "stream",
          "name": "stdout",
          "text": [
            "6\n",
            "4\n",
            "15\n"
          ]
        },
        {
          "output_type": "execute_result",
          "data": {
            "text/plain": [
              "15.0"
            ]
          },
          "metadata": {},
          "execution_count": 18
        }
      ]
    },
    {
      "cell_type": "code",
      "source": [
        "#x Program to print a specified list after removing the 0th, 4th and 5th elements.\n",
        "#Sample List : ['Red', 'Green', 'White', 'Black', 'Pink', 'Yellow']\n",
        "#Expected Output : ['Green', 'White', 'Black']\n",
        "a=(\"red\",\"green\",\"white\",\"black\",\"pink\",\"yellow\")\n",
        "print(a[1:4])"
      ],
      "metadata": {
        "colab": {
          "base_uri": "https://localhost:8080/"
        },
        "id": "mVUQ6Mgnsuka",
        "outputId": "adcbe691-def6-4f53-ddc1-8c96a3c30458"
      },
      "execution_count": null,
      "outputs": [
        {
          "output_type": "stream",
          "name": "stdout",
          "text": [
            "('green', 'white', 'black')\n"
          ]
        }
      ]
    },
    {
      "cell_type": "code",
      "source": [
        "#Program to get the difference between the two lists\n",
        "list1 = [1, 3, 5, 7, 9]\n",
        "list2=[1, 2, 4, 6, 7, 8]\n",
        "a=print(list(set(list1) - set(list2)))\n",
        "b=print(list(set(list2) - set(list1)))  \n",
        "\n",
        "                         #or\n",
        "list1 = [1, 3, 5, 7, 9]\n",
        "list2=[1, 2, 4, 6, 7, 8]\n",
        "diff1= list(set(list1) - set(list2))\n",
        "diff2 = list(set(list2) - set(list1))\n",
        "total_diff = diff1 + diff2\n",
        "print(total_diff)\n",
        "\n",
        "\n",
        "\n"
      ],
      "metadata": {
        "colab": {
          "base_uri": "https://localhost:8080/"
        },
        "id": "ay5aA-XIwF-Y",
        "outputId": "f33be3ac-4129-4210-98a9-4bb18f89c1d6"
      },
      "execution_count": 5,
      "outputs": [
        {
          "output_type": "stream",
          "name": "stdout",
          "text": [
            "[9, 3, 5]\n",
            "[8, 2, 4, 6]\n",
            "[9, 3, 5, 8, 2, 4, 6]\n"
          ]
        }
      ]
    },
    {
      "cell_type": "code",
      "source": [
        "#Program for replacing one substring by another For example - Rabbit - Replace \"bb\" by \"cc\"\n",
        "a=(\"rabbit\")\n",
        "b=(a.replace('bb','cc'))\n",
        "print(b)       \n",
        "c=(\"kiwi\")\n",
        "d=(c.replace('kiwi','mango'))\n",
        "print(d)"
      ],
      "metadata": {
        "id": "atywQIe6zuQo",
        "colab": {
          "base_uri": "https://localhost:8080/"
        },
        "outputId": "c2fd9aee-f85b-4e0c-fc79-a5b10ba7826b"
      },
      "execution_count": 10,
      "outputs": [
        {
          "output_type": "stream",
          "name": "stdout",
          "text": [
            "raccit\n",
            "mango\n"
          ]
        }
      ]
    },
    {
      "cell_type": "code",
      "source": [
        "#Program to count the number of strings where the string length is 2 or more and the first and last character are same from a given list of strings.\n",
        "#Sample List : ['abc', 'xyz', 'aba', '1221'] Expected Result : 2\n",
        "a= ['abc','xyz','aba','1221']\n",
        "b=set(a)\n",
        "print(b)\n",
        "\n"
      ],
      "metadata": {
        "colab": {
          "base_uri": "https://localhost:8080/"
        },
        "id": "9fLiewAk52rf",
        "outputId": "ae74e459-b979-4670-eafd-765d8dab28aa"
      },
      "execution_count": 29,
      "outputs": [
        {
          "output_type": "stream",
          "name": "stdout",
          "text": [
            "{'abc', 'xyz', '1221', 'aba'}\n"
          ]
        }
      ]
    },
    {
      "cell_type": "code",
      "source": [
        "#Python function that accepts a string and calculates the number of uppercase letters and lowercase letters"
      ],
      "metadata": {
        "id": "hbs5vcL27yLf"
      },
      "execution_count": null,
      "outputs": []
    },
    {
      "cell_type": "code",
      "source": [
        "#Program to Acronym generator for any user input\n",
        "# (ex-input is Random memory access then output should be RMA).Example - Random number (RN)"
      ],
      "metadata": {
        "id": "vnExtjBaDtKe"
      },
      "execution_count": null,
      "outputs": []
    },
    {
      "cell_type": "code",
      "source": [
        "#Program for Counting occurrence of a certain element in a string, getting indexes that have matching elements.For ex -.In Rabbit count how many times b has occurred . \n",
        "#Example-I have to go to a doctor and get myself checked. Count the number of occXrrences of µWo¶."
      ],
      "metadata": {
        "id": "msRQ10J_D6nL"
      },
      "execution_count": null,
      "outputs": []
    }
  ]
}