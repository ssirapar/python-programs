{
  "nbformat": 4,
  "nbformat_minor": 0,
  "metadata": {
    "colab": {
      "name": "module 2.py",
      "provenance": [],
      "authorship_tag": "ABX9TyOMeaFou2/wGnq+xUsFRkZK",
      "include_colab_link": true
    },
    "kernelspec": {
      "name": "python3",
      "display_name": "Python 3"
    },
    "language_info": {
      "name": "python"
    }
  },
  "cells": [
    {
      "cell_type": "markdown",
      "metadata": {
        "id": "view-in-github",
        "colab_type": "text"
      },
      "source": [
        "<a href=\"https://colab.research.google.com/github/ssirapar/python-programs/blob/main/module_2_py.ipynb\" target=\"_parent\"><img src=\"https://colab.research.google.com/assets/colab-badge.svg\" alt=\"Open In Colab\"/></a>"
      ]
    },
    {
      "cell_type": "code",
      "execution_count": null,
      "metadata": {
        "colab": {
          "base_uri": "https://localhost:8080/"
        },
        "id": "M5fzrQ6pj2Uh",
        "outputId": "e4d150e0-72dc-4c72-f718-c25acf481b3c"
      },
      "outputs": [
        {
          "output_type": "stream",
          "name": "stdout",
          "text": [
            "h\n",
            "a\n"
          ]
        }
      ],
      "source": [
        "# 1.Program to get the maximum and minimum value in a dictionary\n",
        "tom= {'a': 100, 'z': 200, 'y': 30}         #here a,z,y are the key values\n",
        "jerry= {'t': 100, 'h': 0, 'z': 30}           #here t,h,z are the key values and 100 ,0,30 are the assigned values\n",
        "print(min(jerry, key=jerry.get))      #this gives the min value in assigned values\n",
        "print(min(tom))                       #this gives the min value in key values acc to dicionary order\n"
      ]
    },
    {
      "cell_type": "code",
      "source": [
        "# 2.Program to remove a key from a dictionary\n",
        "a = {\"brand\": \"Ford\",\n",
        "  \"model\": \"Mustang\",\n",
        "  \"year\": 1964\n",
        "}\n",
        "del a[\"model\"]\n",
        "print(a)\n"
      ],
      "metadata": {
        "colab": {
          "base_uri": "https://localhost:8080/"
        },
        "id": "aabcG_jkkKql",
        "outputId": "bcebc4a2-0e9e-4928-e22c-14deebc3bea9"
      },
      "execution_count": null,
      "outputs": [
        {
          "output_type": "stream",
          "name": "stdout",
          "text": [
            "{'brand': 'Ford', 'year': 1964}\n"
          ]
        }
      ]
    },
    {
      "cell_type": "code",
      "source": [
        "#3.Create a function which accepts two inputs from the user and compute nCr\n",
        "def nCr(a,b):\n",
        "  return(fact(a)/fact(b))/fact(a-b)\n",
        "a=int(input(\"\"))\n",
        "b=int(input(\"\"))\n",
        "def fact(a):\n",
        "    res=1\n",
        "    for i in range(2,a+1):\n",
        "      res=res*i\n",
        "    return res\n",
        "print(int(nCr(a,b)))\n",
        "       #or\n",
        "def fact(i):\n",
        "  if i>0:\n",
        "    return i*fact(i-1)\n",
        "  else:\n",
        "    return 1 \n",
        "def comb(n,r):\n",
        "  return(fact(n)/fact(r))/fact(n-r)\n",
        "comb(6,4)\n",
        "\n"
      ],
      "metadata": {
        "colab": {
          "base_uri": "https://localhost:8080/"
        },
        "id": "R23xGNUjn_UM",
        "outputId": "d79c9fc0-c0db-42eb-f7de-0b3fefa76332"
      },
      "execution_count": null,
      "outputs": [
        {
          "output_type": "stream",
          "name": "stdout",
          "text": [
            "6\n",
            "4\n",
            "15\n"
          ]
        },
        {
          "output_type": "execute_result",
          "data": {
            "text/plain": [
              "15.0"
            ]
          },
          "metadata": {},
          "execution_count": 18
        }
      ]
    },
    {
      "cell_type": "code",
      "source": [
        "# 4.x Program to print a specified list after removing the 0th, 4th and 5th elements.\n",
        "#Sample List : ['Red', 'Green', 'White', 'Black', 'Pink', 'Yellow']\n",
        "#Expected Output : ['Green', 'White', 'Black']\n",
        "a=(\"red\",\"green\",\"white\",\"black\",\"pink\",\"yellow\")\n",
        "print(a[1:4])\n",
        " #or\n",
        "a=(\"red\",\"green\",\"white\",\"black\",\"pink\",\"yellow\")\n",
        "unwanted_list=[\"red\",\"pink\",\"yellow\"]\n",
        "list= [ele for ele in list if ele not in unwanted_list]\n",
        "print(list)"
      ],
      "metadata": {
        "colab": {
          "base_uri": "https://localhost:8080/",
          "height": 241
        },
        "id": "mVUQ6Mgnsuka",
        "outputId": "3eca5b5b-9296-40a7-a68a-480c8f9c44ea"
      },
      "execution_count": 2,
      "outputs": [
        {
          "output_type": "stream",
          "name": "stdout",
          "text": [
            "('green', 'white', 'black')\n"
          ]
        },
        {
          "output_type": "error",
          "ename": "TypeError",
          "evalue": "ignored",
          "traceback": [
            "\u001b[0;31m---------------------------------------------------------------------------\u001b[0m",
            "\u001b[0;31mTypeError\u001b[0m                                 Traceback (most recent call last)",
            "\u001b[0;32m<ipython-input-2-3b463ea9102b>\u001b[0m in \u001b[0;36m<module>\u001b[0;34m()\u001b[0m\n\u001b[1;32m      7\u001b[0m \u001b[0ma\u001b[0m\u001b[0;34m=\u001b[0m\u001b[0;34m(\u001b[0m\u001b[0;34m\"red\"\u001b[0m\u001b[0;34m,\u001b[0m\u001b[0;34m\"green\"\u001b[0m\u001b[0;34m,\u001b[0m\u001b[0;34m\"white\"\u001b[0m\u001b[0;34m,\u001b[0m\u001b[0;34m\"black\"\u001b[0m\u001b[0;34m,\u001b[0m\u001b[0;34m\"pink\"\u001b[0m\u001b[0;34m,\u001b[0m\u001b[0;34m\"yellow\"\u001b[0m\u001b[0;34m)\u001b[0m\u001b[0;34m\u001b[0m\u001b[0;34m\u001b[0m\u001b[0m\n\u001b[1;32m      8\u001b[0m \u001b[0munwanted_list\u001b[0m\u001b[0;34m=\u001b[0m\u001b[0;34m[\u001b[0m\u001b[0;34m\"red\"\u001b[0m\u001b[0;34m,\u001b[0m\u001b[0;34m\"pink\"\u001b[0m\u001b[0;34m,\u001b[0m\u001b[0;34m\"yellow\"\u001b[0m\u001b[0;34m]\u001b[0m\u001b[0;34m\u001b[0m\u001b[0;34m\u001b[0m\u001b[0m\n\u001b[0;32m----> 9\u001b[0;31m \u001b[0mlist\u001b[0m\u001b[0;34m=\u001b[0m \u001b[0;34m[\u001b[0m\u001b[0mele\u001b[0m \u001b[0;32mfor\u001b[0m \u001b[0mele\u001b[0m \u001b[0;32min\u001b[0m \u001b[0mlist\u001b[0m \u001b[0;32mif\u001b[0m \u001b[0mele\u001b[0m \u001b[0;32mnot\u001b[0m \u001b[0;32min\u001b[0m \u001b[0munwanted_list\u001b[0m\u001b[0;34m]\u001b[0m\u001b[0;34m\u001b[0m\u001b[0;34m\u001b[0m\u001b[0m\n\u001b[0m\u001b[1;32m     10\u001b[0m \u001b[0mprint\u001b[0m\u001b[0;34m(\u001b[0m\u001b[0mlist\u001b[0m\u001b[0;34m)\u001b[0m\u001b[0;34m\u001b[0m\u001b[0;34m\u001b[0m\u001b[0m\n",
            "\u001b[0;31mTypeError\u001b[0m: 'type' object is not iterable"
          ]
        }
      ]
    },
    {
      "cell_type": "code",
      "source": [
        "# 5.Program to get the difference between the two lists\n",
        "list1 = [1, 3, 5, 7, 9]\n",
        "list2=[1, 2, 4, 6, 7, 8]\n",
        "a=print(list(set(list1) - set(list2)))\n",
        "b=print(list(set(list2) - set(list1)))  \n",
        "\n",
        "                         #or\n",
        "list1 = [1, 3, 5, 7, 9]\n",
        "list2=[1, 2, 4, 6, 7, 8]\n",
        "diff1= list(set(list1) - set(list2))\n",
        "diff2 = list(set(list2) - set(list1))\n",
        "total_diff = diff1 + diff2\n",
        "print(total_diff)\n",
        "\n",
        "\n",
        "\n"
      ],
      "metadata": {
        "colab": {
          "base_uri": "https://localhost:8080/"
        },
        "id": "ay5aA-XIwF-Y",
        "outputId": "f33be3ac-4129-4210-98a9-4bb18f89c1d6"
      },
      "execution_count": null,
      "outputs": [
        {
          "output_type": "stream",
          "name": "stdout",
          "text": [
            "[9, 3, 5]\n",
            "[8, 2, 4, 6]\n",
            "[9, 3, 5, 8, 2, 4, 6]\n"
          ]
        }
      ]
    },
    {
      "cell_type": "code",
      "source": [
        "# 6.Program for replacing one substring by another For example - Rabbit - Replace \"bb\" by \"cc\"\n",
        "a=(\"rabbit\")\n",
        "b=(a.replace('bb','cc'))\n",
        "print(b)       \n",
        "c=(\"kiwi\")\n",
        "d=(c.replace('kiwi','mango'))\n",
        "print(d)"
      ],
      "metadata": {
        "id": "atywQIe6zuQo",
        "colab": {
          "base_uri": "https://localhost:8080/"
        },
        "outputId": "c2fd9aee-f85b-4e0c-fc79-a5b10ba7826b"
      },
      "execution_count": null,
      "outputs": [
        {
          "output_type": "stream",
          "name": "stdout",
          "text": [
            "raccit\n",
            "mango\n"
          ]
        }
      ]
    },
    {
      "cell_type": "code",
      "source": [
        "# 7.Program to count the number of strings where the string length is 2 or more and the first and last character are same from a given list of strings.\n",
        "#Sample List : ['abc', 'xyz', 'aba', '1221'] Expected Result : 2\n",
        "\n",
        "a= ['abc','xyz','aba','1221','pop','mom','sams','mam','zkui']\n",
        "for i in a:\n",
        "  if len(i)>=2:\n",
        "    if i[0]==i[len(i)-1]:\n",
        "      print(i)  \n",
        "      #or\n",
        "def words(words):\n",
        "  ctr=0\n",
        "  for word in words:\n",
        "    if len(word)>1 and word[0] == word[-1]:\n",
        "      ctr +=1\n",
        "  return ctr\n",
        "  print(words(['abc','xyz','aba','1221','pop','mom','sams','mam','zkui']))\n",
        "     \n",
        "\n",
        "\n",
        "\n",
        "\n",
        "\n",
        "\n",
        "\n",
        "\n",
        "\n"
      ],
      "metadata": {
        "colab": {
          "base_uri": "https://localhost:8080/"
        },
        "id": "9fLiewAk52rf",
        "outputId": "64a7c41b-cee4-4324-9d77-ac52d9b88da2"
      },
      "execution_count": 6,
      "outputs": [
        {
          "output_type": "stream",
          "name": "stdout",
          "text": [
            "aba\n",
            "1221\n",
            "pop\n",
            "mom\n",
            "sams\n",
            "mam\n"
          ]
        }
      ]
    },
    {
      "cell_type": "code",
      "source": [
        "#8.Python function that accepts a string and calculates the number of uppercase letters and lowercase letters\n"
      ],
      "metadata": {
        "id": "hbs5vcL27yLf"
      },
      "execution_count": 7,
      "outputs": []
    },
    {
      "cell_type": "code",
      "source": [
        "#9.Program to Acronym generator for any user input\n",
        "# (ex-input is Random memory access then output should be RMA).Example - Random number (RN)\n",
        "\n",
        "#taking user input\n",
        "## input the phrase\n",
        "    a=(input(\"Enter the phrase: \"))\n",
        "\n",
        "    ## split the phrase into substrings\n",
        "    a_split = a.split()\n",
        "    acronym = \"\"\n",
        "    ## iterate through every substring\n",
        "    for i in a_split:\n",
        "        acronym = acronym + i[0].upper()\n",
        "\n",
        "    print(\"The acronym for your phrase is \",acronym + \".\")\n",
        "\n"
      ],
      "metadata": {
        "id": "vnExtjBaDtKe",
        "colab": {
          "base_uri": "https://localhost:8080/",
          "height": 133
        },
        "outputId": "268207f6-7100-4322-ed9e-bcda22d240ce"
      },
      "execution_count": 15,
      "outputs": [
        {
          "output_type": "error",
          "ename": "IndentationError",
          "evalue": "ignored",
          "traceback": [
            "\u001b[0;36m  File \u001b[0;32m\"<ipython-input-15-6d04a1c09abf>\"\u001b[0;36m, line \u001b[0;32m6\u001b[0m\n\u001b[0;31m    a = (input(\"Enter the phrase: \"))\u001b[0m\n\u001b[0m    ^\u001b[0m\n\u001b[0;31mIndentationError\u001b[0m\u001b[0;31m:\u001b[0m unexpected indent\n"
          ]
        }
      ]
    },
    {
      "cell_type": "code",
      "source": [
        "# 10.Program for Counting occurrence of a certain element in a string, getting indexes that have matching elements.For ex -.In Rabbit count how many times b has occurred . \n",
        "#Example-I have to go to a doctor and get myself checked. Count the number of occXrrences of µWo¶."
      ],
      "metadata": {
        "id": "msRQ10J_D6nL"
      },
      "execution_count": null,
      "outputs": []
    },
    {
      "cell_type": "code",
      "source": [
        "#11.Given a list of numbers of list, write a Python program to create a list of tuples \n",
        "#having first element as the number and second element as the square of the number.\n",
        "list1 = [5, 7, 4, 9]\n",
        "  \n",
        "# using list comprehension to iterate each\n",
        "# values in list and create a tuple as specified\n",
        "a = [(val, pow(val, 2)) for val in list1]\n",
        "print(a)"
      ],
      "metadata": {
        "id": "5Z9Xvx1qHySz",
        "outputId": "4741b1e7-bfd3-4590-9a5d-69b7c7e895fc",
        "colab": {
          "base_uri": "https://localhost:8080/"
        }
      },
      "execution_count": null,
      "outputs": [
        {
          "output_type": "stream",
          "name": "stdout",
          "text": [
            "[(5, 25), (7, 49), (4, 16), (9, 81)]\n"
          ]
        }
      ]
    },
    {
      "cell_type": "code",
      "source": [
        "#12.Program to find the second smallest number and second largest number in a list.\n",
        "a = [1,2,97,93,37,24,10,32]\n",
        "a.sort()\n",
        "# second last element\n",
        "print(\"Second largest element in the list is:\",a[-2])\n",
        "print(\"second smallest num in the list is:\",a[1])"
      ],
      "metadata": {
        "id": "ndMdQZcKIRnr",
        "outputId": "965f313c-8b5c-434d-bcbd-83b4aabd9f4e",
        "colab": {
          "base_uri": "https://localhost:8080/"
        }
      },
      "execution_count": null,
      "outputs": [
        {
          "output_type": "stream",
          "name": "stdout",
          "text": [
            "Second largest element in the list is: 93\n",
            "second smallest num in the list is: 2\n"
          ]
        }
      ]
    },
    {
      "cell_type": "code",
      "source": [
        "#13.Given list of tuples, remove all the tuples with length K. \n",
        "#Input : test_list = [(4, 5), (4, ), (8, 6, 7), (1, ), (3, 4, 6, 7)], K = 2 \n",
        "#Output : [(4, ), (8, 6, 7), (1, ), (3, 4, 6, 7)] \n",
        "#Explanation : (4, 5) of len = 2 is removed.\n",
        "\n",
        "a = [(4, 5), (4, ), (8, 6, 7), (1, ), (3, 4, 6, 7)]\n",
        "  \n",
        "# printing original list\n",
        "print(\"The original list : \" + str(a))\n",
        "# initializing K \n",
        "K = 3 \n",
        "# len() used to compute length\n",
        "res = [ele for ele in a if len(ele) != K]\n",
        "# printing result \n",
        "print(\"Filtered list : \" + str(res))"
      ],
      "metadata": {
        "id": "ZbgACluAJKf-",
        "outputId": "ab3f9520-6eb2-46e4-e7c3-60b4e29c3f3d",
        "colab": {
          "base_uri": "https://localhost:8080/"
        }
      },
      "execution_count": null,
      "outputs": [
        {
          "output_type": "stream",
          "name": "stdout",
          "text": [
            "The original list : [(4, 5), (4,), (8, 6, 7), (1,), (3, 4, 6, 7)]\n",
            "Filtered list : [(4, 5), (4,), (1,), (3, 4, 6, 7)]\n"
          ]
        }
      ]
    },
    {
      "cell_type": "code",
      "source": [
        "#14.remove a key from a dictonary.\n",
        "a={'sowmya':1,'divya':2,'aruna':3}\n",
        "print(a)\n",
        "if \"sowmya\" in a:\n",
        "   del a['sowmya']\n",
        "print(a)  "
      ],
      "metadata": {
        "id": "QOjWjrmgLlTd",
        "colab": {
          "base_uri": "https://localhost:8080/"
        },
        "outputId": "b866bac3-d72f-4ad3-bba4-705340e1e3f1"
      },
      "execution_count": 4,
      "outputs": [
        {
          "output_type": "stream",
          "name": "stdout",
          "text": [
            "{'sowmya': 1, 'divya': 2, 'aruna': 3}\n",
            "{'divya': 2, 'aruna': 3}\n"
          ]
        }
      ]
    },
    {
      "cell_type": "code",
      "source": [
        ""
      ],
      "metadata": {
        "id": "IjPrv8wyhE9-"
      },
      "execution_count": null,
      "outputs": []
    }
  ]
}