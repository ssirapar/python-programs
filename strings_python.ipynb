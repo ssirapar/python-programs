{
  "nbformat": 4,
  "nbformat_minor": 0,
  "metadata": {
    "colab": {
      "name": "strings.python",
      "provenance": [],
      "authorship_tag": "ABX9TyOeoN1lX+fyCRSdrDtrWnCG",
      "include_colab_link": true
    },
    "kernelspec": {
      "name": "python3",
      "display_name": "Python 3"
    },
    "language_info": {
      "name": "python"
    }
  },
  "cells": [
    {
      "cell_type": "markdown",
      "metadata": {
        "id": "view-in-github",
        "colab_type": "text"
      },
      "source": [
        "<a href=\"https://colab.research.google.com/github/ssirapar/python-programs/blob/main/strings_python.ipynb\" target=\"_parent\"><img src=\"https://colab.research.google.com/assets/colab-badge.svg\" alt=\"Open In Colab\"/></a>"
      ]
    },
    {
      "cell_type": "code",
      "execution_count": 8,
      "metadata": {
        "colab": {
          "base_uri": "https://localhost:8080/"
        },
        "id": "Z4RrknWC6zjW",
        "outputId": "43e0b0c2-2d49-4846-88fb-a6baefb31589"
      },
      "outputs": [
        {
          "output_type": "stream",
          "name": "stdout",
          "text": [
            "sree\n",
            "<class 'str'>\n",
            "r\n",
            "e\n",
            "4\n",
            "11\n"
          ]
        }
      ],
      "source": [
        "# strings          Strings in python are surrounded by either single quotation marks, or double quotation marks.\n",
        "a=\"sree\"\n",
        "print(a)\n",
        "print(type(a))\n",
        "print(a[1])        # a[1] gives the 2nd letter of the string\n",
        "print(a[2])     \n",
        "print(len(a))  # len gives the num of letters in string\n",
        "b=\"hello world\"     # space also occupies one space so its 11.\n",
        "print(len(b))\n",
        "\n"
      ]
    },
    {
      "cell_type": "code",
      "source": [
        "a=(\"RRR movie has been released\")\n",
        "print(\"RRR\" in a)    # to find a word in string.[in]\n",
        "print(\"sree\" in a)"
      ],
      "metadata": {
        "colab": {
          "base_uri": "https://localhost:8080/"
        },
        "id": "1F_3cydi8sef",
        "outputId": "41ea3a4a-dc9b-4532-8080-7b5f5921773a"
      },
      "execution_count": 11,
      "outputs": [
        {
          "output_type": "stream",
          "name": "stdout",
          "text": [
            "True\n",
            "False\n"
          ]
        }
      ]
    },
    {
      "cell_type": "code",
      "source": [
        "a=(\"RRR movie has been released\")\n",
        "print(\"RRR\" not in a)  # not in "
      ],
      "metadata": {
        "colab": {
          "base_uri": "https://localhost:8080/"
        },
        "id": "bI_MmceB7FQE",
        "outputId": "0a234a86-2002-4dba-ff0b-3d8adee0ed9f"
      },
      "execution_count": 12,
      "outputs": [
        {
          "output_type": "stream",
          "name": "stdout",
          "text": [
            "False\n"
          ]
        }
      ]
    },
    {
      "cell_type": "code",
      "source": [
        "#slicing\n",
        "a=\"RRR movie has been released\"\n",
        "print(a[2:5])    # positions where to be cut [here gap is also considered as a digit]"
      ],
      "metadata": {
        "colab": {
          "base_uri": "https://localhost:8080/"
        },
        "id": "xJta_6TI9hsb",
        "outputId": "83cb625e-d5fb-4893-c6c4-39bb0c642168"
      },
      "execution_count": 13,
      "outputs": [
        {
          "output_type": "stream",
          "name": "stdout",
          "text": [
            "R m\n"
          ]
        }
      ]
    },
    {
      "cell_type": "code",
      "source": [
        ""
      ],
      "metadata": {
        "id": "-Hcawvvw958e"
      },
      "execution_count": null,
      "outputs": []
    }
  ]
}