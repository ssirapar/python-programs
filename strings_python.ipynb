{
  "nbformat": 4,
  "nbformat_minor": 0,
  "metadata": {
    "colab": {
      "name": "strings.python",
      "provenance": [],
      "authorship_tag": "ABX9TyPRdEmHZG18n5EYnjMk3mai",
      "include_colab_link": true
    },
    "kernelspec": {
      "name": "python3",
      "display_name": "Python 3"
    },
    "language_info": {
      "name": "python"
    }
  },
  "cells": [
    {
      "cell_type": "markdown",
      "metadata": {
        "id": "view-in-github",
        "colab_type": "text"
      },
      "source": [
        "<a href=\"https://colab.research.google.com/github/ssirapar/python-programs/blob/main/strings_python.ipynb\" target=\"_parent\"><img src=\"https://colab.research.google.com/assets/colab-badge.svg\" alt=\"Open In Colab\"/></a>"
      ]
    },
    {
      "cell_type": "code",
      "execution_count": null,
      "metadata": {
        "colab": {
          "base_uri": "https://localhost:8080/"
        },
        "id": "Z4RrknWC6zjW",
        "outputId": "43e0b0c2-2d49-4846-88fb-a6baefb31589"
      },
      "outputs": [
        {
          "output_type": "stream",
          "name": "stdout",
          "text": [
            "sree\n",
            "<class 'str'>\n",
            "r\n",
            "e\n",
            "4\n",
            "11\n"
          ]
        }
      ],
      "source": [
        "# strings          Strings in python are surrounded by either single quotation marks, or double quotation marks.\n",
        "a=\"sree\"\n",
        "print(a)\n",
        "print(type(a))\n",
        "print(a[1])        # a[1] gives the 2nd letter of the string\n",
        "print(a[2])     \n",
        "print(len(a))  # len gives the num of letters in string\n",
        "b=\"hello world\"     # space also occupies one space so its 11.\n",
        "print(len(b))\n",
        "\n"
      ]
    },
    {
      "cell_type": "code",
      "source": [
        "a=(\"RRR movie has been released\")\n",
        "print(\"RRR\" in a)    # to find a word in string.[in]\n",
        "print(\"sree\" in a)"
      ],
      "metadata": {
        "colab": {
          "base_uri": "https://localhost:8080/"
        },
        "id": "1F_3cydi8sef",
        "outputId": "41ea3a4a-dc9b-4532-8080-7b5f5921773a"
      },
      "execution_count": null,
      "outputs": [
        {
          "output_type": "stream",
          "name": "stdout",
          "text": [
            "True\n",
            "False\n"
          ]
        }
      ]
    },
    {
      "cell_type": "code",
      "source": [
        "a=(\"RRR movie has been released\")\n",
        "print(\"RRR\" not in a)  # not in "
      ],
      "metadata": {
        "colab": {
          "base_uri": "https://localhost:8080/"
        },
        "id": "bI_MmceB7FQE",
        "outputId": "0a234a86-2002-4dba-ff0b-3d8adee0ed9f"
      },
      "execution_count": null,
      "outputs": [
        {
          "output_type": "stream",
          "name": "stdout",
          "text": [
            "False\n"
          ]
        }
      ]
    },
    {
      "cell_type": "code",
      "source": [
        "#slicing\n",
        "a=\"RRR movie has been released\"\n",
        "print(a[2:5])    # positions where to be cut [here gap is also considered as a digit]"
      ],
      "metadata": {
        "colab": {
          "base_uri": "https://localhost:8080/"
        },
        "id": "xJta_6TI9hsb",
        "outputId": "83cb625e-d5fb-4893-c6c4-39bb0c642168"
      },
      "execution_count": null,
      "outputs": [
        {
          "output_type": "stream",
          "name": "stdout",
          "text": [
            "R m\n"
          ]
        }
      ]
    },
    {
      "cell_type": "code",
      "source": [
        "#UPPER TO LWR AND LWR TO UPR\n",
        "a=(\"RRR movie has been released\")\n",
        "print(a.upper())\n",
        "b=(\"RRR movie has been released\")\n",
        "print(b.lower())"
      ],
      "metadata": {
        "id": "-Hcawvvw958e",
        "outputId": "91a44fe2-9f9f-43b4-867e-7dc0d387d8aa",
        "colab": {
          "base_uri": "https://localhost:8080/"
        }
      },
      "execution_count": 4,
      "outputs": [
        {
          "output_type": "stream",
          "name": "stdout",
          "text": [
            "RRR MOVIE HAS BEEN RELEASED\n",
            "rrr movie has been released\n"
          ]
        }
      ]
    },
    {
      "cell_type": "code",
      "source": [
        "## REMOVE SPACES\n",
        "a=(\"     RRR movie has been released      \")\n",
        "print(a.strip())       #(a.strip) removes the spaces after quotes but not in middle of the statement and print the statement.\n",
        "a=(\"     RRR movie            has been released      \")\n",
        "print(a.strip()) "
      ],
      "metadata": {
        "id": "cbtLrw5kY1uv",
        "outputId": "0b73e00d-104c-4c9f-f1f5-5419f718d892",
        "colab": {
          "base_uri": "https://localhost:8080/"
        }
      },
      "execution_count": 9,
      "outputs": [
        {
          "output_type": "stream",
          "name": "stdout",
          "text": [
            "RRR movie has been released\n",
            "RRR movie            has been released\n"
          ]
        }
      ]
    },
    {
      "cell_type": "code",
      "source": [
        "# replace\n",
        "a=(\"RRR movie has been released\")\n",
        "print(a.replace(\"RRR\",\"radhe shyam\"))     # replaces the name RRR\n",
        "print(a)    # prints the original sentence with out the new one\n",
        "print(a.replace(\"a\",\"f\"))  # a is replacing with f in original sentence"
      ],
      "metadata": {
        "id": "sNoKi8a_Zfy3",
        "outputId": "d2cc3b92-0840-453a-90a2-c944ae85f760",
        "colab": {
          "base_uri": "https://localhost:8080/"
        }
      },
      "execution_count": 20,
      "outputs": [
        {
          "output_type": "stream",
          "name": "stdout",
          "text": [
            "radhe shyam movie has been released\n",
            "RRR movie has been released\n",
            "RRR movie hfs been relefsed\n"
          ]
        }
      ]
    },
    {
      "cell_type": "code",
      "source": [
        "# SPLITTING\n",
        "a=(\"RRR movie has been released\")\n",
        "print(a.split())\n",
        "b=(\"sree\")\n",
        "print(b.split('e'))      # it splits where the letter \"e\" is there\n",
        "c=(\"RRR, movie has been released\")\n",
        "print(c.split(','))\n"
      ],
      "metadata": {
        "id": "GWrF_NGQaqKN",
        "outputId": "632390f3-2612-45d8-ae90-288967609323",
        "colab": {
          "base_uri": "https://localhost:8080/"
        }
      },
      "execution_count": 30,
      "outputs": [
        {
          "output_type": "stream",
          "name": "stdout",
          "text": [
            "['RRR', 'movie', 'has', 'been', 'released']\n",
            "['sr', '', '']\n",
            "['RRR', ' movie has been released']\n"
          ]
        }
      ]
    },
    {
      "cell_type": "code",
      "source": [
        "# CONCANTINATION [EX:1]\n",
        "a=\"1,2,3\"    #not possible when a=1,2,3 with out \" \"\n",
        "b=\"sree\"\n",
        "c=a+b\n",
        "#c=a+\" \" +b          # adding is only posssible when \" \" is prenent for both the variables.\n",
        "print(c.format(a,b))"
      ],
      "metadata": {
        "id": "auxnhtweclmN",
        "outputId": "a55f2356-a535-4589-a387-ee7bb2fb4a2a",
        "colab": {
          "base_uri": "https://localhost:8080/"
        }
      },
      "execution_count": 43,
      "outputs": [
        {
          "output_type": "stream",
          "name": "stdout",
          "text": [
            "1,2,3sree\n"
          ]
        }
      ]
    },
    {
      "cell_type": "code",
      "source": [
        "#EX:2\n",
        "a=123\n",
        "b=\"hello {}\"\n",
        "print(b.format(a,b))\n"
      ],
      "metadata": {
        "id": "RjMJyXKthBNl",
        "outputId": "217b28fb-0109-4695-d264-7b4a357504d6",
        "colab": {
          "base_uri": "https://localhost:8080/"
        }
      },
      "execution_count": 44,
      "outputs": [
        {
          "output_type": "stream",
          "name": "stdout",
          "text": [
            "hello 123\n"
          ]
        }
      ]
    },
    {
      "cell_type": "code",
      "source": [
        "#EX:3\n",
        "a=(\"RRR movie has been released\")\n",
        "b=(\" and i went with friends\")\n",
        "c= a+ \" \" +b     \n",
        "print(c)\n",
        "\n"
      ],
      "metadata": {
        "id": "ymeq3hi3d8Hc",
        "outputId": "c84a7b56-6731-49f2-8849-8757c0cec2e6",
        "colab": {
          "base_uri": "https://localhost:8080/"
        }
      },
      "execution_count": 42,
      "outputs": [
        {
          "output_type": "stream",
          "name": "stdout",
          "text": [
            "RRR movie has been released  and i went with friends\n"
          ]
        }
      ]
    },
    {
      "cell_type": "code",
      "source": [
        "# FORMAT STRINGS\n",
        "price=200\n",
        "quantity=3\n",
        "item=1\n",
        "name=\"sprite\"\n",
        "myorder =\"i buyed {3} with {0} having {1} and purchased {2} \" \n",
        "print(myorder.format(price,quantity,item,name))\n"
      ],
      "metadata": {
        "id": "M5JaqczLe5OM",
        "outputId": "bbd2d107-353c-4771-a993-d96491699d7d",
        "colab": {
          "base_uri": "https://localhost:8080/"
        }
      },
      "execution_count": 58,
      "outputs": [
        {
          "output_type": "stream",
          "name": "stdout",
          "text": [
            "i buyed sprite with 200 having 3 and purchased 1 \n"
          ]
        }
      ]
    },
    {
      "cell_type": "code",
      "source": [
        "# ex:2\n",
        "s1=int(input(\"enter the marks of math \"))\n",
        "s2=int(input(\"enter the marks of phy \"))\n",
        "s3=int(input(\"enter the marks of chem \"))\n",
        "s4=int(input(\"enter the marks of cse \"))\n",
        "marks= \"my math marks are {0} , phy marks are {1} ,chem marks are {2} ,cse marks are {3} \"\n",
        "print(marks.format(s1,s2,s3,s4))\n"
      ],
      "metadata": {
        "id": "njJFQcMrhmJs",
        "outputId": "caf334ce-7956-44bd-ee23-31a49b69db1a",
        "colab": {
          "base_uri": "https://localhost:8080/"
        }
      },
      "execution_count": 57,
      "outputs": [
        {
          "output_type": "stream",
          "name": "stdout",
          "text": [
            "enter the marks of math 100\n",
            "enter the marks of phy 100\n",
            "enter the marks of chem 100\n",
            "enter the marks of cse 100\n",
            "my math marks are 100 , phy marks are 100 ,chem marks are 100 ,cse marks are 100 \n"
          ]
        }
      ]
    },
    {
      "cell_type": "code",
      "source": [
        "a=\"hello mam \\\"hi\\\"\"\n",
        "print(a)\n",
        "b=\"hey liki \\\\ hello\"\n",
        "print(b)\n",
        "c=\"hello \\nliki\" # prints seperately in 2 lines\n",
        "print(c)\n",
        "d=\"hello \\tliki\" # \\t prints by giving space in middle\n",
        "print(d)\n",
        "e=\"hello \\bliki\"   # \\b removes the space in between them\n",
        "print(e)\n",
        "f=\"hello\\bliki\"   # \\b removes the space in between them if no space present it removes the before letter\n",
        "print(f)"
      ],
      "metadata": {
        "id": "GuLvi5llj_Mb",
        "outputId": "bc5e2f34-b017-4475-c55b-1afa1d801be2",
        "colab": {
          "base_uri": "https://localhost:8080/"
        }
      },
      "execution_count": 72,
      "outputs": [
        {
          "output_type": "stream",
          "name": "stdout",
          "text": [
            "hello mam \"hi\"\n",
            "hey liki \\ hello\n",
            "hello \n",
            "liki\n",
            "hello \tliki\n",
            "hello \bliki\n",
            "hello\bliki\n"
          ]
        }
      ]
    },
    {
      "cell_type": "code",
      "source": [
        "# OCTAL\n",
        "a= \"\\110\\145\\154\\154\\157\"   #ASCII values of H E L L O\n",
        "print(a)\n"
      ],
      "metadata": {
        "id": "TyHdlF5lkZL9",
        "outputId": "40fe5199-d85b-49ad-b203-ecf428f6c9fb",
        "colab": {
          "base_uri": "https://localhost:8080/"
        }
      },
      "execution_count": 76,
      "outputs": [
        {
          "output_type": "stream",
          "name": "stdout",
          "text": [
            "Hello\n"
          ]
        }
      ]
    },
    {
      "cell_type": "code",
      "source": [
        "# STRING METHODS\n",
        "a=\"sowmya\"\n",
        "b=a.capitalize()\n",
        "print(b)\n",
        "c=\"Sowmya\"\n",
        "d=c.casefold()\n",
        "print(d)\n"
      ],
      "metadata": {
        "id": "s4wBEseQpF2q",
        "outputId": "14f63aab-e38b-4b8c-dbd8-bc53164b3b14",
        "colab": {
          "base_uri": "https://localhost:8080/"
        }
      },
      "execution_count": 80,
      "outputs": [
        {
          "output_type": "stream",
          "name": "stdout",
          "text": [
            "Sowmya\n",
            "sowmya\n"
          ]
        }
      ]
    },
    {
      "cell_type": "code",
      "source": [
        "a=\"sowmya\"\n",
        "b=a.center(30)   # 30 is number of spaces in front of name\n",
        "print(b)"
      ],
      "metadata": {
        "id": "tbHGIST0rcI3",
        "outputId": "c0666a36-b39d-4c53-fabd-d5fc84aaf72e",
        "colab": {
          "base_uri": "https://localhost:8080/"
        }
      },
      "execution_count": 81,
      "outputs": [
        {
          "output_type": "stream",
          "name": "stdout",
          "text": [
            "            sowmya            \n"
          ]
        }
      ]
    },
    {
      "cell_type": "code",
      "source": [
        "#count\n",
        "a=\"hello world welcome to my world\"\n",
        "b=a.count(\"world\")     # count(some string) gives the num of times the letter or word present in a string\n",
        "print(b)\n",
        "c=len(a)    # len(a) gives num of letters including spaces b\\w them.\n",
        "print(c)"
      ],
      "metadata": {
        "id": "ZoYvnv4sqwVq",
        "outputId": "2288f460-1f56-4eab-afc3-fb65b7d8e988",
        "colab": {
          "base_uri": "https://localhost:8080/"
        }
      },
      "execution_count": 87,
      "outputs": [
        {
          "output_type": "stream",
          "name": "stdout",
          "text": [
            "2\n",
            "31\n"
          ]
        }
      ]
    },
    {
      "cell_type": "code",
      "source": [
        ""
      ],
      "metadata": {
        "id": "BvMT2OFgsA15"
      },
      "execution_count": null,
      "outputs": []
    }
  ]
}