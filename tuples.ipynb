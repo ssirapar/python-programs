{
  "nbformat": 4,
  "nbformat_minor": 0,
  "metadata": {
    "colab": {
      "name": "tuples",
      "provenance": [],
      "authorship_tag": "ABX9TyNScbLizxIRRs/vqju+XYfT",
      "include_colab_link": true
    },
    "kernelspec": {
      "name": "python3",
      "display_name": "Python 3"
    },
    "language_info": {
      "name": "python"
    }
  },
  "cells": [
    {
      "cell_type": "markdown",
      "metadata": {
        "id": "view-in-github",
        "colab_type": "text"
      },
      "source": [
        "<a href=\"https://colab.research.google.com/github/ssirapar/python-programs/blob/main/tuples.ipynb\" target=\"_parent\"><img src=\"https://colab.research.google.com/assets/colab-badge.svg\" alt=\"Open In Colab\"/></a>"
      ]
    },
    {
      "cell_type": "code",
      "execution_count": 4,
      "metadata": {
        "colab": {
          "base_uri": "https://localhost:8080/"
        },
        "id": "eWxOPG_VYJug",
        "outputId": "1f26e069-bcae-4d45-c86c-5cca60d5148d"
      },
      "outputs": [
        {
          "output_type": "stream",
          "name": "stdout",
          "text": [
            "('apple', 'banana', 'cherry')\n",
            "3\n",
            "<class 'tuple'>\n"
          ]
        }
      ],
      "source": [
        " ##  TUPLEs\n",
        "\n",
        "#Tuples are used to store multiple items in a single variable.\n",
        "a = (\"apple\", \"banana\", \"cherry\")\n",
        "print(a)\n",
        "print(len(a))\n",
        "print(type(a))\n"
      ]
    },
    {
      "cell_type": "code",
      "source": [
        "#with single variable\n",
        "a= (\"apple\",)\n",
        "print(type(a))    #One item tuple, remember the comma:\n",
        "#NOT a tuple\n",
        "a= (\"apple\")\n",
        "print(type(a))       # without (,) its not a tuple\n"
      ],
      "metadata": {
        "colab": {
          "base_uri": "https://localhost:8080/"
        },
        "id": "e8BFFS36b-JM",
        "outputId": "93e8efcb-b997-4a02-82bd-061483dd582d"
      },
      "execution_count": 6,
      "outputs": [
        {
          "output_type": "stream",
          "name": "stdout",
          "text": [
            "<class 'tuple'>\n",
            "<class 'str'>\n"
          ]
        }
      ]
    },
    {
      "cell_type": "code",
      "source": [
        ""
      ],
      "metadata": {
        "id": "R5xRSKy7ci10"
      },
      "execution_count": null,
      "outputs": []
    }
  ]
}