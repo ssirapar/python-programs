{
  "nbformat": 4,
  "nbformat_minor": 0,
  "metadata": {
    "colab": {
      "name": "tuples",
      "provenance": [],
      "authorship_tag": "ABX9TyOjIM/K/vlNynvk06pdLhfR",
      "include_colab_link": true
    },
    "kernelspec": {
      "name": "python3",
      "display_name": "Python 3"
    },
    "language_info": {
      "name": "python"
    }
  },
  "cells": [
    {
      "cell_type": "markdown",
      "metadata": {
        "id": "view-in-github",
        "colab_type": "text"
      },
      "source": [
        "<a href=\"https://colab.research.google.com/github/ssirapar/python-programs/blob/main/tuples.ipynb\" target=\"_parent\"><img src=\"https://colab.research.google.com/assets/colab-badge.svg\" alt=\"Open In Colab\"/></a>"
      ]
    },
    {
      "cell_type": "code",
      "execution_count": 20,
      "metadata": {
        "colab": {
          "base_uri": "https://localhost:8080/"
        },
        "id": "eWxOPG_VYJug",
        "outputId": "b45b2520-2d8d-4deb-d432-13fce0327479"
      },
      "outputs": [
        {
          "output_type": "stream",
          "name": "stdout",
          "text": [
            "('apple', 'banana', 'cherry')\n",
            "('apple', 'banana', 'cherry')\n",
            "3\n",
            "<class 'tuple'>\n",
            "<class 'tuple'>\n"
          ]
        }
      ],
      "source": [
        " ##  TUPLEs\n",
        "\n",
        "#Tuples are used to store multiple items in a single variable.\n",
        "a = (\"apple\", \"banana\", \"cherry\")\n",
        "b=(tuple(a))\n",
        "print(a)\n",
        "print(b)\n",
        "print(len(a))\n",
        "print(type(a))\n",
        "print(type(b))"
      ]
    },
    {
      "cell_type": "code",
      "source": [
        "#with single variable\n",
        "a= (\"apple\",)\n",
        "print(type(a))    #One item tuple, remember the comma:\n",
        "#NOT a tuple\n",
        "a= (\"apple\")\n",
        "print(type(a))       # without (,) its not a tuple\n"
      ],
      "metadata": {
        "colab": {
          "base_uri": "https://localhost:8080/"
        },
        "id": "e8BFFS36b-JM",
        "outputId": "93e8efcb-b997-4a02-82bd-061483dd582d"
      },
      "execution_count": null,
      "outputs": [
        {
          "output_type": "stream",
          "name": "stdout",
          "text": [
            "<class 'tuple'>\n",
            "<class 'str'>\n"
          ]
        }
      ]
    },
    {
      "cell_type": "code",
      "source": [
        "#access list items\n",
        "a = (\"apple\", \"banana\", \"cherry\")\n",
        "print(a[1])\n",
        "print(a[-1])\n",
        "a=(\"apple\", \"banana\", \"cherry\", \"orange\", \"kiwi\", \"melon\", \"mango\")\n",
        "print(a[-5])\n",
        "print(a[2:6])          # does not include 6th item in the list\n",
        "print(a[:4])        # does not include 4th item in the list\n",
        "print(a[4:])\n",
        "print(a[-4:-1])       # does not include last  item in the list i.e mango\n",
        "if \"apple\" in a:\n",
        " print(\"yes\")"
      ],
      "metadata": {
        "id": "Xp_-Ot9Dwkrw",
        "outputId": "f96bcb12-ab0b-45a0-ebae-dbd5076b6faf",
        "colab": {
          "base_uri": "https://localhost:8080/"
        }
      },
      "execution_count": 10,
      "outputs": [
        {
          "output_type": "stream",
          "name": "stdout",
          "text": [
            "banana\n",
            "cherry\n",
            "cherry\n",
            "('cherry', 'orange', 'kiwi', 'melon')\n",
            "('apple', 'banana', 'cherry', 'orange')\n",
            "('kiwi', 'melon', 'mango')\n",
            "('orange', 'kiwi', 'melon')\n",
            "yes\n"
          ]
        }
      ]
    },
    {
      "cell_type": "code",
      "source": [
        "#Once a tuple is created, you cannot change its values. \n",
        "#But there is a workaround. You can convert the tuple into a list, change the list, and convert the list back into a tuple.\n",
        "        # CHANGING TUPLES:\n",
        "a = (\"apple\", \"banana\", \"cherry\")\n",
        "b=list(a)\n",
        "print(b)      \n",
        "b[1]= \"kiwi\"\n",
        "a=tuple(b)\n",
        "print(a)\n",
        "b.append(\"orange\")\n",
        "print(b)\n",
        "b.insert(1,\"orange\")\n",
        "print(b)\n",
        "d=(\"orange\",)\n",
        "a=a+d\n",
        "print(a)"
      ],
      "metadata": {
        "id": "rv0HOvXWxCjm",
        "outputId": "1929d374-6516-4a0a-cb92-5c6ce4698d8e",
        "colab": {
          "base_uri": "https://localhost:8080/"
        }
      },
      "execution_count": 29,
      "outputs": [
        {
          "output_type": "stream",
          "name": "stdout",
          "text": [
            "['apple', 'banana', 'cherry']\n",
            "('apple', 'kiwi', 'cherry')\n",
            "['apple', 'kiwi', 'cherry', 'orange']\n",
            "['apple', 'orange', 'kiwi', 'cherry', 'orange']\n",
            "('apple', 'kiwi', 'cherry', 'orange')\n"
          ]
        }
      ]
    },
    {
      "cell_type": "code",
      "source": [
        "#Convert the tuple into a list, remove \"apple\", and convert it back into a tuple:\n",
        "a = (\"apple\", \"banana\", \"cherry\")\n",
        "b=list(a)\n",
        "print(b)\n",
        "b.remove(\"apple\")\n",
        "a=tuple(b)\n",
        "print(a)"
      ],
      "metadata": {
        "id": "Ap5vfqU12qkP",
        "outputId": "4ec5433b-2f82-41bd-8e5a-70edcdae9149",
        "colab": {
          "base_uri": "https://localhost:8080/"
        }
      },
      "execution_count": 38,
      "outputs": [
        {
          "output_type": "stream",
          "name": "stdout",
          "text": [
            "['apple', 'banana', 'cherry']\n",
            "('banana', 'cherry')\n"
          ]
        }
      ]
    },
    {
      "cell_type": "code",
      "source": [
        "a = (\"apple\", \"banana\", \"cherry\")\n",
        "b=(1,2,3,4,5)\n",
        "c=a+b\n",
        "print(c)     # 2 strings are not added in a tuple\n",
        "del a\n",
        "print(a)            #this will raise an error because the tuple no longer exists\n",
        "print(c)"
      ],
      "metadata": {
        "id": "Y-cMTqVg5RG3",
        "outputId": "3a2d4578-d085-45eb-d73b-8128d70780a6",
        "colab": {
          "base_uri": "https://localhost:8080/",
          "height": 245
        }
      },
      "execution_count": 52,
      "outputs": [
        {
          "output_type": "stream",
          "name": "stdout",
          "text": [
            "('apple', 'banana', 'cherry', 1, 2, 3, 4, 5)\n"
          ]
        },
        {
          "output_type": "error",
          "ename": "NameError",
          "evalue": "ignored",
          "traceback": [
            "\u001b[0;31m---------------------------------------------------------------------------\u001b[0m",
            "\u001b[0;31mNameError\u001b[0m                                 Traceback (most recent call last)",
            "\u001b[0;32m<ipython-input-52-0e0541d2bae7>\u001b[0m in \u001b[0;36m<module>\u001b[0;34m()\u001b[0m\n\u001b[1;32m      4\u001b[0m \u001b[0mprint\u001b[0m\u001b[0;34m(\u001b[0m\u001b[0mc\u001b[0m\u001b[0;34m)\u001b[0m     \u001b[0;31m# 2 strings are not added in a tuple\u001b[0m\u001b[0;34m\u001b[0m\u001b[0;34m\u001b[0m\u001b[0m\n\u001b[1;32m      5\u001b[0m \u001b[0;32mdel\u001b[0m \u001b[0ma\u001b[0m\u001b[0;34m\u001b[0m\u001b[0;34m\u001b[0m\u001b[0m\n\u001b[0;32m----> 6\u001b[0;31m \u001b[0mprint\u001b[0m\u001b[0;34m(\u001b[0m\u001b[0ma\u001b[0m\u001b[0;34m)\u001b[0m            \u001b[0;31m#this will raise an error because the tuple no longer exists\u001b[0m\u001b[0;34m\u001b[0m\u001b[0;34m\u001b[0m\u001b[0m\n\u001b[0m\u001b[1;32m      7\u001b[0m \u001b[0mprint\u001b[0m\u001b[0;34m(\u001b[0m\u001b[0mc\u001b[0m\u001b[0;34m)\u001b[0m\u001b[0;34m\u001b[0m\u001b[0;34m\u001b[0m\u001b[0m\n",
            "\u001b[0;31mNameError\u001b[0m: name 'a' is not defined"
          ]
        }
      ]
    },
    {
      "cell_type": "code",
      "source": [
        "              #unpacking a tuple\n",
        "  #When we create a tuple, we normally assign values to it. This is called \"packing\" a tuple:          \n",
        "a= (\"apple\", \"banana\", \"cherry\")\n",
        "(x,y,z) =a\n",
        "print(y)\n",
        "print(x,*y)\n",
        "print(z)\n",
        "\n",
        "\n",
        "  \n"
      ],
      "metadata": {
        "id": "Mbm78KzW9DPY",
        "outputId": "1a0d5f4b-2ef2-40b2-97a3-2f2dacfb81a2",
        "colab": {
          "base_uri": "https://localhost:8080/"
        }
      },
      "execution_count": 56,
      "outputs": [
        {
          "output_type": "stream",
          "name": "stdout",
          "text": [
            "banana\n",
            "apple b a n a n a\n",
            "cherry\n"
          ]
        }
      ]
    },
    {
      "cell_type": "code",
      "source": [
        "a= (\"apple\", \"banana\", \"cherry\")\n",
        "(x,*y)=a\n",
        "print(x)\n",
        "print(*y)"
      ],
      "metadata": {
        "id": "2sYxeJ2b-buX",
        "outputId": "7f4de2bf-4c8a-4ef6-d86c-f930b38a7c72",
        "colab": {
          "base_uri": "https://localhost:8080/"
        }
      },
      "execution_count": 60,
      "outputs": [
        {
          "output_type": "stream",
          "name": "stdout",
          "text": [
            "apple\n",
            "banana cherry\n"
          ]
        }
      ]
    },
    {
      "cell_type": "code",
      "source": [
        ""
      ],
      "metadata": {
        "id": "kt916fm8_7Xn"
      },
      "execution_count": null,
      "outputs": []
    }
  ]
}