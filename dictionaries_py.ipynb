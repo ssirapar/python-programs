{
  "nbformat": 4,
  "nbformat_minor": 0,
  "metadata": {
    "colab": {
      "name": "dictionaries.py",
      "provenance": [],
      "authorship_tag": "ABX9TyOBBvroMHGa4ShRdHloO12n",
      "include_colab_link": true
    },
    "kernelspec": {
      "name": "python3",
      "display_name": "Python 3"
    },
    "language_info": {
      "name": "python"
    }
  },
  "cells": [
    {
      "cell_type": "markdown",
      "metadata": {
        "id": "view-in-github",
        "colab_type": "text"
      },
      "source": [
        "<a href=\"https://colab.research.google.com/github/ssirapar/python-programs/blob/main/dictionaries_py.ipynb\" target=\"_parent\"><img src=\"https://colab.research.google.com/assets/colab-badge.svg\" alt=\"Open In Colab\"/></a>"
      ]
    },
    {
      "cell_type": "code",
      "execution_count": 5,
      "metadata": {
        "colab": {
          "base_uri": "https://localhost:8080/"
        },
        "id": "MhjZva9rUGU6",
        "outputId": "62d6847f-88f9-472d-ddc1-5f892a780717"
      },
      "outputs": [
        {
          "output_type": "stream",
          "name": "stdout",
          "text": [
            "{'name': 'divya', 'class': '9th', 'age': 15}\n",
            "<class 'dict'>\n"
          ]
        }
      ],
      "source": [
        "#Dictionaries are written with curly brackets, and have keys and values:\n",
        "a= {\n",
        "  \"name\": \"divya\",\n",
        "  \"class\": \"9th\",\n",
        "  \"age\": 15\n",
        "}\n",
        "print(a)\n",
        "print(type(a))"
      ]
    },
    {
      "cell_type": "code",
      "source": [
        "#printing specific item.\n",
        "a= {\n",
        "  \"name\": \"divya\",\n",
        "  \"class\": \"9th\",\n",
        "  \"age\": 15,\n",
        "  \"colours\":[\"yellow\",\"blue\",\"green\"]\n",
        "  \n",
        "}\n",
        "print(a[\"name\"])\n",
        "print(a[\"class\"])"
      ],
      "metadata": {
        "colab": {
          "base_uri": "https://localhost:8080/"
        },
        "id": "Bnc5atjSbsx6",
        "outputId": "578e493e-cc06-400b-e0d1-84b751cc39b7"
      },
      "execution_count": 13,
      "outputs": [
        {
          "output_type": "stream",
          "name": "stdout",
          "text": [
            "divya\n",
            "9th\n"
          ]
        }
      ]
    },
    {
      "cell_type": "code",
      "source": [
        "#Dictionaries cannot have two items with the same key\n",
        "#Duplicate values will overwrite existing values:\n",
        "\n",
        "a= {\n",
        "  \"name\": \"divya\",\n",
        "  \"class\": \"9th\",\n",
        "  \"age\": 15,\n",
        "  \"age\":20\n",
        "  \n",
        "}\n",
        "print(a)"
      ],
      "metadata": {
        "colab": {
          "base_uri": "https://localhost:8080/"
        },
        "id": "vd2qvucUb--p",
        "outputId": "56c95b32-b190-4e0f-f548-992a028b7102"
      },
      "execution_count": 11,
      "outputs": [
        {
          "output_type": "stream",
          "name": "stdout",
          "text": [
            "{'name': 'divya', 'class': '9th', 'age': 20}\n"
          ]
        }
      ]
    },
    {
      "cell_type": "code",
      "source": [
        "a= {\n",
        "  \"name\": \"divya\",\n",
        "  \"class\": \"9th\",\n",
        "  \"age\": 15,\n",
        "  \"age\":20\n",
        "}\n",
        "print(a)\n",
        "print(len(a))"
      ],
      "metadata": {
        "colab": {
          "base_uri": "https://localhost:8080/"
        },
        "id": "6sawVOVtegLf",
        "outputId": "a5370191-06ec-43b3-c281-3c7cb8e42b62"
      },
      "execution_count": 12,
      "outputs": [
        {
          "output_type": "stream",
          "name": "stdout",
          "text": [
            "{'name': 'divya', 'class': '9th', 'age': 20}\n",
            "3\n"
          ]
        }
      ]
    },
    {
      "cell_type": "code",
      "source": [
        "a = {\n",
        "  \"brand\": \"Ford\",\n",
        "  \"electric\": False,\n",
        "  \"year\": 1964,\n",
        "  \"colors\": [\"red\", \"white\", \"blue\"]\n",
        "}\n",
        "print(a)   #it accepts any value like string,boolean,int,list.\n"
      ],
      "metadata": {
        "colab": {
          "base_uri": "https://localhost:8080/"
        },
        "id": "I7KlluTZfFmf",
        "outputId": "8f363c00-623b-4610-de96-d9a7951278aa"
      },
      "execution_count": 14,
      "outputs": [
        {
          "output_type": "stream",
          "name": "stdout",
          "text": [
            "{'brand': 'Ford', 'electric': False, 'year': 1964, 'colors': ['red', 'white', 'blue']}\n"
          ]
        }
      ]
    },
    {
      "cell_type": "code",
      "source": [
        ""
      ],
      "metadata": {
        "id": "_DugbM6uggrH"
      },
      "execution_count": null,
      "outputs": []
    }
  ]
}